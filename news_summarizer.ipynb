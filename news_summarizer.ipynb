{
 "cells": [
  {
   "cell_type": "markdown",
   "id": "ordinary-labor",
   "metadata": {
    "id": "right-gravity"
   },
   "source": [
    "# **뉴스 기사 요약**\n",
    "\n",
    "- [뉴스 기사 데이터](https://github.com/sunnysai12345/News_Summary)\n",
    "\n",
    "### 목차\n",
    "\n",
    "1. [데이터 로드](#데이터-로드)\n",
    "2. [데이터 전처리](#데이터-전처리)\n",
    "3. [Encoder&Decoder 생성](#Encoder&Decoder-생성)\n",
    "4. [Train, test dataset split](#Train,-test-dataset-split)\n",
    "5. [패딩 추가](#패딩-추가)\n",
    "6. [모델 설계: seq2seq + Attention](#모델-설계:-seq2seq-+-Attention)\n",
    "7. [모델 학습](#모델-학습)\n",
    "8. [모델 검증, 성능 확인](#모델-검증,-성능-확인)"
   ]
  },
  {
   "cell_type": "markdown",
   "id": "later-invite",
   "metadata": {
    "id": "comparable-battle"
   },
   "source": [
    "## 이론 정리\n",
    "\n",
    "텍스트 요약이란 긴 길이의 문서 원문을 핵심 주제만으로 구성된 짧은 요약 문장들로 변환하는 것을 말한다.\n",
    "\n",
    "- 핵심은 요약 전후 정보 소실을 최소화하는 것!\n",
    "- 방법 1: 추출 요약 Extractive Summarization\n",
    "- 방법 2: 추상 요약 Abstractive Summarization"
   ]
  },
  {
   "cell_type": "markdown",
   "id": "premier-abortion",
   "metadata": {
    "id": "infectious-advancement"
   },
   "source": [
    "### 추출 요약\n",
    "\n",
    "- 예를 들어 10개의 전체 문장에서 핵심적인 3개 문장을 꺼내오는 방식\n",
    "- 문장 분류라고도 볼 수 있다. Text Classification\n",
    "- 그러나 문장 연결이 자연스럽지 않을 수도 있다.\n",
    "- TextRank 같은 머신러닝 알고리즘을 이용한다.\n",
    "- 예: 네이버 뉴스 요약봇"
   ]
  },
  {
   "cell_type": "markdown",
   "id": "universal-catalog",
   "metadata": {
    "id": "hungry-adolescent"
   },
   "source": [
    "### 추상 요약\n",
    "\n",
    "- 원문 내용을 요약한 새로운 문장을 생성한다.\n",
    "- 자연어 생성 Natural Language Generation, NLG 영역\n",
    "- RNN을 이용할 수도 있지만, 단점은 학습 데이터의 길이가 길어질수록 먼 과거의 정보를 현재에 전달하기 어렵다는 것.\n",
    "- 즉 이러한 장기 의존성(Long term dependencies) 문제를 해결하기 위해 LSTM과 GRU가 등장했고, 이마저도 부족해서 어텐션 메커니즘이 등장했다."
   ]
  },
  {
   "cell_type": "markdown",
   "id": "herbal-drill",
   "metadata": {
    "id": "seven-investing"
   },
   "source": [
    "### seq2seq(sequence-to-sequence)\n",
    "\n",
    "- 요약문을 생성하는 모델을 딥러닝을 통해 end-to-end로 설계하도록 한다.\n",
    "- 구글이 메일 서비스에 적용한 자동 회식 기능과 비슷한 기법\n",
    "- 인코더와 디코더의 구조로 구성된 딥러닝 아키텍처"
   ]
  },
  {
   "cell_type": "markdown",
   "id": "radio-worker",
   "metadata": {
    "id": "everyday-syntax"
   },
   "source": [
    "### seq2seq 모델로 Abstractive 요약 방식의 텍스트 요약기\n",
    "\n",
    "- seq2seq은 RNN 아키텍처 2개를 사용해서 입력 시퀀스로부터 출력 시퀀스를 생성해낸다.\n",
    "- 주로 뉴럴 기계번역에 사용되는 모델\n",
    "- 원문을 첫 번째 RNN인 인코더로 입력하면, 인코더는 이를 하나의 고정된 벡터로 변환하고, 이 벡터를 문맥 정보를 가지고 있는 벡터로 하여 컨텐스트 벡터라고 한다.\n",
    "- 두 번째 RNN인 디코더는 이 컨텍스트 벡터를 전달 받아 한 단어씩 생성해내서 요약 문장을 완성한다.\n",
    "\n",
    "![image](https://user-images.githubusercontent.com/80008411/139969595-32c24db0-6396-4988-848a-2aa8e66b3e83.png)\n"
   ]
  },
  {
   "cell_type": "markdown",
   "id": "experimental-methodology",
   "metadata": {
    "id": "front-party"
   },
   "source": [
    "### LSTM과 바닐라 RNN의 차이\n",
    "\n",
    "- 다음 time step의 셀에 hidden state뿐만 아니라, cell state도 함께 전달한다는 점\n",
    "- 다시 말해, 인코더가 디코더에 전달하는 컨텍스트 벡터 또한 hidden state h와 cell state c 두개의 값 모두 존재해야 한다.\n",
    "\n",
    "\n",
    "![image](https://user-images.githubusercontent.com/80008411/139969626-08714992-7303-4775-8e6a-43ad6f08211f.png)\n"
   ]
  },
  {
   "cell_type": "markdown",
   "id": "mature-quality",
   "metadata": {
    "id": "8RKBwFyPOVvV"
   },
   "source": [
    "# **구현**"
   ]
  },
  {
   "cell_type": "code",
   "execution_count": 1,
   "id": "brown-footage",
   "metadata": {
    "colab": {
     "base_uri": "https://localhost:8080/"
    },
    "id": "floppy-latest",
    "outputId": "55911a43-1a6e-485f-fd69-29537abb3887"
   },
   "outputs": [
    {
     "name": "stderr",
     "output_type": "stream",
     "text": [
      "[nltk_data] Downloading package stopwords to /aiffel/nltk_data...\n",
      "[nltk_data]   Package stopwords is already up-to-date!\n"
     ]
    }
   ],
   "source": [
    "# basic libraries\n",
    "import os\n",
    "import re\n",
    "import time\n",
    "import urllib.request\n",
    "urllib.request.urlretrieve(\"https://raw.githubusercontent.com/thushv89/attention_keras/master/src/layers/attention.py\", filename=\"attention.py\")\n",
    "import requests\n",
    "import warnings\n",
    "warnings.filterwarnings(action='ignore')\n",
    "\n",
    "from bs4 import BeautifulSoup\n",
    "\n",
    "import numpy as np\n",
    "import pandas as pd\n",
    "import matplotlib.pyplot as plt\n",
    "%matplotlib inline\n",
    "\n",
    "import multiprocessing as mp\n",
    "from multiprocessing import Pool\n",
    "from functools import partial\n",
    "\n",
    "# for prepreocessing\n",
    "import nltk\n",
    "nltk.download('stopwords')\n",
    "from nltk.corpus import stopwords\n",
    "from tensorflow.keras.preprocessing.text import Tokenizer\n",
    "from tensorflow.keras.preprocessing.sequence import pad_sequences\n",
    "\n",
    "# for modeling & training\n",
    "import tensorflow as tf\n",
    "from sklearn.model_selection import train_test_split\n",
    "from keras.utils.vis_utils import plot_model\n",
    "from attention import AttentionLayer\n",
    "from summa.summarizer import summarize\n",
    "from tensorflow.keras.layers import Input, LSTM, Embedding, Dense, Concatenate\n",
    "from tensorflow.keras.models import Model\n",
    "from tensorflow.keras.callbacks import EarlyStopping, ModelCheckpoint\n",
    "from tensorflow.python.framework.ops import disable_eager_execution\n",
    "disable_eager_execution()"
   ]
  },
  {
   "cell_type": "markdown",
   "id": "adult-remains",
   "metadata": {
    "id": "surface-poker"
   },
   "source": [
    "## 데이터 로드"
   ]
  },
  {
   "cell_type": "code",
   "execution_count": 2,
   "id": "successful-driving",
   "metadata": {
    "id": "offshore-range"
   },
   "outputs": [],
   "source": [
    "# 데이터 로드\n",
    "urllib.request.urlretrieve(\"https://raw.githubusercontent.com/sunnysai12345/News_Summary/master/news_summary_more.csv\", filename=\"news_summary_more.csv\")\n",
    "data = pd.read_csv('news_summary_more.csv', encoding='iso-8859-1')"
   ]
  },
  {
   "cell_type": "code",
   "execution_count": 3,
   "id": "athletic-equation",
   "metadata": {
    "colab": {
     "base_uri": "https://localhost:8080/",
     "height": 359
    },
    "id": "unsigned-fourth",
    "outputId": "a01fdc64-23e5-45f6-96d6-81d5cb035699"
   },
   "outputs": [
    {
     "data": {
      "text/html": [
       "<div>\n",
       "<style scoped>\n",
       "    .dataframe tbody tr th:only-of-type {\n",
       "        vertical-align: middle;\n",
       "    }\n",
       "\n",
       "    .dataframe tbody tr th {\n",
       "        vertical-align: top;\n",
       "    }\n",
       "\n",
       "    .dataframe thead th {\n",
       "        text-align: right;\n",
       "    }\n",
       "</style>\n",
       "<table border=\"1\" class=\"dataframe\">\n",
       "  <thead>\n",
       "    <tr style=\"text-align: right;\">\n",
       "      <th></th>\n",
       "      <th>headlines</th>\n",
       "      <th>text</th>\n",
       "    </tr>\n",
       "  </thead>\n",
       "  <tbody>\n",
       "    <tr>\n",
       "      <th>84256</th>\n",
       "      <td>Veteran actor Amrit Pal passes away aged 76</td>\n",
       "      <td>Veteran actor Amrit Pal passed away aged 76 on...</td>\n",
       "    </tr>\n",
       "    <tr>\n",
       "      <th>5730</th>\n",
       "      <td>PMO takes note of 'land mafia' threats to Dili...</td>\n",
       "      <td>The Prime Minister's Office (PMO) has taken no...</td>\n",
       "    </tr>\n",
       "    <tr>\n",
       "      <th>74145</th>\n",
       "      <td>Saudi man divorces wife for walking ahead: Rep...</td>\n",
       "      <td>A Saudi man has divorced his wife for walking ...</td>\n",
       "    </tr>\n",
       "    <tr>\n",
       "      <th>17119</th>\n",
       "      <td>Vodafone &amp; Idea come together to create IndiaÃ...</td>\n",
       "      <td>Vodafone India and Idea Cellular have come tog...</td>\n",
       "    </tr>\n",
       "    <tr>\n",
       "      <th>15872</th>\n",
       "      <td>Better to be unique than best: SC Judge on Aad...</td>\n",
       "      <td>Reading out his verdict on Aadhaar's constitut...</td>\n",
       "    </tr>\n",
       "    <tr>\n",
       "      <th>25889</th>\n",
       "      <td>Man City to get Ã¢ÂÂ¹35 crore due to its play...</td>\n",
       "      <td>English Premier League champions Manchester Ci...</td>\n",
       "    </tr>\n",
       "    <tr>\n",
       "      <th>3739</th>\n",
       "      <td>11-year-old girl's body found, minor uncle acc...</td>\n",
       "      <td>The body of an 11-year-old girl was found in t...</td>\n",
       "    </tr>\n",
       "    <tr>\n",
       "      <th>60781</th>\n",
       "      <td>Hyperloop-inspired startup to build test track...</td>\n",
       "      <td>Hyperloop-inspired transportation startup Arri...</td>\n",
       "    </tr>\n",
       "    <tr>\n",
       "      <th>47617</th>\n",
       "      <td>Illegal registration of properties way of life...</td>\n",
       "      <td>Illegal registration of commercial properties ...</td>\n",
       "    </tr>\n",
       "    <tr>\n",
       "      <th>452</th>\n",
       "      <td>Ambedkar was given Bharat Ratna out of compuls...</td>\n",
       "      <td>AIMIM chief Asaduddin Owaisi on Sunday said, \"...</td>\n",
       "    </tr>\n",
       "  </tbody>\n",
       "</table>\n",
       "</div>"
      ],
      "text/plain": [
       "                                               headlines  \\\n",
       "84256        Veteran actor Amrit Pal passes away aged 76   \n",
       "5730   PMO takes note of 'land mafia' threats to Dili...   \n",
       "74145  Saudi man divorces wife for walking ahead: Rep...   \n",
       "17119  Vodafone & Idea come together to create IndiaÃ...   \n",
       "15872  Better to be unique than best: SC Judge on Aad...   \n",
       "25889  Man City to get Ã¢ÂÂ¹35 crore due to its play...   \n",
       "3739   11-year-old girl's body found, minor uncle acc...   \n",
       "60781  Hyperloop-inspired startup to build test track...   \n",
       "47617  Illegal registration of properties way of life...   \n",
       "452    Ambedkar was given Bharat Ratna out of compuls...   \n",
       "\n",
       "                                                    text  \n",
       "84256  Veteran actor Amrit Pal passed away aged 76 on...  \n",
       "5730   The Prime Minister's Office (PMO) has taken no...  \n",
       "74145  A Saudi man has divorced his wife for walking ...  \n",
       "17119  Vodafone India and Idea Cellular have come tog...  \n",
       "15872  Reading out his verdict on Aadhaar's constitut...  \n",
       "25889  English Premier League champions Manchester Ci...  \n",
       "3739   The body of an 11-year-old girl was found in t...  \n",
       "60781  Hyperloop-inspired transportation startup Arri...  \n",
       "47617  Illegal registration of commercial properties ...  \n",
       "452    AIMIM chief Asaduddin Owaisi on Sunday said, \"...  "
      ]
     },
     "execution_count": 3,
     "metadata": {},
     "output_type": "execute_result"
    }
   ],
   "source": [
    "data.sample(10)"
   ]
  },
  {
   "cell_type": "markdown",
   "id": "ethical-savings",
   "metadata": {
    "id": "billion-novelty"
   },
   "source": [
    "## 데이터 전처리\n",
    "\n",
    "- 1) 중복값, 결측치 처리\n",
    "- 2) 텍스트 정규화\n",
    "    - 불용어 제거는 하지 않는다.\n",
    "- 3) 소문자 변환, 특수 문자 제거\n",
    "- 4) 문장 최대 길이 설정"
   ]
  },
  {
   "cell_type": "code",
   "execution_count": 4,
   "id": "russian-novel",
   "metadata": {
    "colab": {
     "base_uri": "https://localhost:8080/",
     "height": 173
    },
    "id": "female-hormone",
    "outputId": "85c2af28-5c84-4fe8-ea4e-3db7ad5c73dd"
   },
   "outputs": [
    {
     "data": {
      "text/html": [
       "<div>\n",
       "<style scoped>\n",
       "    .dataframe tbody tr th:only-of-type {\n",
       "        vertical-align: middle;\n",
       "    }\n",
       "\n",
       "    .dataframe tbody tr th {\n",
       "        vertical-align: top;\n",
       "    }\n",
       "\n",
       "    .dataframe thead th {\n",
       "        text-align: right;\n",
       "    }\n",
       "</style>\n",
       "<table border=\"1\" class=\"dataframe\">\n",
       "  <thead>\n",
       "    <tr style=\"text-align: right;\">\n",
       "      <th></th>\n",
       "      <th>headlines</th>\n",
       "      <th>text</th>\n",
       "    </tr>\n",
       "  </thead>\n",
       "  <tbody>\n",
       "    <tr>\n",
       "      <th>count</th>\n",
       "      <td>98401</td>\n",
       "      <td>98401</td>\n",
       "    </tr>\n",
       "    <tr>\n",
       "      <th>unique</th>\n",
       "      <td>98280</td>\n",
       "      <td>98360</td>\n",
       "    </tr>\n",
       "    <tr>\n",
       "      <th>top</th>\n",
       "      <td>Don Bradman once scored 100 runs in 3 overs</td>\n",
       "      <td>Safeguard yourself against life's unpleasant s...</td>\n",
       "    </tr>\n",
       "    <tr>\n",
       "      <th>freq</th>\n",
       "      <td>3</td>\n",
       "      <td>2</td>\n",
       "    </tr>\n",
       "  </tbody>\n",
       "</table>\n",
       "</div>"
      ],
      "text/plain": [
       "                                          headlines  \\\n",
       "count                                         98401   \n",
       "unique                                        98280   \n",
       "top     Don Bradman once scored 100 runs in 3 overs   \n",
       "freq                                              3   \n",
       "\n",
       "                                                     text  \n",
       "count                                               98401  \n",
       "unique                                              98360  \n",
       "top     Safeguard yourself against life's unpleasant s...  \n",
       "freq                                                    2  "
      ]
     },
     "execution_count": 4,
     "metadata": {},
     "output_type": "execute_result"
    }
   ],
   "source": [
    "data.describe()"
   ]
  },
  {
   "cell_type": "code",
   "execution_count": 5,
   "id": "distant-ridge",
   "metadata": {
    "colab": {
     "base_uri": "https://localhost:8080/",
     "height": 173
    },
    "id": "graphic-elimination",
    "outputId": "9e5cb066-0d3d-4833-81f5-9deb57da13a7"
   },
   "outputs": [
    {
     "data": {
      "text/html": [
       "<div>\n",
       "<style scoped>\n",
       "    .dataframe tbody tr th:only-of-type {\n",
       "        vertical-align: middle;\n",
       "    }\n",
       "\n",
       "    .dataframe tbody tr th {\n",
       "        vertical-align: top;\n",
       "    }\n",
       "\n",
       "    .dataframe thead th {\n",
       "        text-align: right;\n",
       "    }\n",
       "</style>\n",
       "<table border=\"1\" class=\"dataframe\">\n",
       "  <thead>\n",
       "    <tr style=\"text-align: right;\">\n",
       "      <th></th>\n",
       "      <th>headlines</th>\n",
       "      <th>text</th>\n",
       "    </tr>\n",
       "  </thead>\n",
       "  <tbody>\n",
       "    <tr>\n",
       "      <th>count</th>\n",
       "      <td>98360</td>\n",
       "      <td>98360</td>\n",
       "    </tr>\n",
       "    <tr>\n",
       "      <th>unique</th>\n",
       "      <td>98262</td>\n",
       "      <td>98360</td>\n",
       "    </tr>\n",
       "    <tr>\n",
       "      <th>top</th>\n",
       "      <td>Don Bradman once scored 100 runs in 3 overs</td>\n",
       "      <td>Lt General (Retd) DS Hooda, who oversaw the 20...</td>\n",
       "    </tr>\n",
       "    <tr>\n",
       "      <th>freq</th>\n",
       "      <td>3</td>\n",
       "      <td>1</td>\n",
       "    </tr>\n",
       "  </tbody>\n",
       "</table>\n",
       "</div>"
      ],
      "text/plain": [
       "                                          headlines  \\\n",
       "count                                         98360   \n",
       "unique                                        98262   \n",
       "top     Don Bradman once scored 100 runs in 3 overs   \n",
       "freq                                              3   \n",
       "\n",
       "                                                     text  \n",
       "count                                               98360  \n",
       "unique                                              98360  \n",
       "top     Lt General (Retd) DS Hooda, who oversaw the 20...  \n",
       "freq                                                    1  "
      ]
     },
     "execution_count": 5,
     "metadata": {},
     "output_type": "execute_result"
    }
   ],
   "source": [
    "# text 중복 제거\n",
    "data.drop_duplicates(subset=['text'], inplace=True)\n",
    "\n",
    "data.describe()"
   ]
  },
  {
   "cell_type": "code",
   "execution_count": 6,
   "id": "infectious-permission",
   "metadata": {
    "colab": {
     "base_uri": "https://localhost:8080/"
    },
    "id": "affiliated-florence",
    "outputId": "462ce262-40a1-4590-cb5f-13c4abd9489f"
   },
   "outputs": [
    {
     "data": {
      "text/plain": [
       "headlines    0\n",
       "text         0\n",
       "dtype: int64"
      ]
     },
     "execution_count": 6,
     "metadata": {},
     "output_type": "execute_result"
    }
   ],
   "source": [
    "# 결측치 확인\n",
    "data.isnull().sum()"
   ]
  },
  {
   "cell_type": "markdown",
   "id": "fluid-central",
   "metadata": {
    "id": "hollow-marriage"
   },
   "source": [
    "### 텍스트 정규화"
   ]
  },
  {
   "cell_type": "code",
   "execution_count": 7,
   "id": "continental-findings",
   "metadata": {
    "colab": {
     "base_uri": "https://localhost:8080/"
    },
    "id": "portuguese-incidence",
    "outputId": "2a5c02b9-276b-4dff-b054-0576b0e868d6"
   },
   "outputs": [
    {
     "name": "stdout",
     "output_type": "stream",
     "text": [
      "정규화 사전의 수:  120\n"
     ]
    }
   ],
   "source": [
    "# 정규화 사전\n",
    "contractions = {\"ain't\": \"is not\", \"aren't\": \"are not\",\"can't\": \"cannot\", \"'cause\": \"because\", \"could've\": \"could have\", \"couldn't\": \"could not\",\n",
    "                           \"didn't\": \"did not\",  \"doesn't\": \"does not\", \"don't\": \"do not\", \"hadn't\": \"had not\", \"hasn't\": \"has not\", \"haven't\": \"have not\",\n",
    "                           \"he'd\": \"he would\",\"he'll\": \"he will\", \"he's\": \"he is\", \"how'd\": \"how did\", \"how'd'y\": \"how do you\", \"how'll\": \"how will\", \"how's\": \"how is\",\n",
    "                           \"I'd\": \"I would\", \"I'd've\": \"I would have\", \"I'll\": \"I will\", \"I'll've\": \"I will have\",\"I'm\": \"I am\", \"I've\": \"I have\", \"i'd\": \"i would\",\n",
    "                           \"i'd've\": \"i would have\", \"i'll\": \"i will\",  \"i'll've\": \"i will have\",\"i'm\": \"i am\", \"i've\": \"i have\", \"isn't\": \"is not\", \"it'd\": \"it would\",\n",
    "                           \"it'd've\": \"it would have\", \"it'll\": \"it will\", \"it'll've\": \"it will have\",\"it's\": \"it is\", \"let's\": \"let us\", \"ma'am\": \"madam\",\n",
    "                           \"mayn't\": \"may not\", \"might've\": \"might have\",\"mightn't\": \"might not\",\"mightn't've\": \"might not have\", \"must've\": \"must have\",\n",
    "                           \"mustn't\": \"must not\", \"mustn't've\": \"must not have\", \"needn't\": \"need not\", \"needn't've\": \"need not have\",\"o'clock\": \"of the clock\",\n",
    "                           \"oughtn't\": \"ought not\", \"oughtn't've\": \"ought not have\", \"shan't\": \"shall not\", \"sha'n't\": \"shall not\", \"shan't've\": \"shall not have\",\n",
    "                           \"she'd\": \"she would\", \"she'd've\": \"she would have\", \"she'll\": \"she will\", \"she'll've\": \"she will have\", \"she's\": \"she is\",\n",
    "                           \"should've\": \"should have\", \"shouldn't\": \"should not\", \"shouldn't've\": \"should not have\", \"so've\": \"so have\",\"so's\": \"so as\",\n",
    "                           \"this's\": \"this is\",\"that'd\": \"that would\", \"that'd've\": \"that would have\", \"that's\": \"that is\", \"there'd\": \"there would\",\n",
    "                           \"there'd've\": \"there would have\", \"there's\": \"there is\", \"here's\": \"here is\",\"they'd\": \"they would\", \"they'd've\": \"they would have\",\n",
    "                           \"they'll\": \"they will\", \"they'll've\": \"they will have\", \"they're\": \"they are\", \"they've\": \"they have\", \"to've\": \"to have\",\n",
    "                           \"wasn't\": \"was not\", \"we'd\": \"we would\", \"we'd've\": \"we would have\", \"we'll\": \"we will\", \"we'll've\": \"we will have\", \"we're\": \"we are\",\n",
    "                           \"we've\": \"we have\", \"weren't\": \"were not\", \"what'll\": \"what will\", \"what'll've\": \"what will have\", \"what're\": \"what are\",\n",
    "                           \"what's\": \"what is\", \"what've\": \"what have\", \"when's\": \"when is\", \"when've\": \"when have\", \"where'd\": \"where did\", \"where's\": \"where is\",\n",
    "                           \"where've\": \"where have\", \"who'll\": \"who will\", \"who'll've\": \"who will have\", \"who's\": \"who is\", \"who've\": \"who have\",\n",
    "                           \"why's\": \"why is\", \"why've\": \"why have\", \"will've\": \"will have\", \"won't\": \"will not\", \"won't've\": \"will not have\",\n",
    "                           \"would've\": \"would have\", \"wouldn't\": \"would not\", \"wouldn't've\": \"would not have\", \"y'all\": \"you all\",\n",
    "                           \"y'all'd\": \"you all would\",\"y'all'd've\": \"you all would have\",\"y'all're\": \"you all are\",\"y'all've\": \"you all have\",\n",
    "                           \"you'd\": \"you would\", \"you'd've\": \"you would have\", \"you'll\": \"you will\", \"you'll've\": \"you will have\",\n",
    "                           \"you're\": \"you are\", \"you've\": \"you have\"}\n",
    "\n",
    "print(\"정규화 사전의 수: \", len(contractions))"
   ]
  },
  {
   "cell_type": "code",
   "execution_count": 8,
   "id": "suspected-fifty",
   "metadata": {
    "id": "active-charger"
   },
   "outputs": [],
   "source": [
    "# 불용어 리스트\n",
    "# 사용하지 않음\n",
    "# print('불용어 개수 :', len(stopwords.words('english') ))\n",
    "# print(stopwords.words('english'))"
   ]
  },
  {
   "cell_type": "markdown",
   "id": "protecting-circle",
   "metadata": {
    "id": "gorgeous-mileage"
   },
   "source": [
    "### 소문자 변환, 특수문자 제거"
   ]
  },
  {
   "cell_type": "code",
   "execution_count": 9,
   "id": "lined-garage",
   "metadata": {
    "id": "exclusive-serial"
   },
   "outputs": [],
   "source": [
    "# 데이터 전처리 함수\n",
    "def preprocess_sentence(sentence, remove_stopwords=False):\n",
    "    sentence = sentence.lower() # 텍스트 소문자화\n",
    "    sentence = re.sub(r'\\([^)]*\\)', '', sentence) # 괄호로 닫힌 문자열 (...) 제거 Ex) my husband (and myself!) for => my husband for\n",
    "    sentence = re.sub('\"','', sentence) # 쌍따옴표 \" 제거\n",
    "    sentence = re.sub(\"'\",'', sentence) # 따옴표 ' 제거\n",
    "    sentence = ' '.join([contractions[t] if t in contractions else t for t in sentence.split(\" \")]) # 약어 정규화\n",
    "    sentence = re.sub(r\"'s\\b\",\"\", sentence) # 소유격 제거. Ex) roland's -> roland\n",
    "    sentence = re.sub(\"[^a-zA-Z]\", \" \", sentence) # 영어 외 문자(숫자, 특수문자 등) 공백으로 변환\n",
    "    \n",
    "    # 불용어 제거 시\n",
    "    if remove_stopwords:\n",
    "        tokens = ' '.join(word for word in sentence.split() if not word in stopwords.words('english') if len(word) > 1)\n",
    "    # 불용어 미제거 시(default)\n",
    "    else:\n",
    "        tokens = ' '.join(word for word in sentence.split())\n",
    "    return tokens"
   ]
  },
  {
   "cell_type": "code",
   "execution_count": 10,
   "id": "olive-sunday",
   "metadata": {
    "colab": {
     "base_uri": "https://localhost:8080/"
    },
    "id": "declared-finder",
    "outputId": "00479722-6f61-4c39-86ff-8eefe034cbee",
    "scrolled": true
   },
   "outputs": [
    {
     "name": "stdout",
     "output_type": "stream",
     "text": [
      "everything i bought was great infact i ordered twice and the third ordered was br for my mother and father\n",
      "great way to start the day\n"
     ]
    }
   ],
   "source": [
    "# 전처리 함수 test\n",
    "temp_text = 'Everything I bought was great, infact I ordered twice and the third ordered was<br />for my mother and father.'\n",
    "temp_summary = 'Great way to start (or finish) the day!!!'\n",
    "\n",
    "# 불용어를 제거하지 않습니다.\n",
    "print(preprocess_sentence(temp_text))\n",
    "print(preprocess_sentence(temp_summary))  "
   ]
  },
  {
   "cell_type": "code",
   "execution_count": 11,
   "id": "macro-peripheral",
   "metadata": {
    "id": "registered-affair"
   },
   "outputs": [],
   "source": [
    "start = time.time()\n",
    "\n",
    "# num_cores 만큼 쪼개진 데이터를 전처리하여 반환\n",
    "def appendTexts(sentences, remove_stopwords=False):\n",
    "    texts = []\n",
    "    for s in sentences:\n",
    "        texts.append(preprocess_sentence(s))\n",
    "    return texts\n",
    "\n",
    "\n",
    "def preprocess_data(data, remove_stopwords=False):\n",
    "    start_time = time.time()\n",
    "    \n",
    "    # 컴퓨터의 코어 수를 구합니다\n",
    "    num_cores = mp.cpu_count()  \n",
    "\n",
    "    # 코어 수만큼 데이터를 배분하여 병렬적으로 처리할 수 있게 합니다\n",
    "    text_data_split = np.array_split(data, num_cores) \n",
    "    pool = Pool(num_cores)\n",
    "\n",
    "    # 각자 작업한 데이터를 하나로 합쳐줍니다\n",
    "    processed_data = np.concatenate(pool.map(partial(appendTexts), text_data_split))\n",
    "    pool.close()\n",
    "    pool.join()\n",
    "    \n",
    "    print(time.time() - start_time, \" seconds\")\n",
    "    return processed_data"
   ]
  },
  {
   "cell_type": "code",
   "execution_count": 12,
   "id": "diagnostic-designation",
   "metadata": {
    "colab": {
     "base_uri": "https://localhost:8080/"
    },
    "id": "external-composition",
    "outputId": "556f5289-3f9c-4580-84f3-b225bbe6e738"
   },
   "outputs": [
    {
     "name": "stdout",
     "output_type": "stream",
     "text": [
      "1.7487173080444336  seconds\n",
      "['saurav kant an alumnus of upgrad and iiit bs pg program in machine learning and artificial intelligence was a sr systems engineer at infosys with almost years of work experience the program and upgrads degree career support helped him transition to a data scientist at tech mahindra with salary hike upgrads online power learning has powered lakh careers'\n",
      " 'kunal shahs credit card bill payment platform cred gave users a chance to win free food from swiggy for one year pranav kaushik a delhi techie bagged this reward after spending cred coins users get one cred coin per rupee of bill paid which can be used to avail rewards from brands like ixigo bookmyshow ubereats cult fit and more'\n",
      " 'new zealand defeated india by wickets in the fourth odi at hamilton on thursday to win their first match of the five match odi series india lost an international match under rohit sharmas captaincy after consecutive victories dating back to march the match witnessed india getting all out for their seventh lowest total in odi cricket history'\n",
      " ...\n",
      " 'according to reports a new version of the science fiction film the matrix is in development michael b jordan will reportedly play the lead role in the film screenwriter zak penn is in talks to write the script of the film reports added actor keanu reeves starred in the original film which was followed by two sequels'\n",
      " 'a new music video shows rapper snoop dogg aiming a toy gun at a clown character parodying us president donald trump the video also shows a tv airing a news conference with the headline ronald klump wants to deport all doggs airing live from the clown house the video is for a remixed version of the song lavender'\n",
      " 'madhesi morcha an alliance of seven political parties has withdrawn support to pm pushpa kamal dahal led nepal government after it failed to meet a seven day ultimatum to fulfil their demands including endorsement for the revised constitution amendment bill the morcha has seats in the parliament but despite the withdrawal of support there is no immediate threat to the government']\n",
      "0.5879061222076416  seconds\n",
      "['upgrad learner switches to career in ml al with salary hike'\n",
      " 'delhi techie wins free food from swiggy for one year on cred'\n",
      " 'new zealand end rohit sharma led indias match winning streak' ...\n",
      " 'the matrix film to get a reboot reports'\n",
      " 'snoop dogg aims gun at clown dressed as trump in new video'\n",
      " 'madhesi morcha withdraws support to nepalese government']\n"
     ]
    }
   ],
   "source": [
    "clean_text = preprocess_data(data['text'])\n",
    "print(clean_text)\n",
    "\n",
    "clean_summary = preprocess_data(data['headlines'])\n",
    "print(clean_summary)"
   ]
  },
  {
   "cell_type": "code",
   "execution_count": 13,
   "id": "forty-blogger",
   "metadata": {
    "colab": {
     "base_uri": "https://localhost:8080/",
     "height": 204
    },
    "id": "fourth-marshall",
    "outputId": "42375de3-2d4a-421a-ce41-00ddf49fd8f8"
   },
   "outputs": [
    {
     "data": {
      "text/html": [
       "<div>\n",
       "<style scoped>\n",
       "    .dataframe tbody tr th:only-of-type {\n",
       "        vertical-align: middle;\n",
       "    }\n",
       "\n",
       "    .dataframe tbody tr th {\n",
       "        vertical-align: top;\n",
       "    }\n",
       "\n",
       "    .dataframe thead th {\n",
       "        text-align: right;\n",
       "    }\n",
       "</style>\n",
       "<table border=\"1\" class=\"dataframe\">\n",
       "  <thead>\n",
       "    <tr style=\"text-align: right;\">\n",
       "      <th></th>\n",
       "      <th>headlines</th>\n",
       "      <th>text</th>\n",
       "    </tr>\n",
       "  </thead>\n",
       "  <tbody>\n",
       "    <tr>\n",
       "      <th>0</th>\n",
       "      <td>upgrad learner switches to career in ml al wit...</td>\n",
       "      <td>saurav kant an alumnus of upgrad and iiit bs p...</td>\n",
       "    </tr>\n",
       "    <tr>\n",
       "      <th>1</th>\n",
       "      <td>delhi techie wins free food from swiggy for on...</td>\n",
       "      <td>kunal shahs credit card bill payment platform ...</td>\n",
       "    </tr>\n",
       "    <tr>\n",
       "      <th>2</th>\n",
       "      <td>new zealand end rohit sharma led indias match ...</td>\n",
       "      <td>new zealand defeated india by wickets in the f...</td>\n",
       "    </tr>\n",
       "    <tr>\n",
       "      <th>3</th>\n",
       "      <td>aegon life iterm insurance plan helps customer...</td>\n",
       "      <td>with aegon life iterm insurance plan customers...</td>\n",
       "    </tr>\n",
       "    <tr>\n",
       "      <th>4</th>\n",
       "      <td>have known hirani for yrs what if metoo claims...</td>\n",
       "      <td>speaking about the sexual harassment allegatio...</td>\n",
       "    </tr>\n",
       "  </tbody>\n",
       "</table>\n",
       "</div>"
      ],
      "text/plain": [
       "                                           headlines  \\\n",
       "0  upgrad learner switches to career in ml al wit...   \n",
       "1  delhi techie wins free food from swiggy for on...   \n",
       "2  new zealand end rohit sharma led indias match ...   \n",
       "3  aegon life iterm insurance plan helps customer...   \n",
       "4  have known hirani for yrs what if metoo claims...   \n",
       "\n",
       "                                                text  \n",
       "0  saurav kant an alumnus of upgrad and iiit bs p...  \n",
       "1  kunal shahs credit card bill payment platform ...  \n",
       "2  new zealand defeated india by wickets in the f...  \n",
       "3  with aegon life iterm insurance plan customers...  \n",
       "4  speaking about the sexual harassment allegatio...  "
      ]
     },
     "execution_count": 13,
     "metadata": {},
     "output_type": "execute_result"
    }
   ],
   "source": [
    "data['text'] = clean_text\n",
    "data['headlines'] = clean_summary\n",
    "\n",
    "data.head()"
   ]
  },
  {
   "cell_type": "code",
   "execution_count": 14,
   "id": "experimental-iceland",
   "metadata": {
    "colab": {
     "base_uri": "https://localhost:8080/",
     "height": 173
    },
    "id": "fitted-fifteen",
    "outputId": "d9c4bf39-d2fb-4604-fe5e-2b2f27bf5f85"
   },
   "outputs": [
    {
     "data": {
      "text/html": [
       "<div>\n",
       "<style scoped>\n",
       "    .dataframe tbody tr th:only-of-type {\n",
       "        vertical-align: middle;\n",
       "    }\n",
       "\n",
       "    .dataframe tbody tr th {\n",
       "        vertical-align: top;\n",
       "    }\n",
       "\n",
       "    .dataframe thead th {\n",
       "        text-align: right;\n",
       "    }\n",
       "</style>\n",
       "<table border=\"1\" class=\"dataframe\">\n",
       "  <thead>\n",
       "    <tr style=\"text-align: right;\">\n",
       "      <th></th>\n",
       "      <th>headlines</th>\n",
       "      <th>text</th>\n",
       "    </tr>\n",
       "  </thead>\n",
       "  <tbody>\n",
       "    <tr>\n",
       "      <th>count</th>\n",
       "      <td>98360</td>\n",
       "      <td>98360</td>\n",
       "    </tr>\n",
       "    <tr>\n",
       "      <th>unique</th>\n",
       "      <td>98170</td>\n",
       "      <td>98330</td>\n",
       "    </tr>\n",
       "    <tr>\n",
       "      <th>top</th>\n",
       "      <td>worlds richest people lose billion in one day</td>\n",
       "      <td>real madrid defeated barcelona in an el clasic...</td>\n",
       "    </tr>\n",
       "    <tr>\n",
       "      <th>freq</th>\n",
       "      <td>4</td>\n",
       "      <td>2</td>\n",
       "    </tr>\n",
       "  </tbody>\n",
       "</table>\n",
       "</div>"
      ],
      "text/plain": [
       "                                            headlines  \\\n",
       "count                                           98360   \n",
       "unique                                          98170   \n",
       "top     worlds richest people lose billion in one day   \n",
       "freq                                                4   \n",
       "\n",
       "                                                     text  \n",
       "count                                               98360  \n",
       "unique                                              98330  \n",
       "top     real madrid defeated barcelona in an el clasic...  \n",
       "freq                                                    2  "
      ]
     },
     "execution_count": 14,
     "metadata": {},
     "output_type": "execute_result"
    }
   ],
   "source": [
    "data.describe()"
   ]
  },
  {
   "cell_type": "markdown",
   "id": "engaging-bullet",
   "metadata": {
    "id": "minor-portrait"
   },
   "source": [
    "### 한번 더 중복 & 결측치 처리"
   ]
  },
  {
   "cell_type": "code",
   "execution_count": 15,
   "id": "lined-greece",
   "metadata": {
    "colab": {
     "base_uri": "https://localhost:8080/",
     "height": 173
    },
    "id": "yellow-shannon",
    "outputId": "9a16a7d6-a78a-4b86-ee1d-d5ef84eb60a1"
   },
   "outputs": [
    {
     "data": {
      "text/html": [
       "<div>\n",
       "<style scoped>\n",
       "    .dataframe tbody tr th:only-of-type {\n",
       "        vertical-align: middle;\n",
       "    }\n",
       "\n",
       "    .dataframe tbody tr th {\n",
       "        vertical-align: top;\n",
       "    }\n",
       "\n",
       "    .dataframe thead th {\n",
       "        text-align: right;\n",
       "    }\n",
       "</style>\n",
       "<table border=\"1\" class=\"dataframe\">\n",
       "  <thead>\n",
       "    <tr style=\"text-align: right;\">\n",
       "      <th></th>\n",
       "      <th>headlines</th>\n",
       "      <th>text</th>\n",
       "    </tr>\n",
       "  </thead>\n",
       "  <tbody>\n",
       "    <tr>\n",
       "      <th>count</th>\n",
       "      <td>98330</td>\n",
       "      <td>98330</td>\n",
       "    </tr>\n",
       "    <tr>\n",
       "      <th>unique</th>\n",
       "      <td>98153</td>\n",
       "      <td>98330</td>\n",
       "    </tr>\n",
       "    <tr>\n",
       "      <th>top</th>\n",
       "      <td>worlds richest people lose billion in one day</td>\n",
       "      <td>nasas juno space probe which is currently orbi...</td>\n",
       "    </tr>\n",
       "    <tr>\n",
       "      <th>freq</th>\n",
       "      <td>4</td>\n",
       "      <td>1</td>\n",
       "    </tr>\n",
       "  </tbody>\n",
       "</table>\n",
       "</div>"
      ],
      "text/plain": [
       "                                            headlines  \\\n",
       "count                                           98330   \n",
       "unique                                          98153   \n",
       "top     worlds richest people lose billion in one day   \n",
       "freq                                                4   \n",
       "\n",
       "                                                     text  \n",
       "count                                               98330  \n",
       "unique                                              98330  \n",
       "top     nasas juno space probe which is currently orbi...  \n",
       "freq                                                    1  "
      ]
     },
     "execution_count": 15,
     "metadata": {},
     "output_type": "execute_result"
    }
   ],
   "source": [
    "data.drop_duplicates(subset=['text'], inplace=True)\n",
    "\n",
    "data.describe()"
   ]
  },
  {
   "cell_type": "code",
   "execution_count": 16,
   "id": "legislative-eating",
   "metadata": {
    "colab": {
     "base_uri": "https://localhost:8080/"
    },
    "id": "located-appendix",
    "outputId": "a398357d-7308-4a7c-dc19-bfc3525298d3"
   },
   "outputs": [
    {
     "data": {
      "text/plain": [
       "headlines    0\n",
       "text         0\n",
       "dtype: int64"
      ]
     },
     "execution_count": 16,
     "metadata": {},
     "output_type": "execute_result"
    }
   ],
   "source": [
    "data.isnull().sum()"
   ]
  },
  {
   "cell_type": "markdown",
   "id": "outstanding-tribute",
   "metadata": {
    "id": "demonstrated-request"
   },
   "source": [
    "### 문장 최대 길이 설정"
   ]
  },
  {
   "cell_type": "code",
   "execution_count": 17,
   "id": "express-belarus",
   "metadata": {
    "colab": {
     "base_uri": "https://localhost:8080/"
    },
    "id": "naked-animal",
    "outputId": "80ca7178-935f-471c-8409-4af3517047cc"
   },
   "outputs": [
    {
     "name": "stdout",
     "output_type": "stream",
     "text": [
      "텍스트의 최소 길이 : 1\n",
      "텍스트의 최대 길이 : 69\n",
      "텍스트의 평균 길이 : 57.731831587511444\n",
      "요약의 최소 길이 : 1\n",
      "요약의 최대 길이 : 17\n",
      "요약의 평균 길이 : 9.422495677819587\n"
     ]
    }
   ],
   "source": [
    "# 길이의 분포 시각화해보기\n",
    "text_len = [len(s.split()) for s in data['text']]\n",
    "summary_len = [len(s.split()) for s in data['headlines']]\n",
    "\n",
    "print('텍스트의 최소 길이 : {}'.format(np.min(text_len)))\n",
    "print('텍스트의 최대 길이 : {}'.format(np.max(text_len)))\n",
    "print('텍스트의 평균 길이 : {}'.format(np.mean(text_len)))\n",
    "print('요약의 최소 길이 : {}'.format(np.min(summary_len)))\n",
    "print('요약의 최대 길이 : {}'.format(np.max(summary_len)))\n",
    "print('요약의 평균 길이 : {}'.format(np.mean(summary_len)))"
   ]
  },
  {
   "cell_type": "code",
   "execution_count": 18,
   "id": "judicial-continuity",
   "metadata": {
    "colab": {
     "base_uri": "https://localhost:8080/",
     "height": 857
    },
    "id": "excited-basement",
    "outputId": "4ad22c87-93bd-4a40-ef9c-0779a864c32a"
   },
   "outputs": [
    {
     "data": {
      "image/png": "[encoded data removed]",
      "text/plain": [
       "<Figure size 432x288 with 2 Axes>"
      ]
     },
     "metadata": {
      "needs_background": "light"
     },
     "output_type": "display_data"
    },
    {
     "data": {
      "image/png": "[encoded data removed]",
      "text/plain": [
       "<Figure size 432x288 with 1 Axes>"
      ]
     },
     "metadata": {
      "needs_background": "light"
     },
     "output_type": "display_data"
    },
    {
     "data": {
      "image/png": "[encoded data removed]",
      "text/plain": [
       "<Figure size 432x288 with 1 Axes>"
      ]
     },
     "metadata": {
      "needs_background": "light"
     },
     "output_type": "display_data"
    }
   ],
   "source": [
    "plt.subplot(1,2,1)\n",
    "plt.boxplot(summary_len)\n",
    "plt.xticks([])\n",
    "plt.title('Headlines', fontsize=15)\n",
    "plt.subplot(1,2,2)\n",
    "plt.boxplot(text_len)\n",
    "plt.xticks([])\n",
    "plt.title('Text', fontsize=15)\n",
    "plt.tight_layout()\n",
    "plt.show()\n",
    "\n",
    "plt.title('Headlines', fontsize=15)\n",
    "plt.hist(summary_len, bins = 40)\n",
    "plt.xlabel('Length of samples')\n",
    "plt.ylabel('Number of samples')\n",
    "plt.show()\n",
    "\n",
    "plt.title('Text', fontsize=15)\n",
    "plt.hist(text_len, bins = 40)\n",
    "plt.xlabel('Length of samples')\n",
    "plt.ylabel('Number of samples')\n",
    "plt.show()"
   ]
  },
  {
   "cell_type": "code",
   "execution_count": 19,
   "id": "answering-surgery",
   "metadata": {
    "id": "scientific-generator"
   },
   "outputs": [],
   "source": [
    "# 모든 데이터를 포함하는 최대값을 설정\n",
    "text_max_len = 70\n",
    "summary_max_len = 18"
   ]
  },
  {
   "cell_type": "code",
   "execution_count": 20,
   "id": "tracked-minority",
   "metadata": {
    "colab": {
     "base_uri": "https://localhost:8080/"
    },
    "id": "classical-familiar",
    "outputId": "ae47f3b5-5bfb-4c03-e8e6-e797cd310c1a"
   },
   "outputs": [
    {
     "data": {
      "text/plain": [
       "52"
      ]
     },
     "execution_count": 20,
     "metadata": {},
     "output_type": "execute_result"
    }
   ],
   "source": [
    "# text_len이 가장 작은 data의 index 확인해보기\n",
    "np.argmin(text_len)"
   ]
  },
  {
   "cell_type": "code",
   "execution_count": 21,
   "id": "imperial-foundation",
   "metadata": {
    "colab": {
     "base_uri": "https://localhost:8080/",
     "height": 80
    },
    "id": "frozen-conviction",
    "outputId": "14c5589c-d229-4249-b409-1d42bd35515f"
   },
   "outputs": [
    {
     "data": {
      "text/html": [
       "<div>\n",
       "<style scoped>\n",
       "    .dataframe tbody tr th:only-of-type {\n",
       "        vertical-align: middle;\n",
       "    }\n",
       "\n",
       "    .dataframe tbody tr th {\n",
       "        vertical-align: top;\n",
       "    }\n",
       "\n",
       "    .dataframe thead th {\n",
       "        text-align: right;\n",
       "    }\n",
       "</style>\n",
       "<table border=\"1\" class=\"dataframe\">\n",
       "  <thead>\n",
       "    <tr style=\"text-align: right;\">\n",
       "      <th></th>\n",
       "      <th>headlines</th>\n",
       "      <th>text</th>\n",
       "    </tr>\n",
       "  </thead>\n",
       "  <tbody>\n",
       "    <tr>\n",
       "      <th>52</th>\n",
       "      <td>headlines</td>\n",
       "      <td>text</td>\n",
       "    </tr>\n",
       "  </tbody>\n",
       "</table>\n",
       "</div>"
      ],
      "text/plain": [
       "    headlines  text\n",
       "52  headlines  text"
      ]
     },
     "execution_count": 21,
     "metadata": {},
     "output_type": "execute_result"
    }
   ],
   "source": [
    "data.loc[data.index == 52]"
   ]
  },
  {
   "cell_type": "markdown",
   "id": "impossible-valley",
   "metadata": {
    "id": "curious-leadership"
   },
   "source": [
    "의미 없는 데이터이므로 삭제"
   ]
  },
  {
   "cell_type": "code",
   "execution_count": 22,
   "id": "appointed-patrol",
   "metadata": {
    "colab": {
     "base_uri": "https://localhost:8080/",
     "height": 173
    },
    "id": "nasty-middle",
    "outputId": "27b4d5bb-885d-47f0-c762-85693e61214f"
   },
   "outputs": [
    {
     "data": {
      "text/html": [
       "<div>\n",
       "<style scoped>\n",
       "    .dataframe tbody tr th:only-of-type {\n",
       "        vertical-align: middle;\n",
       "    }\n",
       "\n",
       "    .dataframe tbody tr th {\n",
       "        vertical-align: top;\n",
       "    }\n",
       "\n",
       "    .dataframe thead th {\n",
       "        text-align: right;\n",
       "    }\n",
       "</style>\n",
       "<table border=\"1\" class=\"dataframe\">\n",
       "  <thead>\n",
       "    <tr style=\"text-align: right;\">\n",
       "      <th></th>\n",
       "      <th>headlines</th>\n",
       "      <th>text</th>\n",
       "    </tr>\n",
       "  </thead>\n",
       "  <tbody>\n",
       "    <tr>\n",
       "      <th>count</th>\n",
       "      <td>98329</td>\n",
       "      <td>98329</td>\n",
       "    </tr>\n",
       "    <tr>\n",
       "      <th>unique</th>\n",
       "      <td>98152</td>\n",
       "      <td>98329</td>\n",
       "    </tr>\n",
       "    <tr>\n",
       "      <th>top</th>\n",
       "      <td>amazon invests crore in indian payments arm am...</td>\n",
       "      <td>nasas juno space probe which is currently orbi...</td>\n",
       "    </tr>\n",
       "    <tr>\n",
       "      <th>freq</th>\n",
       "      <td>4</td>\n",
       "      <td>1</td>\n",
       "    </tr>\n",
       "  </tbody>\n",
       "</table>\n",
       "</div>"
      ],
      "text/plain": [
       "                                                headlines  \\\n",
       "count                                               98329   \n",
       "unique                                              98152   \n",
       "top     amazon invests crore in indian payments arm am...   \n",
       "freq                                                    4   \n",
       "\n",
       "                                                     text  \n",
       "count                                               98329  \n",
       "unique                                              98329  \n",
       "top     nasas juno space probe which is currently orbi...  \n",
       "freq                                                    1  "
      ]
     },
     "execution_count": 22,
     "metadata": {},
     "output_type": "execute_result"
    }
   ],
   "source": [
    "data.drop(axis=0, index=52, inplace=True)\n",
    "\n",
    "data.describe()"
   ]
  },
  {
   "cell_type": "markdown",
   "id": "departmental-pitch",
   "metadata": {
    "id": "nearby-brake"
   },
   "source": [
    "한번 더 길이 분포 확인해보기"
   ]
  },
  {
   "cell_type": "code",
   "execution_count": 23,
   "id": "disturbed-hundred",
   "metadata": {
    "colab": {
     "base_uri": "https://localhost:8080/"
    },
    "id": "effective-ranch",
    "outputId": "cadba0a3-616e-40d0-8f66-d693def88912"
   },
   "outputs": [
    {
     "name": "stdout",
     "output_type": "stream",
     "text": [
      "텍스트의 최소 길이 : 35\n",
      "텍스트의 최대 길이 : 69\n",
      "텍스트의 평균 길이 : 57.73240854681732\n",
      "요약의 최소 길이 : 3\n",
      "요약의 최대 길이 : 17\n",
      "요약의 평균 길이 : 9.422581334092689\n"
     ]
    }
   ],
   "source": [
    "# 길이의 분포 시각화해보기\n",
    "text_len = [len(s.split()) for s in data['text']]\n",
    "summary_len = [len(s.split()) for s in data['headlines']]\n",
    "\n",
    "print('텍스트의 최소 길이 : {}'.format(np.min(text_len)))\n",
    "print('텍스트의 최대 길이 : {}'.format(np.max(text_len)))\n",
    "print('텍스트의 평균 길이 : {}'.format(np.mean(text_len)))\n",
    "print('요약의 최소 길이 : {}'.format(np.min(summary_len)))\n",
    "print('요약의 최대 길이 : {}'.format(np.max(summary_len)))\n",
    "print('요약의 평균 길이 : {}'.format(np.mean(summary_len)))"
   ]
  },
  {
   "cell_type": "code",
   "execution_count": 24,
   "id": "union-yorkshire",
   "metadata": {
    "colab": {
     "base_uri": "https://localhost:8080/",
     "height": 369
    },
    "id": "remarkable-crazy",
    "outputId": "5bf577f5-452d-4f28-cf5b-e041925424eb"
   },
   "outputs": [
    {
     "data": {
      "image/png": "[encoded data removed]",
      "text/plain": [
       "<Figure size 288x360 with 1 Axes>"
      ]
     },
     "metadata": {
      "needs_background": "light"
     },
     "output_type": "display_data"
    }
   ],
   "source": [
    "plt.figure(figsize=(4, 5))\n",
    "plt.boxplot(text_len)\n",
    "plt.xticks([])\n",
    "plt.title('Text', fontsize=15)\n",
    "plt.tight_layout()\n",
    "plt.show()"
   ]
  },
  {
   "cell_type": "markdown",
   "id": "recent-prospect",
   "metadata": {
    "id": "revolutionary-product"
   },
   "source": [
    "## Encoder & Decoder 생성"
   ]
  },
  {
   "cell_type": "code",
   "execution_count": 25,
   "id": "olympic-diary",
   "metadata": {
    "colab": {
     "base_uri": "https://localhost:8080/",
     "height": 290
    },
    "id": "loving-tribute",
    "outputId": "cd2e38e3-5a11-43c3-958f-f24f30c27f80"
   },
   "outputs": [
    {
     "data": {
      "text/html": [
       "<div>\n",
       "<style scoped>\n",
       "    .dataframe tbody tr th:only-of-type {\n",
       "        vertical-align: middle;\n",
       "    }\n",
       "\n",
       "    .dataframe tbody tr th {\n",
       "        vertical-align: top;\n",
       "    }\n",
       "\n",
       "    .dataframe thead th {\n",
       "        text-align: right;\n",
       "    }\n",
       "</style>\n",
       "<table border=\"1\" class=\"dataframe\">\n",
       "  <thead>\n",
       "    <tr style=\"text-align: right;\">\n",
       "      <th></th>\n",
       "      <th>headlines</th>\n",
       "      <th>text</th>\n",
       "      <th>decoder_input</th>\n",
       "      <th>decoder_target</th>\n",
       "    </tr>\n",
       "  </thead>\n",
       "  <tbody>\n",
       "    <tr>\n",
       "      <th>0</th>\n",
       "      <td>upgrad learner switches to career in ml al wit...</td>\n",
       "      <td>saurav kant an alumnus of upgrad and iiit bs p...</td>\n",
       "      <td>sostoken upgrad learner switches to career in ...</td>\n",
       "      <td>upgrad learner switches to career in ml al wit...</td>\n",
       "    </tr>\n",
       "    <tr>\n",
       "      <th>1</th>\n",
       "      <td>delhi techie wins free food from swiggy for on...</td>\n",
       "      <td>kunal shahs credit card bill payment platform ...</td>\n",
       "      <td>sostoken delhi techie wins free food from swig...</td>\n",
       "      <td>delhi techie wins free food from swiggy for on...</td>\n",
       "    </tr>\n",
       "    <tr>\n",
       "      <th>2</th>\n",
       "      <td>new zealand end rohit sharma led indias match ...</td>\n",
       "      <td>new zealand defeated india by wickets in the f...</td>\n",
       "      <td>sostoken new zealand end rohit sharma led indi...</td>\n",
       "      <td>new zealand end rohit sharma led indias match ...</td>\n",
       "    </tr>\n",
       "    <tr>\n",
       "      <th>3</th>\n",
       "      <td>aegon life iterm insurance plan helps customer...</td>\n",
       "      <td>with aegon life iterm insurance plan customers...</td>\n",
       "      <td>sostoken aegon life iterm insurance plan helps...</td>\n",
       "      <td>aegon life iterm insurance plan helps customer...</td>\n",
       "    </tr>\n",
       "    <tr>\n",
       "      <th>4</th>\n",
       "      <td>have known hirani for yrs what if metoo claims...</td>\n",
       "      <td>speaking about the sexual harassment allegatio...</td>\n",
       "      <td>sostoken have known hirani for yrs what if met...</td>\n",
       "      <td>have known hirani for yrs what if metoo claims...</td>\n",
       "    </tr>\n",
       "  </tbody>\n",
       "</table>\n",
       "</div>"
      ],
      "text/plain": [
       "                                           headlines  \\\n",
       "0  upgrad learner switches to career in ml al wit...   \n",
       "1  delhi techie wins free food from swiggy for on...   \n",
       "2  new zealand end rohit sharma led indias match ...   \n",
       "3  aegon life iterm insurance plan helps customer...   \n",
       "4  have known hirani for yrs what if metoo claims...   \n",
       "\n",
       "                                                text  \\\n",
       "0  saurav kant an alumnus of upgrad and iiit bs p...   \n",
       "1  kunal shahs credit card bill payment platform ...   \n",
       "2  new zealand defeated india by wickets in the f...   \n",
       "3  with aegon life iterm insurance plan customers...   \n",
       "4  speaking about the sexual harassment allegatio...   \n",
       "\n",
       "                                       decoder_input  \\\n",
       "0  sostoken upgrad learner switches to career in ...   \n",
       "1  sostoken delhi techie wins free food from swig...   \n",
       "2  sostoken new zealand end rohit sharma led indi...   \n",
       "3  sostoken aegon life iterm insurance plan helps...   \n",
       "4  sostoken have known hirani for yrs what if met...   \n",
       "\n",
       "                                      decoder_target  \n",
       "0  upgrad learner switches to career in ml al wit...  \n",
       "1  delhi techie wins free food from swiggy for on...  \n",
       "2  new zealand end rohit sharma led indias match ...  \n",
       "3  aegon life iterm insurance plan helps customer...  \n",
       "4  have known hirani for yrs what if metoo claims...  "
      ]
     },
     "execution_count": 25,
     "metadata": {},
     "output_type": "execute_result"
    }
   ],
   "source": [
    "# 요약 데이터에는 시작 토큰과 종료 토큰을 추가한다.\n",
    "data['decoder_input'] = data['headlines'].apply(lambda x : 'sostoken '+ x)\n",
    "data['decoder_target'] = data['headlines'].apply(lambda x : x + ' eostoken')\n",
    "\n",
    "data.head()"
   ]
  },
  {
   "cell_type": "code",
   "execution_count": 26,
   "id": "italian-charlotte",
   "metadata": {
    "colab": {
     "base_uri": "https://localhost:8080/",
     "height": 190
    },
    "id": "compatible-stamp",
    "outputId": "862cc119-c7f9-4110-a4ff-921950b98b14"
   },
   "outputs": [
    {
     "data": {
      "text/html": [
       "<div>\n",
       "<style scoped>\n",
       "    .dataframe tbody tr th:only-of-type {\n",
       "        vertical-align: middle;\n",
       "    }\n",
       "\n",
       "    .dataframe tbody tr th {\n",
       "        vertical-align: top;\n",
       "    }\n",
       "\n",
       "    .dataframe thead th {\n",
       "        text-align: right;\n",
       "    }\n",
       "</style>\n",
       "<table border=\"1\" class=\"dataframe\">\n",
       "  <thead>\n",
       "    <tr style=\"text-align: right;\">\n",
       "      <th></th>\n",
       "      <th>headlines</th>\n",
       "      <th>text</th>\n",
       "      <th>decoder_input</th>\n",
       "      <th>decoder_target</th>\n",
       "    </tr>\n",
       "  </thead>\n",
       "  <tbody>\n",
       "    <tr>\n",
       "      <th>count</th>\n",
       "      <td>98329</td>\n",
       "      <td>98329</td>\n",
       "      <td>98329</td>\n",
       "      <td>98329</td>\n",
       "    </tr>\n",
       "    <tr>\n",
       "      <th>unique</th>\n",
       "      <td>98152</td>\n",
       "      <td>98329</td>\n",
       "      <td>98152</td>\n",
       "      <td>98152</td>\n",
       "    </tr>\n",
       "    <tr>\n",
       "      <th>top</th>\n",
       "      <td>amazon invests crore in indian payments arm am...</td>\n",
       "      <td>nasas juno space probe which is currently orbi...</td>\n",
       "      <td>sostoken worlds richest people lose billion in...</td>\n",
       "      <td>amazon invests crore in indian payments arm am...</td>\n",
       "    </tr>\n",
       "    <tr>\n",
       "      <th>freq</th>\n",
       "      <td>4</td>\n",
       "      <td>1</td>\n",
       "      <td>4</td>\n",
       "      <td>4</td>\n",
       "    </tr>\n",
       "  </tbody>\n",
       "</table>\n",
       "</div>"
      ],
      "text/plain": [
       "                                                headlines  \\\n",
       "count                                               98329   \n",
       "unique                                              98152   \n",
       "top     amazon invests crore in indian payments arm am...   \n",
       "freq                                                    4   \n",
       "\n",
       "                                                     text  \\\n",
       "count                                               98329   \n",
       "unique                                              98329   \n",
       "top     nasas juno space probe which is currently orbi...   \n",
       "freq                                                    1   \n",
       "\n",
       "                                            decoder_input  \\\n",
       "count                                               98329   \n",
       "unique                                              98152   \n",
       "top     sostoken worlds richest people lose billion in...   \n",
       "freq                                                    4   \n",
       "\n",
       "                                           decoder_target  \n",
       "count                                               98329  \n",
       "unique                                              98152  \n",
       "top     amazon invests crore in indian payments arm am...  \n",
       "freq                                                    4  "
      ]
     },
     "execution_count": 26,
     "metadata": {},
     "output_type": "execute_result"
    }
   ],
   "source": [
    "data.describe()"
   ]
  },
  {
   "cell_type": "code",
   "execution_count": 27,
   "id": "finnish-pillow",
   "metadata": {
    "id": "tropical-finish"
   },
   "outputs": [],
   "source": [
    "encoder_input = np.array(data['text']) # 인코더의 입력\n",
    "decoder_input = np.array(data['decoder_input']) # 디코더의 입력\n",
    "decoder_target = np.array(data['decoder_target']) # 디코더의 레이블"
   ]
  },
  {
   "cell_type": "markdown",
   "id": "governing-sight",
   "metadata": {
    "id": "friendly-preservation"
   },
   "source": [
    "## Train, test dataset split"
   ]
  },
  {
   "cell_type": "code",
   "execution_count": 28,
   "id": "canadian-crossing",
   "metadata": {
    "colab": {
     "base_uri": "https://localhost:8080/"
    },
    "id": "north-andrew",
    "outputId": "9ba4a1db-ca2f-42d7-960d-820ee3054761"
   },
   "outputs": [
    {
     "name": "stdout",
     "output_type": "stream",
     "text": [
      "encoder_input_train:  78663\n",
      "encoder_input_test:  19666\n"
     ]
    }
   ],
   "source": [
    "encoder_input_train, encoder_input_test = train_test_split(encoder_input, test_size=0.2, random_state=53)\n",
    "\n",
    "print('encoder_input_train: ', len(encoder_input_train))\n",
    "print('encoder_input_test: ', len(encoder_input_test))"
   ]
  },
  {
   "cell_type": "code",
   "execution_count": 29,
   "id": "ready-young",
   "metadata": {
    "colab": {
     "base_uri": "https://localhost:8080/"
    },
    "id": "collect-commodity",
    "outputId": "018ea97e-9750-4f94-b586-6681a23a73ba"
   },
   "outputs": [
    {
     "name": "stdout",
     "output_type": "stream",
     "text": [
      "decoder_input_train:  78663\n",
      "decoder_input_test:  19666\n"
     ]
    }
   ],
   "source": [
    "decoder_input_train, decoder_input_test = train_test_split(decoder_input, test_size=0.2, random_state=53)\n",
    "\n",
    "print('decoder_input_train: ', len(decoder_input_train))\n",
    "print('decoder_input_test: ', len(decoder_input_test))"
   ]
  },
  {
   "cell_type": "code",
   "execution_count": 30,
   "id": "statutory-flood",
   "metadata": {
    "colab": {
     "base_uri": "https://localhost:8080/"
    },
    "id": "architectural-english",
    "outputId": "661958a6-06d1-416f-c19b-082b3d5263ab"
   },
   "outputs": [
    {
     "name": "stdout",
     "output_type": "stream",
     "text": [
      "decoder_target_train:  78663\n",
      "decoder_target_test:  19666\n"
     ]
    }
   ],
   "source": [
    "decoder_target_train, decoder_target_test = train_test_split(decoder_target, test_size=0.2, random_state=53)\n",
    "\n",
    "print('decoder_target_train: ', len(decoder_target_train))\n",
    "print('decoder_target_test: ', len(decoder_target_test))"
   ]
  },
  {
   "cell_type": "markdown",
   "id": "aware-stopping",
   "metadata": {
    "id": "hungarian-challenge"
   },
   "source": [
    "### Word Dictionary 만들기"
   ]
  },
  {
   "cell_type": "code",
   "execution_count": 31,
   "id": "adaptive-contrast",
   "metadata": {
    "id": "japanese-farmer"
   },
   "outputs": [],
   "source": [
    "src_tokenizer = Tokenizer()\n",
    "src_tokenizer.fit_on_texts(encoder_input_train)"
   ]
  },
  {
   "cell_type": "code",
   "execution_count": 32,
   "id": "cooperative-criterion",
   "metadata": {
    "id": "hindu-portugal"
   },
   "outputs": [],
   "source": [
    "word_count_dict = src_tokenizer.word_counts"
   ]
  },
  {
   "cell_type": "markdown",
   "id": "median-medicine",
   "metadata": {
    "id": "female-equation"
   },
   "source": [
    "### Word Count 분포 및 빈도 확인"
   ]
  },
  {
   "cell_type": "code",
   "execution_count": 33,
   "id": "miniature-northern",
   "metadata": {
    "id": "freelance-thumb"
   },
   "outputs": [],
   "source": [
    "counts = [cnt for word, cnt in word_count_dict.items()]\n",
    "words = [word for word, cnt in word_count_dict.items()]"
   ]
  },
  {
   "cell_type": "code",
   "execution_count": 34,
   "id": "greater-cancer",
   "metadata": {
    "colab": {
     "base_uri": "https://localhost:8080/",
     "height": 369
    },
    "id": "passing-shore",
    "outputId": "6d193d6d-15fd-4dc7-9301-b43c2aa479e6"
   },
   "outputs": [
    {
     "data": {
      "image/png": "[encoded data removed]",
      "text/plain": [
       "<Figure size 288x360 with 1 Axes>"
      ]
     },
     "metadata": {
      "needs_background": "light"
     },
     "output_type": "display_data"
    }
   ],
   "source": [
    "plt.figure(figsize=(4, 5))\n",
    "plt.boxplot(counts)\n",
    "plt.xticks([])\n",
    "plt.title('Word Counts Distribution', fontsize=15)\n",
    "plt.tight_layout()\n",
    "plt.show()"
   ]
  },
  {
   "cell_type": "code",
   "execution_count": 35,
   "id": "dense-salvation",
   "metadata": {
    "colab": {
     "base_uri": "https://localhost:8080/"
    },
    "id": "ongoing-genetics",
    "outputId": "7dc26c09-781f-4284-aa3d-51263d2ff9a3"
   },
   "outputs": [
    {
     "name": "stdout",
     "output_type": "stream",
     "text": [
      "index: 18 count: 270425\n"
     ]
    }
   ],
   "source": [
    "for i, c in enumerate(counts):\n",
    "    if c > 200000:\n",
    "        print('index:', i, 'count:', c)"
   ]
  },
  {
   "cell_type": "code",
   "execution_count": 36,
   "id": "female-picture",
   "metadata": {
    "colab": {
     "base_uri": "https://localhost:8080/",
     "height": 35
    },
    "id": "fluid-testing",
    "outputId": "61a7e022-4d95-43aa-bdc1-3ab2c22054b9"
   },
   "outputs": [
    {
     "data": {
      "text/plain": [
       "'the'"
      ]
     },
     "execution_count": 36,
     "metadata": {},
     "output_type": "execute_result"
    }
   ],
   "source": [
    "words[18]"
   ]
  },
  {
   "cell_type": "code",
   "execution_count": 37,
   "id": "classical-bulletin",
   "metadata": {
    "colab": {
     "base_uri": "https://localhost:8080/"
    },
    "id": "antique-tackle",
    "outputId": "9aaa8126-8a54-4bf5-bdd2-583d6c6acfab"
   },
   "outputs": [
    {
     "name": "stdout",
     "output_type": "stream",
     "text": [
      "단어 집합(vocabulary)의 크기 : 73895\n",
      "등장 빈도가 9번 이하인 희귀 단어의 수: 54887\n",
      "단어 집합에서 희귀 단어를 제외시킬 경우의 단어 집합의 크기 19008\n",
      "단어 집합에서 희귀 단어의 비율: 74.27701468299614\n",
      "전체 등장 빈도에서 희귀 단어 등장 빈도 비율: 2.937338610943975\n"
     ]
    }
   ],
   "source": [
    "# 빈도수가 10회 미만인 단어들이 얼마나 되는지 확인\n",
    "threshold = 10\n",
    "total_cnt = len(src_tokenizer.word_index)\n",
    "\n",
    "# 등장 빈도수가 threshold보다 작은 단어의 개수를 카운트\n",
    "rare_cnt = 0\n",
    "\n",
    "# 훈련 데이터의 전체 단어 빈도수 총 합\n",
    "total_freq = 0\n",
    "\n",
    "# 등장 빈도수가 threshold보다 작은 단어의 등장 빈도수의 총 합\n",
    "rare_freq = 0\n",
    "\n",
    "\n",
    "for k, v in src_tokenizer.word_counts.items():\n",
    "    total_freq += v\n",
    "    \n",
    "    # 단어의 등장 빈도수가 threshold보다 작으면\n",
    "    if v < threshold:\n",
    "        rare_cnt += 1\n",
    "        rare_freq += v\n",
    "        \n",
    "print('단어 집합(vocabulary)의 크기 :', total_cnt)\n",
    "print('등장 빈도가 %s번 이하인 희귀 단어의 수: %s'%(threshold - 1, rare_cnt))\n",
    "print('단어 집합에서 희귀 단어를 제외시킬 경우의 단어 집합의 크기 %s'%(total_cnt - rare_cnt))\n",
    "print(\"단어 집합에서 희귀 단어의 비율:\", (rare_cnt / total_cnt)*100)\n",
    "print(\"전체 등장 빈도에서 희귀 단어 등장 빈도 비율:\", (rare_freq / total_freq)*100)"
   ]
  },
  {
   "cell_type": "code",
   "execution_count": 38,
   "id": "royal-contents",
   "metadata": {
    "id": "advance-quarterly"
   },
   "outputs": [],
   "source": [
    "src_vocab = 19008\n",
    "\n",
    "src_tokenizer = Tokenizer(num_words=src_vocab, oov_token=\"<OOV>\") \n",
    "src_tokenizer.fit_on_texts(encoder_input_train) # 단어 집합 재생성."
   ]
  },
  {
   "cell_type": "code",
   "execution_count": 39,
   "id": "covered-drill",
   "metadata": {
    "colab": {
     "base_uri": "https://localhost:8080/"
    },
    "id": "gentle-morris",
    "outputId": "55760fee-06d7-4295-f4f2-508cb48f4700"
   },
   "outputs": [
    {
     "name": "stdout",
     "output_type": "stream",
     "text": [
      "[[4, 127, 6, 4, 4505, 1557, 9, 807, 915, 8, 243, 188, 200, 55, 16547, 2660, 14270, 62, 19, 2, 105, 8, 55, 615, 819, 29, 36, 11911, 3, 95, 57, 2488, 2, 14270, 19, 62, 6, 2, 156, 11, 554, 2, 1890, 78, 41, 3129, 380, 4437, 33, 963, 13, 246, 3500, 33, 2954, 23, 62, 6, 2, 16547], [704, 201, 7, 341, 6, 5174, 185, 1737, 1798, 2865, 2462, 9, 11, 12, 82, 27, 3, 385, 3, 390, 3, 1591, 794, 82, 1292, 6, 27, 3, 11912, 5, 337, 3, 2385, 12, 999, 15, 31, 2462, 42, 4718, 52, 390, 6810, 7, 5267, 12, 5, 337, 3, 27, 1328, 5, 390, 2, 682, 6, 4154, 766, 26, 6977], [316, 5, 1160, 27, 700, 4, 9323, 2110, 123, 1, 1825, 12, 81, 1477, 72, 1109, 7437, 16548, 5, 2, 127, 2, 4999, 2110, 14, 246, 240, 1, 3, 16549, 4, 4105, 6, 1, 17, 30, 11617, 1470, 7, 10375, 22, 94, 2, 1635, 2, 2110, 14, 983, 10, 4467, 6, 2925, 10, 6888, 5037, 217, 21, 2809, 784, 7, 5709]]\n"
     ]
    }
   ],
   "source": [
    "# 텍스트 시퀀스를 정수 시퀀스로 변환\n",
    "encoder_input_train = src_tokenizer.texts_to_sequences(encoder_input_train) \n",
    "encoder_input_test = src_tokenizer.texts_to_sequences(encoder_input_test)\n",
    "\n",
    "# 잘 진행되었는지 샘플 출력\n",
    "print(encoder_input_train[:3])"
   ]
  },
  {
   "cell_type": "code",
   "execution_count": 40,
   "id": "incredible-sympathy",
   "metadata": {},
   "outputs": [
    {
     "data": {
      "image/png": "[encoded data removed]",
      "text/plain": [
       "<Figure size 288x360 with 1 Axes>"
      ]
     },
     "metadata": {
      "needs_background": "light"
     },
     "output_type": "display_data"
    }
   ],
   "source": [
    "word_count_dict = src_tokenizer.word_counts\n",
    "\n",
    "counts = [cnt for word, cnt in word_count_dict.items()]\n",
    "words = [word for word, cnt in word_count_dict.items()]\n",
    "\n",
    "plt.figure(figsize=(4, 5))\n",
    "plt.boxplot(counts)\n",
    "plt.xticks([])\n",
    "plt.title('Word Counts Distribution', fontsize=15)\n",
    "plt.tight_layout()\n",
    "plt.show()"
   ]
  },
  {
   "cell_type": "markdown",
   "id": "egyptian-latino",
   "metadata": {
    "id": "impossible-organic"
   },
   "source": [
    "### headline 데이터에 동일한 작업 수행"
   ]
  },
  {
   "cell_type": "code",
   "execution_count": 41,
   "id": "modern-chinese",
   "metadata": {
    "id": "fifth-leeds"
   },
   "outputs": [],
   "source": [
    "# summary data에 동일한 작업 수행\n",
    "tar_tokenizer = Tokenizer()\n",
    "tar_tokenizer.fit_on_texts(decoder_input_train)"
   ]
  },
  {
   "cell_type": "code",
   "execution_count": 42,
   "id": "configured-upgrade",
   "metadata": {
    "colab": {
     "base_uri": "https://localhost:8080/"
    },
    "id": "hollywood-albert",
    "outputId": "4835233f-b1d0-4fda-b961-ff13d087fe65"
   },
   "outputs": [
    {
     "name": "stdout",
     "output_type": "stream",
     "text": [
      "단어 집합(vocabulary)의 크기 : 31895\n",
      "등장 빈도가 3번 이하인 희귀 단어의 수: 18253\n",
      "단어 집합에서 희귀 단어를 제외시킬 경우의 단어 집합의 크기 13642\n",
      "단어 집합에서 희귀 단어의 비율: 57.22840570622355\n",
      "전체 등장 빈도에서 희귀 단어 등장 빈도 비율: 3.3454728178809\n"
     ]
    }
   ],
   "source": [
    "threshold = 4\n",
    "total_cnt = len(tar_tokenizer.word_index) # 단어의 수\n",
    "rare_cnt = 0 # 등장 빈도수가 threshold보다 작은 단어의 개수를 카운트\n",
    "total_freq = 0 # 훈련 데이터의 전체 단어 빈도수 총 합\n",
    "rare_freq = 0 # 등장 빈도수가 threshold보다 작은 단어의 등장 빈도수의 총 합\n",
    "\n",
    "# 단어와 빈도수의 쌍(pair)을 key와 value로 받는다.\n",
    "for key, value in tar_tokenizer.word_counts.items():\n",
    "    total_freq = total_freq + value\n",
    "\n",
    "    # 단어의 등장 빈도수가 threshold보다 작으면\n",
    "    if(value < threshold):\n",
    "        rare_cnt = rare_cnt + 1\n",
    "        rare_freq = rare_freq + value\n",
    "\n",
    "print('단어 집합(vocabulary)의 크기 :', total_cnt)\n",
    "print('등장 빈도가 %s번 이하인 희귀 단어의 수: %s'%(threshold - 1, rare_cnt))\n",
    "print('단어 집합에서 희귀 단어를 제외시킬 경우의 단어 집합의 크기 %s'%(total_cnt - rare_cnt))\n",
    "print(\"단어 집합에서 희귀 단어의 비율:\", (rare_cnt / total_cnt)*100)\n",
    "print(\"전체 등장 빈도에서 희귀 단어 등장 빈도 비율:\", (rare_freq / total_freq)*100)"
   ]
  },
  {
   "cell_type": "code",
   "execution_count": 43,
   "id": "developmental-immunology",
   "metadata": {
    "colab": {
     "base_uri": "https://localhost:8080/"
    },
    "id": "cellular-sight",
    "outputId": "b0013011-2817-4320-ec16-1960d04c279f"
   },
   "outputs": [
    {
     "name": "stdout",
     "output_type": "stream",
     "text": [
      "input  [[2, 11938, 2308, 9051, 8, 8450, 519, 764, 12, 3030, 1429], [2, 148, 54, 4, 281, 4, 323, 4, 809, 589, 2262, 1396], [2, 7407, 968, 92, 82, 3476, 1679, 11939, 104], [2, 377, 93, 104, 6, 19, 4111, 23, 4112, 720, 449], [2, 292, 10752, 31, 14, 107, 13, 1050, 375]]\n",
      "decoder  [[11938, 2308, 9051, 8, 8450, 519, 764, 12, 3030, 1429, 3], [148, 54, 4, 281, 4, 323, 4, 809, 589, 2262, 1396, 3], [7407, 968, 92, 82, 3476, 1679, 11939, 104, 3], [377, 93, 104, 6, 19, 4111, 23, 4112, 720, 449, 3], [292, 10752, 31, 14, 107, 13, 1050, 375, 3]]\n"
     ]
    }
   ],
   "source": [
    "tar_vocab = 13642\n",
    "tar_tokenizer = Tokenizer(num_words=tar_vocab, oov_token=\"<OOV>\") \n",
    "tar_tokenizer.fit_on_texts(decoder_input_train)\n",
    "tar_tokenizer.fit_on_texts(decoder_target_train)\n",
    "\n",
    "# 텍스트 시퀀스를 정수 시퀀스로 변환\n",
    "decoder_input_train = tar_tokenizer.texts_to_sequences(decoder_input_train) \n",
    "decoder_target_train = tar_tokenizer.texts_to_sequences(decoder_target_train)\n",
    "decoder_input_test = tar_tokenizer.texts_to_sequences(decoder_input_test)\n",
    "decoder_target_test = tar_tokenizer.texts_to_sequences(decoder_target_test)\n",
    "\n",
    "# 잘 변환되었는지 확인\n",
    "print('input ',decoder_input_train[:5])\n",
    "print('decoder ',decoder_target_train[:5])"
   ]
  },
  {
   "cell_type": "code",
   "execution_count": 44,
   "id": "hungry-prescription",
   "metadata": {
    "colab": {
     "base_uri": "https://localhost:8080/"
    },
    "id": "silent-compiler",
    "outputId": "ba084d89-dd43-4bb3-ce90-be828f345c7c"
   },
   "outputs": [
    {
     "name": "stdout",
     "output_type": "stream",
     "text": [
      "삭제할 훈련 데이터의 개수 : 0\n",
      "삭제할 테스트 데이터의 개수 : 0\n",
      "훈련 데이터의 개수 : 78663\n",
      "훈련 레이블의 개수 : 78663\n",
      "테스트 데이터의 개수 : 19666\n",
      "테스트 레이블의 개수 : 19666\n"
     ]
    }
   ],
   "source": [
    "drop_train = [index for index, sentence in enumerate(decoder_input_train) if len(sentence) == 1]\n",
    "drop_test = [index for index, sentence in enumerate(decoder_input_test) if len(sentence) == 1]\n",
    "\n",
    "print('삭제할 훈련 데이터의 개수 :', len(drop_train))\n",
    "print('삭제할 테스트 데이터의 개수 :', len(drop_test))\n",
    "\n",
    "encoder_input_train = np.delete(encoder_input_train, drop_train, axis=0)\n",
    "decoder_input_train = np.delete(decoder_input_train, drop_train, axis=0)\n",
    "decoder_target_train = np.delete(decoder_target_train, drop_train, axis=0)\n",
    "\n",
    "encoder_input_test = np.delete(encoder_input_test, drop_test, axis=0)\n",
    "decoder_input_test = np.delete(decoder_input_test, drop_test, axis=0)\n",
    "decoder_target_test = np.delete(decoder_target_test, drop_test, axis=0)\n",
    "\n",
    "print('훈련 데이터의 개수 :', len(encoder_input_train))\n",
    "print('훈련 레이블의 개수 :', len(decoder_input_train))\n",
    "print('테스트 데이터의 개수 :', len(encoder_input_test))\n",
    "print('테스트 레이블의 개수 :', len(decoder_input_test))"
   ]
  },
  {
   "cell_type": "markdown",
   "id": "minimal-chancellor",
   "metadata": {
    "id": "identical-support"
   },
   "source": [
    "## 패딩 추가"
   ]
  },
  {
   "cell_type": "code",
   "execution_count": 45,
   "id": "clinical-height",
   "metadata": {
    "id": "systematic-diploma"
   },
   "outputs": [],
   "source": [
    "encoder_input_train = pad_sequences(encoder_input_train, maxlen=text_max_len, padding='post')\n",
    "encoder_input_test = pad_sequences(encoder_input_test, maxlen=text_max_len, padding='post')\n",
    "\n",
    "decoder_input_train = pad_sequences(decoder_input_train, maxlen=summary_max_len, padding='post')\n",
    "decoder_target_train = pad_sequences(decoder_target_train, maxlen=summary_max_len, padding='post')\n",
    "\n",
    "decoder_input_test = pad_sequences(decoder_input_test, maxlen=summary_max_len, padding='post')\n",
    "decoder_target_test = pad_sequences(decoder_target_test, maxlen=summary_max_len, padding='post')"
   ]
  },
  {
   "cell_type": "markdown",
   "id": "small-opinion",
   "metadata": {
    "id": "equivalent-acrylic"
   },
   "source": [
    "<hr>\n",
    "\n",
    "<br>\n",
    "\n",
    "## 모델 설계: seq2seq + Attention"
   ]
  },
  {
   "cell_type": "code",
   "execution_count": 46,
   "id": "fiscal-reasoning",
   "metadata": {
    "colab": {
     "base_uri": "https://localhost:8080/"
    },
    "id": "alpine-israel",
    "outputId": "716ebd75-acee-451d-ab61-6db493989ab3"
   },
   "outputs": [
    {
     "name": "stdout",
     "output_type": "stream",
     "text": [
      "WARNING:tensorflow:Layer lstm will not use cuDNN kernel since it doesn't meet the cuDNN kernel criteria. It will use generic GPU kernel as fallback when running on GPU\n",
      "WARNING:tensorflow:Layer lstm_1 will not use cuDNN kernel since it doesn't meet the cuDNN kernel criteria. It will use generic GPU kernel as fallback when running on GPU\n",
      "WARNING:tensorflow:Layer lstm_2 will not use cuDNN kernel since it doesn't meet the cuDNN kernel criteria. It will use generic GPU kernel as fallback when running on GPU\n"
     ]
    }
   ],
   "source": [
    "# 인코더 설계 시작\n",
    "embedding_dim = 128\n",
    "hidden_size = 256     # hidden state의 크기\n",
    "\n",
    "# 인코더\n",
    "encoder_inputs = Input(shape=(text_max_len,))\n",
    "\n",
    "# 인코더의 임베딩 층\n",
    "enc_emb = Embedding(src_vocab, embedding_dim)(encoder_inputs)\n",
    "\n",
    "# 인코더의 LSTM 1\n",
    "encoder_lstm1 = LSTM(hidden_size, return_sequences=True, return_state=True ,dropout=0.4, recurrent_dropout=0.4)\n",
    "encoder_output1, state_h1, state_c1 = encoder_lstm1(enc_emb)\n",
    "\n",
    "# 인코더의 LSTM 2\n",
    "encoder_lstm2 = LSTM(hidden_size, return_sequences=True, return_state=True, dropout=0.4, recurrent_dropout=0.4)\n",
    "encoder_output2, state_h2, state_c2 = encoder_lstm2(encoder_output1)\n",
    "\n",
    "# 인코더의 LSTM 3\n",
    "encoder_lstm3 = LSTM(hidden_size, return_state=True, return_sequences=True, dropout=0.4, recurrent_dropout=0.4)\n",
    "encoder_outputs, state_h, state_c= encoder_lstm3(encoder_output2)"
   ]
  },
  {
   "cell_type": "code",
   "execution_count": 47,
   "id": "quality-relative",
   "metadata": {
    "colab": {
     "base_uri": "https://localhost:8080/"
    },
    "id": "coastal-appendix",
    "outputId": "137cd9c1-9464-4d20-b89a-79feda64c52d",
    "scrolled": true
   },
   "outputs": [
    {
     "name": "stdout",
     "output_type": "stream",
     "text": [
      "WARNING:tensorflow:Layer lstm_3 will not use cuDNN kernel since it doesn't meet the cuDNN kernel criteria. It will use generic GPU kernel as fallback when running on GPU\n"
     ]
    }
   ],
   "source": [
    "# 디코더 설계\n",
    "decoder_inputs = Input(shape=(None,))\n",
    "\n",
    "# 디코더의 임베딩 층\n",
    "dec_emb_layer = Embedding(tar_vocab, embedding_dim)\n",
    "dec_emb = dec_emb_layer(decoder_inputs)\n",
    "\n",
    "# 디코더의 LSTM\n",
    "decoder_lstm = LSTM(hidden_size, return_sequences=True, return_state=True, dropout=0.4, recurrent_dropout=0.2)\n",
    "decoder_outputs, _, _ = decoder_lstm(dec_emb, initial_state=[state_h, state_c])"
   ]
  },
  {
   "cell_type": "code",
   "execution_count": 48,
   "id": "presidential-functionality",
   "metadata": {
    "id": "received-client"
   },
   "outputs": [],
   "source": [
    "# 어텐션 층(어텐션 함수)\n",
    "attn_layer = AttentionLayer(name='attention_layer')\n",
    "# 인코더와 디코더의 모든 time step의 hidden state를 어텐션 층에 전달하고 결과를 리턴\n",
    "attn_out, attn_states = attn_layer([encoder_outputs, decoder_outputs])\n",
    "\n",
    "# 어텐션의 결과와 디코더의 hidden state들을 연결\n",
    "decoder_concat_input = Concatenate(axis=-1, name='concat_layer')([decoder_outputs, attn_out])\n",
    "\n",
    "# 디코더의 출력층\n",
    "decoder_softmax_layer = Dense(tar_vocab, activation='softmax')\n",
    "decoder_softmax_outputs = decoder_softmax_layer(decoder_concat_input)"
   ]
  },
  {
   "cell_type": "code",
   "execution_count": 49,
   "id": "competent-sharp",
   "metadata": {
    "colab": {
     "base_uri": "https://localhost:8080/"
    },
    "id": "psychological-consideration",
    "outputId": "bf01373d-d057-4770-9f97-8b46959724df"
   },
   "outputs": [
    {
     "name": "stdout",
     "output_type": "stream",
     "text": [
      "Model: \"model\"\n",
      "__________________________________________________________________________________________________\n",
      "Layer (type)                    Output Shape         Param #     Connected to                     \n",
      "==================================================================================================\n",
      "input_1 (InputLayer)            [(None, 70)]         0                                            \n",
      "__________________________________________________________________________________________________\n",
      "embedding (Embedding)           (None, 70, 128)      2433024     input_1[0][0]                    \n",
      "__________________________________________________________________________________________________\n",
      "lstm (LSTM)                     [(None, 70, 256), (N 394240      embedding[0][0]                  \n",
      "__________________________________________________________________________________________________\n",
      "input_2 (InputLayer)            [(None, None)]       0                                            \n",
      "__________________________________________________________________________________________________\n",
      "lstm_1 (LSTM)                   [(None, 70, 256), (N 525312      lstm[0][0]                       \n",
      "__________________________________________________________________________________________________\n",
      "embedding_1 (Embedding)         (None, None, 128)    1746176     input_2[0][0]                    \n",
      "__________________________________________________________________________________________________\n",
      "lstm_2 (LSTM)                   [(None, 70, 256), (N 525312      lstm_1[0][0]                     \n",
      "__________________________________________________________________________________________________\n",
      "lstm_3 (LSTM)                   [(None, None, 256),  394240      embedding_1[0][0]                \n",
      "                                                                 lstm_2[0][1]                     \n",
      "                                                                 lstm_2[0][2]                     \n",
      "__________________________________________________________________________________________________\n",
      "attention_layer (AttentionLayer ((None, None, 256),  131328      lstm_2[0][0]                     \n",
      "                                                                 lstm_3[0][0]                     \n",
      "__________________________________________________________________________________________________\n",
      "concat_layer (Concatenate)      (None, None, 512)    0           lstm_3[0][0]                     \n",
      "                                                                 attention_layer[0][0]            \n",
      "__________________________________________________________________________________________________\n",
      "dense (Dense)                   (None, None, 13642)  6998346     concat_layer[0][0]               \n",
      "==================================================================================================\n",
      "Total params: 13,147,978\n",
      "Trainable params: 13,147,978\n",
      "Non-trainable params: 0\n",
      "__________________________________________________________________________________________________\n"
     ]
    }
   ],
   "source": [
    "# 모델 정의\n",
    "model = Model([encoder_inputs, decoder_inputs], decoder_softmax_outputs)\n",
    "model.summary()"
   ]
  },
  {
   "cell_type": "code",
   "execution_count": 50,
   "id": "original-orleans",
   "metadata": {
    "colab": {
     "base_uri": "https://localhost:8080/",
     "height": 336
    },
    "id": "5TuvV3Rg4TX3",
    "outputId": "460f24e8-f0a4-46d2-afd9-148782604bd6"
   },
   "outputs": [
    {
     "data": {
      "image/png": "[encoded data removed]",
      "text/plain": [
       "<IPython.core.display.Image object>"
      ]
     },
     "execution_count": 50,
     "metadata": {},
     "output_type": "execute_result"
    }
   ],
   "source": [
    "plot_model(model, show_shapes=True, show_layer_names=True)"
   ]
  },
  {
   "cell_type": "markdown",
   "id": "tamil-chicago",
   "metadata": {
    "id": "boolean-colon"
   },
   "source": [
    "## 모델 학습"
   ]
  },
  {
   "cell_type": "code",
   "execution_count": 51,
   "id": "confirmed-gamma",
   "metadata": {
    "colab": {
     "base_uri": "https://localhost:8080/"
    },
    "id": "equivalent-static",
    "outputId": "bdc93b73-0c20-4a9d-df5a-0d50e28db795"
   },
   "outputs": [
    {
     "data": {
      "text/plain": [
       "[PhysicalDevice(name='/physical_device:GPU:0', device_type='GPU')]"
      ]
     },
     "execution_count": 51,
     "metadata": {},
     "output_type": "execute_result"
    }
   ],
   "source": [
    "tf.config.list_physical_devices('GPU')"
   ]
  },
  {
   "cell_type": "code",
   "execution_count": 52,
   "id": "rocky-movie",
   "metadata": {
    "id": "GFb4MBZX7I2H"
   },
   "outputs": [],
   "source": [
    "model.compile(optimizer='rmsprop', loss='sparse_categorical_crossentropy', experimental_run_tf_function=False)\n",
    "\n",
    "es = EarlyStopping(monitor='val_loss', patience=2, verbose=1)"
   ]
  },
  {
   "cell_type": "code",
   "execution_count": 53,
   "id": "neural-fever",
   "metadata": {
    "colab": {
     "base_uri": "https://localhost:8080/",
     "height": 603
    },
    "id": "advisory-latter",
    "outputId": "b6b9e1d4-8bc2-45d2-ce66-979edb395c23"
   },
   "outputs": [
    {
     "name": "stdout",
     "output_type": "stream",
     "text": [
      "Train on 78663 samples, validate on 19666 samples\n",
      "Epoch 1/50\n",
      "78663/78663 [==============================] - 262s 3ms/sample - loss: 4.2931 - val_loss: 3.9490\n",
      "Epoch 2/50\n",
      "78663/78663 [==============================] - 255s 3ms/sample - loss: 3.8797 - val_loss: 3.7337\n",
      "Epoch 3/50\n",
      "78663/78663 [==============================] - 254s 3ms/sample - loss: 3.6828 - val_loss: 3.5671\n",
      "Epoch 4/50\n",
      "78663/78663 [==============================] - 254s 3ms/sample - loss: 3.4926 - val_loss: 3.3804\n",
      "Epoch 5/50\n",
      "78663/78663 [==============================] - 255s 3ms/sample - loss: 3.3146 - val_loss: 3.2404\n",
      "Epoch 6/50\n",
      "78663/78663 [==============================] - 254s 3ms/sample - loss: 3.1642 - val_loss: 3.1491\n",
      "Epoch 7/50\n",
      "78663/78663 [==============================] - 254s 3ms/sample - loss: 3.0408 - val_loss: 3.0523\n",
      "Epoch 8/50\n",
      "78663/78663 [==============================] - 252s 3ms/sample - loss: 2.9337 - val_loss: 2.9753\n",
      "Epoch 9/50\n",
      "78663/78663 [==============================] - 251s 3ms/sample - loss: 2.8371 - val_loss: 2.9220\n",
      "Epoch 10/50\n",
      "78663/78663 [==============================] - 251s 3ms/sample - loss: 2.7507 - val_loss: 2.8649\n",
      "Epoch 11/50\n",
      "78663/78663 [==============================] - 251s 3ms/sample - loss: 2.6712 - val_loss: 2.8199\n",
      "Epoch 12/50\n",
      "78663/78663 [==============================] - 252s 3ms/sample - loss: 2.5989 - val_loss: 2.7847\n",
      "Epoch 13/50\n",
      "78663/78663 [==============================] - 252s 3ms/sample - loss: 2.5325 - val_loss: 2.7512\n",
      "Epoch 14/50\n",
      "78663/78663 [==============================] - 252s 3ms/sample - loss: 2.4715 - val_loss: 2.7336\n",
      "Epoch 15/50\n",
      "78663/78663 [==============================] - 252s 3ms/sample - loss: 2.4134 - val_loss: 2.7015\n",
      "Epoch 16/50\n",
      "78663/78663 [==============================] - 252s 3ms/sample - loss: 2.3606 - val_loss: 2.6740\n",
      "Epoch 17/50\n",
      "78663/78663 [==============================] - 252s 3ms/sample - loss: 2.3102 - val_loss: 2.6555\n",
      "Epoch 18/50\n",
      "78663/78663 [==============================] - 251s 3ms/sample - loss: 2.2631 - val_loss: 2.6399\n",
      "Epoch 19/50\n",
      "78663/78663 [==============================] - 252s 3ms/sample - loss: 2.2190 - val_loss: 2.6309\n",
      "Epoch 20/50\n",
      "78663/78663 [==============================] - 252s 3ms/sample - loss: 2.1778 - val_loss: 2.6179\n",
      "Epoch 21/50\n",
      "78663/78663 [==============================] - 252s 3ms/sample - loss: 2.1386 - val_loss: 2.6120\n",
      "Epoch 22/50\n",
      "78663/78663 [==============================] - 252s 3ms/sample - loss: 2.1006 - val_loss: 2.5979\n",
      "Epoch 23/50\n",
      "78663/78663 [==============================] - 252s 3ms/sample - loss: 2.0650 - val_loss: 2.5886\n",
      "Epoch 24/50\n",
      "78663/78663 [==============================] - 252s 3ms/sample - loss: 2.0316 - val_loss: 2.5893\n",
      "Epoch 25/50\n",
      "78663/78663 [==============================] - 252s 3ms/sample - loss: 2.0005 - val_loss: 2.5797\n",
      "Epoch 26/50\n",
      "78663/78663 [==============================] - 252s 3ms/sample - loss: 1.9695 - val_loss: 2.5785\n",
      "Epoch 27/50\n",
      "78663/78663 [==============================] - 252s 3ms/sample - loss: 1.9400 - val_loss: 2.5724\n",
      "Epoch 28/50\n",
      "78663/78663 [==============================] - 252s 3ms/sample - loss: 1.9119 - val_loss: 2.5713\n",
      "Epoch 29/50\n",
      "78663/78663 [==============================] - 252s 3ms/sample - loss: 1.8847 - val_loss: 2.5660\n",
      "Epoch 30/50\n",
      "78663/78663 [==============================] - 252s 3ms/sample - loss: 1.8589 - val_loss: 2.5674\n",
      "Epoch 31/50\n",
      "78663/78663 [==============================] - 252s 3ms/sample - loss: 1.8348 - val_loss: 2.5666\n",
      "Epoch 00031: early stopping\n"
     ]
    }
   ],
   "source": [
    "history = model.fit(x=[encoder_input_train, decoder_input_train], y=decoder_target_train, \\\n",
    "          validation_data=([encoder_input_test, decoder_input_test], decoder_target_test), \\\n",
    "          batch_size=512, callbacks=[es], epochs=50)"
   ]
  },
  {
   "cell_type": "code",
   "execution_count": 54,
   "id": "incoming-coordinate",
   "metadata": {
    "id": "revised-cyprus"
   },
   "outputs": [
    {
     "data": {
      "image/png": "[encoded data removed]",
      "text/plain": [
       "<Figure size 432x288 with 1 Axes>"
      ]
     },
     "metadata": {
      "needs_background": "light"
     },
     "output_type": "display_data"
    }
   ],
   "source": [
    "plt.plot(history.history['loss'], label='train')\n",
    "plt.plot(history.history['val_loss'], label='test')\n",
    "plt.legend()\n",
    "plt.show()"
   ]
  },
  {
   "cell_type": "code",
   "execution_count": 55,
   "id": "faced-union",
   "metadata": {
    "id": "descending-feature"
   },
   "outputs": [],
   "source": [
    "src_index_to_word = src_tokenizer.index_word # 원문 단어 집합에서 정수 -> 단어를 얻음\n",
    "tar_word_to_index = tar_tokenizer.word_index # 요약 단어 집합에서 단어 -> 정수를 얻음\n",
    "tar_index_to_word = tar_tokenizer.index_word # 요약 단어 집합에서 정수 -> 단어를 얻음"
   ]
  },
  {
   "cell_type": "code",
   "execution_count": 56,
   "id": "lined-ridge",
   "metadata": {
    "id": "impressive-editor"
   },
   "outputs": [],
   "source": [
    "# 인코더 설계\n",
    "encoder_model = Model(inputs=encoder_inputs, outputs=[encoder_outputs, state_h, state_c])\n",
    "\n",
    "# 이전 시점의 상태들을 저장하는 텐서\n",
    "decoder_state_input_h = Input(shape=(hidden_size,))\n",
    "decoder_state_input_c = Input(shape=(hidden_size,))\n",
    "\n",
    "dec_emb2 = dec_emb_layer(decoder_inputs)\n",
    "\n",
    "# 문장의 다음 단어를 예측하기 위해서 초기 상태(initial_state)를 이전 시점의 상태로 사용. 이는 뒤의 함수 decode_sequence()에 구현\n",
    "# 훈련 과정에서와 달리 LSTM의 리턴하는 은닉 상태와 셀 상태인 state_h와 state_c를 버리지 않음.\n",
    "decoder_outputs2, state_h2, state_c2 = decoder_lstm(dec_emb2, initial_state=[decoder_state_input_h, decoder_state_input_c])"
   ]
  },
  {
   "cell_type": "code",
   "execution_count": 57,
   "id": "technical-conference",
   "metadata": {
    "id": "violent-medicine"
   },
   "outputs": [],
   "source": [
    "# 어텐션 함수\n",
    "decoder_hidden_state_input = Input(shape=(text_max_len, hidden_size))\n",
    "attn_out_inf, attn_states_inf = attn_layer([decoder_hidden_state_input, decoder_outputs2])\n",
    "decoder_inf_concat = Concatenate(axis=-1, name='concat')([decoder_outputs2, attn_out_inf])\n",
    "\n",
    "# 디코더의 출력층\n",
    "decoder_outputs2 = decoder_softmax_layer(decoder_inf_concat) \n",
    "\n",
    "# 최종 디코더 모델\n",
    "decoder_model = Model(\n",
    "    [decoder_inputs] + [decoder_hidden_state_input,decoder_state_input_h, decoder_state_input_c],\n",
    "    [decoder_outputs2] + [state_h2, state_c2])"
   ]
  },
  {
   "cell_type": "code",
   "execution_count": 58,
   "id": "quiet-sunset",
   "metadata": {
    "id": "outside-dublin"
   },
   "outputs": [],
   "source": [
    "def decode_sequence(input_seq):\n",
    "    # 입력으로부터 인코더의 상태를 얻음\n",
    "    e_out, e_h, e_c = encoder_model.predict(input_seq)\n",
    "\n",
    "     # <SOS>에 해당하는 토큰 생성\n",
    "    target_seq = np.zeros((1,1))\n",
    "    target_seq[0, 0] = tar_word_to_index['sostoken']\n",
    "\n",
    "    stop_condition = False\n",
    "    decoded_sentence = ''\n",
    "    while not stop_condition: # stop_condition이 True가 될 때까지 루프 반복\n",
    "\n",
    "        output_tokens, h, c = decoder_model.predict([target_seq] + [e_out, e_h, e_c])\n",
    "        sampled_token_index = np.argmax(output_tokens[0, -1, :])\n",
    "        sampled_token = tar_index_to_word[sampled_token_index]\n",
    "\n",
    "        if (sampled_token!='eostoken'):\n",
    "            decoded_sentence += ' '+sampled_token\n",
    "\n",
    "        #  <eos>에 도달하거나 최대 길이를 넘으면 중단.\n",
    "        if (sampled_token == 'eostoken'  or len(decoded_sentence.split()) >= (summary_max_len-1)):\n",
    "            stop_condition = True\n",
    "\n",
    "        # 길이가 1인 타겟 시퀀스를 업데이트\n",
    "        target_seq = np.zeros((1,1))\n",
    "        target_seq[0, 0] = sampled_token_index\n",
    "\n",
    "        # 상태를 업데이트 합니다.\n",
    "        e_h, e_c = h, c\n",
    "\n",
    "    return decoded_sentence"
   ]
  },
  {
   "cell_type": "markdown",
   "id": "permanent-final",
   "metadata": {
    "id": "worldwide-dependence"
   },
   "source": [
    "<hr>\n",
    "\n",
    "<br>\n",
    "\n",
    "\n",
    "## 모델 검증, 성능 확인"
   ]
  },
  {
   "cell_type": "code",
   "execution_count": 59,
   "id": "federal-ground",
   "metadata": {
    "id": "mineral-pierce"
   },
   "outputs": [],
   "source": [
    "# 원문의 정수 시퀀스를 텍스트 시퀀스로 변환\n",
    "def seq2text(input_seq):\n",
    "    temp=''\n",
    "    for i in input_seq:\n",
    "        if (i!=0):\n",
    "            temp = temp + src_index_to_word[i]+' '\n",
    "    return temp\n",
    "\n",
    "\n",
    "# 요약문의 정수 시퀀스를 텍스트 시퀀스로 변환\n",
    "def seq2summary(input_seq):\n",
    "    temp=''\n",
    "    for i in input_seq:\n",
    "        if ((i!=0 and i!=tar_word_to_index['sostoken']) and i!=tar_word_to_index['eostoken']):\n",
    "            temp = temp + tar_index_to_word[i] + ' '\n",
    "    return temp"
   ]
  },
  {
   "cell_type": "code",
   "execution_count": 60,
   "id": "forty-development",
   "metadata": {
    "id": "conscious-local"
   },
   "outputs": [
    {
     "name": "stdout",
     "output_type": "stream",
     "text": [
      "원문 : us based startup <OOV> which runs a platform to check spelling and <OOV> has raised million in funding from general catalyst <OOV> and spark capital this is the first venture round for the eight year old startup <OOV> has around lakh daily active users most of whom use the service for free \n",
      "실제 요약 : <OOV> spelling checking platform <OOV> raises mn \n",
      "예측 요약 :  us startup <OOV> raises million in series b funding\n",
      "\n",
      "\n",
      "원문 : former india captain ms dhoni got angry at non striker manish pandey after the first ball of the last over of indias innings during the second t i against south africa on wednesday dhoni <OOV> asked pandey to focus towards him while he is batting instead of looking elsewhere the year old went on to smash the subsequent ball for a six \n",
      "실제 요약 : video dhoni gets angry at pandey for not paying attention \n",
      "예측 요약 :  dhoni bowls out of the last ball of the field in india\n",
      "\n",
      "\n",
      "원문 : the operational head of jaish e mohammed khalid was killed in a gun battle with security forces in kashmirs baramulla on monday the security forces had cordoned off an area they believed khalid was hiding in after they received intelligence inputs he reportedly tried to escape after getting injured in the gun battle but was caught inside a building \n",
      "실제 요약 : jaish e mohammed <OOV> head killed in encounter in j k \n",
      "예측 요약 :  army officer who killed terrorist shot dead in j k\n",
      "\n",
      "\n",
      "원문 : the centre on monday announced a four member committee headed by the union home secretary to suggest laws against lynching and mob violence a group of ministers was also constituted to make recommendations to the prime minister for legislation on lynching this comes after the supreme court asked the parliament to come up with a law on lynchings \n",
      "실제 요약 : centre to set up high level committee to probe mob lynchings \n",
      "예측 요약 :  centre approves new member of <OOV> <OOV> in india\n",
      "\n",
      "\n",
      "원문 : indian captain virat kohli broke former indian cricketer sachin tendulkars record to become the fastest batsman to reach the mark of odi runs in asia the year old batsman achieved the mark in his th odi innings as compared to tendulkars innings kohli also became the th player overall to score plus runs in odis in asia \n",
      "실제 요약 : kohli beats sachins record of fastest odi runs in asia \n",
      "예측 요약 :  kohli equals record of most intl tons in india history\n",
      "\n",
      "\n",
      "원문 : <OOV> year old <OOV> <OOV> became the first ever unseeded womens singles player in the open era to win the french open after defeating romanias simona halep in the final on saturday <OOV> also became only the fourth unseeded womens singles player in the open era to win a grand slam title after defeating the world number four \n",
      "실제 요약 : yr old becomes st <OOV> french open womens champion \n",
      "예측 요약 :  yr old wins st time in st round in st round in yrs\n",
      "\n",
      "\n",
      "원문 : virgin hyperloop one on thursday announced it has hired jay <OOV> former ceo of bike sharing operator motivate as its new ceo sultan ahmed bin <OOV> chairman and ceo of the united arab emirates shipping and logistics company <OOV> world will replace richard branson as the companys chairman <OOV> world became <OOV> largest investor after the last funding \n",
      "실제 요약 : virgin hyperloop one hires new ceo board chairman \n",
      "예측 요약 :  <OOV> <OOV> <OOV> <OOV> <OOV> ceo steps down\n",
      "\n",
      "\n",
      "원문 : uk retailer boots has said it is truly sorry for the way it responded to a campaign calling for it to cut the price of emergency <OOV> and said it is looking for cheaper alternatives the announcement came amid calls for boycott boots earlier said it wouldnt lower the morning after pills price because it didnt want to <OOV> inappropriate use \n",
      "실제 요약 : sorry for saying women might misuse morning after pill firm \n",
      "예측 요약 :  <OOV> <OOV> to be <OOV> to be <OOV> <OOV>\n",
      "\n",
      "\n",
      "원문 : hyundai motor india on tuesday sought governments clarity on definition of luxury cars and how these are defined for taxation purpose under gst at current gst rates hyundai models like new versions of <OOV> and <OOV> attract the same tax rate as luxury models from bmw and audi however pre gst these models attracted a lower tax than other luxury vehicles \n",
      "실제 요약 : hyundai seeks <OOV> from govt on definition of luxury cars \n",
      "예측 요약 :  govt to auction tax on gst rates on gst rates\n",
      "\n",
      "\n",
      "원문 : delhi metros longest line namely the kilometre <OOV> shiv vihar corridor will operate in two segments notably four kilometres of the line is stuck over land acquisition and rehabilitation of affected people in <OOV> delhi metro officials have requested the government for more land but the process will take time and the line will operate in two parts till then \n",
      "실제 요약 : delhi metros longest line to run in parts due to delay \n",
      "예측 요약 :  delhi metro to get indias st bullet train line in delhi\n",
      "\n",
      "\n"
     ]
    }
   ],
   "source": [
    "for i in range(0, 10):\n",
    "    print(\"원문 :\", seq2text(encoder_input_test[i]))\n",
    "    print(\"실제 요약 :\", seq2summary(decoder_input_test[i]))\n",
    "    print(\"예측 요약 :\", decode_sequence(encoder_input_test[i].reshape(1, text_max_len)))\n",
    "    print(\"\\n\")"
   ]
  }
 ],
 "metadata": {
  "accelerator": "GPU",
  "colab": {
   "name": "news_summarizer.ipynb",
   "provenance": [],
   "toc_visible": true
  },
  "kernelspec": {
   "display_name": "Python 3",
   "language": "python",
   "name": "python3"
  },
  "language_info": {
   "codemirror_mode": {
    "name": "ipython",
    "version": 3
   },
   "file_extension": ".py",
   "mimetype": "text/x-python",
   "name": "python",
   "nbconvert_exporter": "python",
   "pygments_lexer": "ipython3",
   "version": "3.7.9"
  }
 },
 "nbformat": 4,
 "nbformat_minor": 5
}
