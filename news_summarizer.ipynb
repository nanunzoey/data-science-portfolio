{
 "cells": [
  {
   "cell_type": "markdown",
   "id": "excessive-dependence",
   "metadata": {
    "id": "right-gravity"
   },
   "source": [
    "# **뉴스 기사 요약**\n",
    "\n",
    "- [뉴스 기사 데이터](https://github.com/sunnysai12345/News_Summary)\n",
    "\n",
    "### 목차\n",
    "\n",
    "1. [데이터 로드](#데이터-로드)\n",
    "2. [데이터 전처리](#데이터-전처리)\n",
    "3. [Encoder&Decoder 생성](#Encoder&Decoder-생성)\n",
    "4. [Train, test dataset split](#Train,-test-dataset-split)\n",
    "5. [패딩 추가](#패딩-추가)\n",
    "6. [모델 설계: seq2seq + Attention](#모델-설계:-seq2seq-+-Attention)\n",
    "7. [모델 학습](#모델-학습)\n",
    "8. [모델 검증, 성능 확인](#모델-검증,-성능-확인)"
   ]
  },
  {
   "cell_type": "markdown",
   "id": "fantastic-nylon",
   "metadata": {
    "id": "comparable-battle"
   },
   "source": [
    "## 이론 정리\n",
    "\n",
    "텍스트 요약이란 긴 길이의 문서 원문을 핵심 주제만으로 구성된 짧은 요약 문장들로 변환하는 것을 말한다.\n",
    "\n",
    "- 핵심은 요약 전후 정보 소실을 최소화하는 것!\n",
    "- 방법 1: 추출 요약 Extractive Summarization\n",
    "- 방법 2: 추상 요약 Abstractive Summarization"
   ]
  },
  {
   "cell_type": "markdown",
   "id": "heated-sapphire",
   "metadata": {
    "id": "infectious-advancement"
   },
   "source": [
    "### 추출 요약\n",
    "\n",
    "- 예를 들어 10개의 전체 문장에서 핵심적인 3개 문장을 꺼내오는 방식\n",
    "- 문장 분류라고도 볼 수 있다. Text Classification\n",
    "- 그러나 문장 연결이 자연스럽지 않을 수도 있다.\n",
    "- TextRank 같은 머신러닝 알고리즘을 이용한다.\n",
    "- 예: 네이버 뉴스 요약봇"
   ]
  },
  {
   "cell_type": "markdown",
   "id": "comprehensive-stevens",
   "metadata": {
    "id": "hungry-adolescent"
   },
   "source": [
    "### 추상 요약\n",
    "\n",
    "- 원문 내용을 요약한 새로운 문장을 생성한다.\n",
    "- 자연어 생성 Natural Language Generation, NLG 영역\n",
    "- RNN을 이용할 수도 있지만, 단점은 학습 데이터의 길이가 길어질수록 먼 과거의 정보를 현재에 전달하기 어렵다는 것.\n",
    "- 즉 이러한 장기 의존성(Long term dependencies) 문제를 해결하기 위해 LSTM과 GRU가 등장했고, 이마저도 부족해서 어텐션 메커니즘이 등장했다."
   ]
  },
  {
   "cell_type": "markdown",
   "id": "grateful-factory",
   "metadata": {
    "id": "seven-investing"
   },
   "source": [
    "### seq2seq(sequence-to-sequence)\n",
    "\n",
    "- 요약문을 생성하는 모델을 딥러닝을 통해 end-to-end로 설계하도록 한다.\n",
    "- 구글이 메일 서비스에 적용한 자동 회식 기능과 비슷한 기법\n",
    "- 인코더와 디코더의 구조로 구성된 딥러닝 아키텍처"
   ]
  },
  {
   "cell_type": "markdown",
   "id": "hawaiian-demographic",
   "metadata": {
    "id": "everyday-syntax"
   },
   "source": [
    "### seq2seq 모델로 Abstractive 요약 방식의 텍스트 요약기\n",
    "\n",
    "- seq2seq은 RNN 아키텍처 2개를 사용해서 입력 시퀀스로부터 출력 시퀀스를 생성해낸다.\n",
    "- 주로 뉴럴 기계번역에 사용되는 모델\n",
    "- 원문을 첫 번째 RNN인 인코더로 입력하면, 인코더는 이를 하나의 고정된 벡터로 변환하고, 이 벡터를 문맥 정보를 가지고 있는 벡터로 하여 컨텐스트 벡터라고 한다.\n",
    "- 두 번째 RNN인 디코더는 이 컨텍스트 벡터를 전달 받아 한 단어씩 생성해내서 요약 문장을 완성한다.\n",
    "\n",
    "![image](https://user-images.githubusercontent.com/80008411/139969595-32c24db0-6396-4988-848a-2aa8e66b3e83.png)\n"
   ]
  },
  {
   "cell_type": "markdown",
   "id": "armed-reserve",
   "metadata": {
    "id": "front-party"
   },
   "source": [
    "### LSTM과 바닐라 RNN의 차이\n",
    "\n",
    "- 다음 time step의 셀에 hidden state뿐만 아니라, cell state도 함께 전달한다는 점\n",
    "- 다시 말해, 인코더가 디코더에 전달하는 컨텍스트 벡터 또한 hidden state h와 cell state c 두개의 값 모두 존재해야 한다.\n",
    "\n",
    "\n",
    "![image](https://user-images.githubusercontent.com/80008411/139969626-08714992-7303-4775-8e6a-43ad6f08211f.png)\n"
   ]
  },
  {
   "cell_type": "markdown",
   "id": "rolled-metadata",
   "metadata": {
    "id": "8RKBwFyPOVvV"
   },
   "source": [
    "# **구현**"
   ]
  },
  {
   "cell_type": "code",
   "execution_count": 61,
   "id": "crazy-girlfriend",
   "metadata": {
    "colab": {
     "base_uri": "https://localhost:8080/"
    },
    "id": "floppy-latest",
    "outputId": "55911a43-1a6e-485f-fd69-29537abb3887"
   },
   "outputs": [
    {
     "name": "stderr",
     "output_type": "stream",
     "text": [
      "[nltk_data] Downloading package stopwords to /aiffel/nltk_data...\n",
      "[nltk_data]   Package stopwords is already up-to-date!\n"
     ]
    }
   ],
   "source": [
    "# basic libraries\n",
    "import os\n",
    "import re\n",
    "import time\n",
    "import urllib.request\n",
    "urllib.request.urlretrieve(\"https://raw.githubusercontent.com/thushv89/attention_keras/master/src/layers/attention.py\", filename=\"attention.py\")\n",
    "import requests\n",
    "import warnings\n",
    "warnings.filterwarnings(action='ignore')\n",
    "\n",
    "from bs4 import BeautifulSoup\n",
    "\n",
    "import numpy as np\n",
    "import pandas as pd\n",
    "import matplotlib.pyplot as plt\n",
    "%matplotlib inline\n",
    "\n",
    "import multiprocessing as mp\n",
    "from multiprocessing import Pool\n",
    "from functools import partial\n",
    "\n",
    "# for prepreocessing\n",
    "import nltk\n",
    "nltk.download('stopwords')\n",
    "from nltk.corpus import stopwords\n",
    "from tensorflow.keras.preprocessing.text import Tokenizer\n",
    "from tensorflow.keras.preprocessing.sequence import pad_sequences\n",
    "\n",
    "# for modeling & training\n",
    "import tensorflow as tf\n",
    "from sklearn.model_selection import train_test_split\n",
    "from keras.utils.vis_utils import plot_model\n",
    "from attention import AttentionLayer\n",
    "from summa.summarizer import summarize\n",
    "from tensorflow.keras.layers import Input, LSTM, Embedding, Dense, Concatenate\n",
    "from tensorflow.keras.models import Model\n",
    "from tensorflow.keras.callbacks import EarlyStopping, ModelCheckpoint\n",
    "from tensorflow.python.framework.ops import disable_eager_execution\n",
    "disable_eager_execution()"
   ]
  },
  {
   "cell_type": "markdown",
   "id": "supported-enhancement",
   "metadata": {
    "id": "surface-poker"
   },
   "source": [
    "## 데이터 로드"
   ]
  },
  {
   "cell_type": "code",
   "execution_count": 62,
   "id": "mysterious-intention",
   "metadata": {
    "id": "offshore-range"
   },
   "outputs": [],
   "source": [
    "# 데이터 로드\n",
    "urllib.request.urlretrieve(\"https://raw.githubusercontent.com/sunnysai12345/News_Summary/master/news_summary_more.csv\", filename=\"news_summary_more.csv\")\n",
    "data = pd.read_csv('news_summary_more.csv', encoding='iso-8859-1')"
   ]
  },
  {
   "cell_type": "code",
   "execution_count": 63,
   "id": "monetary-eugene",
   "metadata": {
    "colab": {
     "base_uri": "https://localhost:8080/",
     "height": 359
    },
    "id": "unsigned-fourth",
    "outputId": "a01fdc64-23e5-45f6-96d6-81d5cb035699"
   },
   "outputs": [
    {
     "data": {
      "text/html": [
       "<div>\n",
       "<style scoped>\n",
       "    .dataframe tbody tr th:only-of-type {\n",
       "        vertical-align: middle;\n",
       "    }\n",
       "\n",
       "    .dataframe tbody tr th {\n",
       "        vertical-align: top;\n",
       "    }\n",
       "\n",
       "    .dataframe thead th {\n",
       "        text-align: right;\n",
       "    }\n",
       "</style>\n",
       "<table border=\"1\" class=\"dataframe\">\n",
       "  <thead>\n",
       "    <tr style=\"text-align: right;\">\n",
       "      <th></th>\n",
       "      <th>headlines</th>\n",
       "      <th>text</th>\n",
       "    </tr>\n",
       "  </thead>\n",
       "  <tbody>\n",
       "    <tr>\n",
       "      <th>78341</th>\n",
       "      <td>If JD(U) against corruption, why allied with d...</td>\n",
       "      <td>After Bihar CM Nitish Kumar won floor test, RJ...</td>\n",
       "    </tr>\n",
       "    <tr>\n",
       "      <th>9372</th>\n",
       "      <td>Absconding ex-Bihar minister Manju Verma surre...</td>\n",
       "      <td>Former Bihar minister Manju Verma, who had bee...</td>\n",
       "    </tr>\n",
       "    <tr>\n",
       "      <th>70854</th>\n",
       "      <td>Mock evacuation drill held at Mumbai airport, ...</td>\n",
       "      <td>A mock evacuation drill was held at Mumbai air...</td>\n",
       "    </tr>\n",
       "    <tr>\n",
       "      <th>5542</th>\n",
       "      <td>I spent $40 million of my own funds on Boring ...</td>\n",
       "      <td>While unveiling the first tunnel of his The Bo...</td>\n",
       "    </tr>\n",
       "    <tr>\n",
       "      <th>11041</th>\n",
       "      <td>I never felt competitive with Salman, Shah Ru...</td>\n",
       "      <td>Aamir Khan said he's not a competitive person,...</td>\n",
       "    </tr>\n",
       "    <tr>\n",
       "      <th>13077</th>\n",
       "      <td>Veterinary doctor offers 13-yr-old Ã¢ÂÂ¹500 t...</td>\n",
       "      <td>A senior veterinary doctor has been arrested i...</td>\n",
       "    </tr>\n",
       "    <tr>\n",
       "      <th>10313</th>\n",
       "      <td>SRK's 'Baazigar' was shot with 2 endings, reve...</td>\n",
       "      <td>Filmmaker Mustan, part of duo Abbas-Mustan who...</td>\n",
       "    </tr>\n",
       "    <tr>\n",
       "      <th>32340</th>\n",
       "      <td>It's dream of any actress to play Nargis on sc...</td>\n",
       "      <td>Manisha Koirala has said portraying Nargis Dut...</td>\n",
       "    </tr>\n",
       "    <tr>\n",
       "      <th>14853</th>\n",
       "      <td>Chanda Kochhar quits as ICICI Bank CEO with im...</td>\n",
       "      <td>ICICI Bank's CEO Chanda Kochhar on Thursday qu...</td>\n",
       "    </tr>\n",
       "    <tr>\n",
       "      <th>11349</th>\n",
       "      <td>Longines presents new blue timepiece as the be...</td>\n",
       "      <td>Ahead of Diwali, Longines presents the gift of...</td>\n",
       "    </tr>\n",
       "  </tbody>\n",
       "</table>\n",
       "</div>"
      ],
      "text/plain": [
       "                                               headlines  \\\n",
       "78341  If JD(U) against corruption, why allied with d...   \n",
       "9372   Absconding ex-Bihar minister Manju Verma surre...   \n",
       "70854  Mock evacuation drill held at Mumbai airport, ...   \n",
       "5542   I spent $40 million of my own funds on Boring ...   \n",
       "11041   I never felt competitive with Salman, Shah Ru...   \n",
       "13077  Veterinary doctor offers 13-yr-old Ã¢ÂÂ¹500 t...   \n",
       "10313  SRK's 'Baazigar' was shot with 2 endings, reve...   \n",
       "32340  It's dream of any actress to play Nargis on sc...   \n",
       "14853  Chanda Kochhar quits as ICICI Bank CEO with im...   \n",
       "11349  Longines presents new blue timepiece as the be...   \n",
       "\n",
       "                                                    text  \n",
       "78341  After Bihar CM Nitish Kumar won floor test, RJ...  \n",
       "9372   Former Bihar minister Manju Verma, who had bee...  \n",
       "70854  A mock evacuation drill was held at Mumbai air...  \n",
       "5542   While unveiling the first tunnel of his The Bo...  \n",
       "11041  Aamir Khan said he's not a competitive person,...  \n",
       "13077  A senior veterinary doctor has been arrested i...  \n",
       "10313  Filmmaker Mustan, part of duo Abbas-Mustan who...  \n",
       "32340  Manisha Koirala has said portraying Nargis Dut...  \n",
       "14853  ICICI Bank's CEO Chanda Kochhar on Thursday qu...  \n",
       "11349  Ahead of Diwali, Longines presents the gift of...  "
      ]
     },
     "execution_count": 63,
     "metadata": {},
     "output_type": "execute_result"
    }
   ],
   "source": [
    "data.sample(10)"
   ]
  },
  {
   "cell_type": "markdown",
   "id": "matched-brunei",
   "metadata": {
    "id": "billion-novelty"
   },
   "source": [
    "## 데이터 전처리\n",
    "\n",
    "- 1) 중복값, 결측치 처리\n",
    "- 2) 텍스트 정규화\n",
    "    - 불용어 제거는 하지 않는다.\n",
    "- 3) 소문자 변환, 특수 문자 제거\n",
    "- 4) 문장 최대 길이 설정"
   ]
  },
  {
   "cell_type": "code",
   "execution_count": 64,
   "id": "conceptual-horse",
   "metadata": {
    "colab": {
     "base_uri": "https://localhost:8080/",
     "height": 173
    },
    "id": "female-hormone",
    "outputId": "85c2af28-5c84-4fe8-ea4e-3db7ad5c73dd"
   },
   "outputs": [
    {
     "data": {
      "text/html": [
       "<div>\n",
       "<style scoped>\n",
       "    .dataframe tbody tr th:only-of-type {\n",
       "        vertical-align: middle;\n",
       "    }\n",
       "\n",
       "    .dataframe tbody tr th {\n",
       "        vertical-align: top;\n",
       "    }\n",
       "\n",
       "    .dataframe thead th {\n",
       "        text-align: right;\n",
       "    }\n",
       "</style>\n",
       "<table border=\"1\" class=\"dataframe\">\n",
       "  <thead>\n",
       "    <tr style=\"text-align: right;\">\n",
       "      <th></th>\n",
       "      <th>headlines</th>\n",
       "      <th>text</th>\n",
       "    </tr>\n",
       "  </thead>\n",
       "  <tbody>\n",
       "    <tr>\n",
       "      <th>count</th>\n",
       "      <td>98401</td>\n",
       "      <td>98401</td>\n",
       "    </tr>\n",
       "    <tr>\n",
       "      <th>unique</th>\n",
       "      <td>98280</td>\n",
       "      <td>98360</td>\n",
       "    </tr>\n",
       "    <tr>\n",
       "      <th>top</th>\n",
       "      <td>Why is England-Australia Test series called 'T...</td>\n",
       "      <td>Former Pakistan captain Inzamam-ul-Haq attacke...</td>\n",
       "    </tr>\n",
       "    <tr>\n",
       "      <th>freq</th>\n",
       "      <td>3</td>\n",
       "      <td>2</td>\n",
       "    </tr>\n",
       "  </tbody>\n",
       "</table>\n",
       "</div>"
      ],
      "text/plain": [
       "                                                headlines  \\\n",
       "count                                               98401   \n",
       "unique                                              98280   \n",
       "top     Why is England-Australia Test series called 'T...   \n",
       "freq                                                    3   \n",
       "\n",
       "                                                     text  \n",
       "count                                               98401  \n",
       "unique                                              98360  \n",
       "top     Former Pakistan captain Inzamam-ul-Haq attacke...  \n",
       "freq                                                    2  "
      ]
     },
     "execution_count": 64,
     "metadata": {},
     "output_type": "execute_result"
    }
   ],
   "source": [
    "data.describe()"
   ]
  },
  {
   "cell_type": "code",
   "execution_count": 65,
   "id": "proved-sister",
   "metadata": {
    "colab": {
     "base_uri": "https://localhost:8080/",
     "height": 173
    },
    "id": "graphic-elimination",
    "outputId": "9e5cb066-0d3d-4833-81f5-9deb57da13a7"
   },
   "outputs": [
    {
     "data": {
      "text/html": [
       "<div>\n",
       "<style scoped>\n",
       "    .dataframe tbody tr th:only-of-type {\n",
       "        vertical-align: middle;\n",
       "    }\n",
       "\n",
       "    .dataframe tbody tr th {\n",
       "        vertical-align: top;\n",
       "    }\n",
       "\n",
       "    .dataframe thead th {\n",
       "        text-align: right;\n",
       "    }\n",
       "</style>\n",
       "<table border=\"1\" class=\"dataframe\">\n",
       "  <thead>\n",
       "    <tr style=\"text-align: right;\">\n",
       "      <th></th>\n",
       "      <th>headlines</th>\n",
       "      <th>text</th>\n",
       "    </tr>\n",
       "  </thead>\n",
       "  <tbody>\n",
       "    <tr>\n",
       "      <th>count</th>\n",
       "      <td>98360</td>\n",
       "      <td>98360</td>\n",
       "    </tr>\n",
       "    <tr>\n",
       "      <th>unique</th>\n",
       "      <td>98262</td>\n",
       "      <td>98360</td>\n",
       "    </tr>\n",
       "    <tr>\n",
       "      <th>top</th>\n",
       "      <td>Don Bradman once scored 100 runs in 3 overs</td>\n",
       "      <td>The Supreme Court on Tuesday said that the pos...</td>\n",
       "    </tr>\n",
       "    <tr>\n",
       "      <th>freq</th>\n",
       "      <td>3</td>\n",
       "      <td>1</td>\n",
       "    </tr>\n",
       "  </tbody>\n",
       "</table>\n",
       "</div>"
      ],
      "text/plain": [
       "                                          headlines  \\\n",
       "count                                         98360   \n",
       "unique                                        98262   \n",
       "top     Don Bradman once scored 100 runs in 3 overs   \n",
       "freq                                              3   \n",
       "\n",
       "                                                     text  \n",
       "count                                               98360  \n",
       "unique                                              98360  \n",
       "top     The Supreme Court on Tuesday said that the pos...  \n",
       "freq                                                    1  "
      ]
     },
     "execution_count": 65,
     "metadata": {},
     "output_type": "execute_result"
    }
   ],
   "source": [
    "# text 중복 제거\n",
    "data.drop_duplicates(subset=['text'], inplace=True)\n",
    "\n",
    "data.describe()"
   ]
  },
  {
   "cell_type": "code",
   "execution_count": 66,
   "id": "dirty-documentation",
   "metadata": {
    "colab": {
     "base_uri": "https://localhost:8080/"
    },
    "id": "affiliated-florence",
    "outputId": "462ce262-40a1-4590-cb5f-13c4abd9489f"
   },
   "outputs": [
    {
     "data": {
      "text/plain": [
       "headlines    0\n",
       "text         0\n",
       "dtype: int64"
      ]
     },
     "execution_count": 66,
     "metadata": {},
     "output_type": "execute_result"
    }
   ],
   "source": [
    "# 결측치 확인\n",
    "data.isnull().sum()"
   ]
  },
  {
   "cell_type": "markdown",
   "id": "fancy-mirror",
   "metadata": {
    "id": "hollow-marriage"
   },
   "source": [
    "### 텍스트 정규화"
   ]
  },
  {
   "cell_type": "code",
   "execution_count": 67,
   "id": "environmental-reading",
   "metadata": {
    "colab": {
     "base_uri": "https://localhost:8080/"
    },
    "id": "portuguese-incidence",
    "outputId": "2a5c02b9-276b-4dff-b054-0576b0e868d6"
   },
   "outputs": [
    {
     "name": "stdout",
     "output_type": "stream",
     "text": [
      "정규화 사전의 수:  120\n"
     ]
    }
   ],
   "source": [
    "# 정규화 사전\n",
    "contractions = {\"ain't\": \"is not\", \"aren't\": \"are not\",\"can't\": \"cannot\", \"'cause\": \"because\", \"could've\": \"could have\", \"couldn't\": \"could not\",\n",
    "                           \"didn't\": \"did not\",  \"doesn't\": \"does not\", \"don't\": \"do not\", \"hadn't\": \"had not\", \"hasn't\": \"has not\", \"haven't\": \"have not\",\n",
    "                           \"he'd\": \"he would\",\"he'll\": \"he will\", \"he's\": \"he is\", \"how'd\": \"how did\", \"how'd'y\": \"how do you\", \"how'll\": \"how will\", \"how's\": \"how is\",\n",
    "                           \"I'd\": \"I would\", \"I'd've\": \"I would have\", \"I'll\": \"I will\", \"I'll've\": \"I will have\",\"I'm\": \"I am\", \"I've\": \"I have\", \"i'd\": \"i would\",\n",
    "                           \"i'd've\": \"i would have\", \"i'll\": \"i will\",  \"i'll've\": \"i will have\",\"i'm\": \"i am\", \"i've\": \"i have\", \"isn't\": \"is not\", \"it'd\": \"it would\",\n",
    "                           \"it'd've\": \"it would have\", \"it'll\": \"it will\", \"it'll've\": \"it will have\",\"it's\": \"it is\", \"let's\": \"let us\", \"ma'am\": \"madam\",\n",
    "                           \"mayn't\": \"may not\", \"might've\": \"might have\",\"mightn't\": \"might not\",\"mightn't've\": \"might not have\", \"must've\": \"must have\",\n",
    "                           \"mustn't\": \"must not\", \"mustn't've\": \"must not have\", \"needn't\": \"need not\", \"needn't've\": \"need not have\",\"o'clock\": \"of the clock\",\n",
    "                           \"oughtn't\": \"ought not\", \"oughtn't've\": \"ought not have\", \"shan't\": \"shall not\", \"sha'n't\": \"shall not\", \"shan't've\": \"shall not have\",\n",
    "                           \"she'd\": \"she would\", \"she'd've\": \"she would have\", \"she'll\": \"she will\", \"she'll've\": \"she will have\", \"she's\": \"she is\",\n",
    "                           \"should've\": \"should have\", \"shouldn't\": \"should not\", \"shouldn't've\": \"should not have\", \"so've\": \"so have\",\"so's\": \"so as\",\n",
    "                           \"this's\": \"this is\",\"that'd\": \"that would\", \"that'd've\": \"that would have\", \"that's\": \"that is\", \"there'd\": \"there would\",\n",
    "                           \"there'd've\": \"there would have\", \"there's\": \"there is\", \"here's\": \"here is\",\"they'd\": \"they would\", \"they'd've\": \"they would have\",\n",
    "                           \"they'll\": \"they will\", \"they'll've\": \"they will have\", \"they're\": \"they are\", \"they've\": \"they have\", \"to've\": \"to have\",\n",
    "                           \"wasn't\": \"was not\", \"we'd\": \"we would\", \"we'd've\": \"we would have\", \"we'll\": \"we will\", \"we'll've\": \"we will have\", \"we're\": \"we are\",\n",
    "                           \"we've\": \"we have\", \"weren't\": \"were not\", \"what'll\": \"what will\", \"what'll've\": \"what will have\", \"what're\": \"what are\",\n",
    "                           \"what's\": \"what is\", \"what've\": \"what have\", \"when's\": \"when is\", \"when've\": \"when have\", \"where'd\": \"where did\", \"where's\": \"where is\",\n",
    "                           \"where've\": \"where have\", \"who'll\": \"who will\", \"who'll've\": \"who will have\", \"who's\": \"who is\", \"who've\": \"who have\",\n",
    "                           \"why's\": \"why is\", \"why've\": \"why have\", \"will've\": \"will have\", \"won't\": \"will not\", \"won't've\": \"will not have\",\n",
    "                           \"would've\": \"would have\", \"wouldn't\": \"would not\", \"wouldn't've\": \"would not have\", \"y'all\": \"you all\",\n",
    "                           \"y'all'd\": \"you all would\",\"y'all'd've\": \"you all would have\",\"y'all're\": \"you all are\",\"y'all've\": \"you all have\",\n",
    "                           \"you'd\": \"you would\", \"you'd've\": \"you would have\", \"you'll\": \"you will\", \"you'll've\": \"you will have\",\n",
    "                           \"you're\": \"you are\", \"you've\": \"you have\"}\n",
    "\n",
    "print(\"정규화 사전의 수: \", len(contractions))"
   ]
  },
  {
   "cell_type": "code",
   "execution_count": 68,
   "id": "altered-latin",
   "metadata": {
    "id": "active-charger"
   },
   "outputs": [],
   "source": [
    "# 불용어 리스트\n",
    "# 사용하지 않음\n",
    "# print('불용어 개수 :', len(stopwords.words('english') ))\n",
    "# print(stopwords.words('english'))"
   ]
  },
  {
   "cell_type": "markdown",
   "id": "classical-factor",
   "metadata": {
    "id": "gorgeous-mileage"
   },
   "source": [
    "### 소문자 변환, 특수문자 제거"
   ]
  },
  {
   "cell_type": "code",
   "execution_count": 69,
   "id": "perfect-thompson",
   "metadata": {
    "id": "exclusive-serial"
   },
   "outputs": [],
   "source": [
    "# 데이터 전처리 함수\n",
    "def preprocess_sentence(sentence, remove_stopwords=False):\n",
    "    sentence = sentence.lower() # 텍스트 소문자화\n",
    "    sentence = re.sub(r'\\([^)]*\\)', '', sentence) # 괄호로 닫힌 문자열 (...) 제거 Ex) my husband (and myself!) for => my husband for\n",
    "    sentence = re.sub('\"','', sentence) # 쌍따옴표 \" 제거\n",
    "    sentence = re.sub(\"'\",'', sentence) # 따옴표 ' 제거\n",
    "    sentence = ' '.join([contractions[t] if t in contractions else t for t in sentence.split(\" \")]) # 약어 정규화\n",
    "    sentence = re.sub(r\"'s\\b\",\"\", sentence) # 소유격 제거. Ex) roland's -> roland\n",
    "    sentence = re.sub(\"[^a-zA-Z]\", \" \", sentence) # 영어 외 문자(숫자, 특수문자 등) 공백으로 변환\n",
    "    \n",
    "    # 불용어 제거 시\n",
    "    if remove_stopwords:\n",
    "        tokens = ' '.join(word for word in sentence.split() if not word in stopwords.words('english') if len(word) > 1)\n",
    "    # 불용어 미제거 시(default)\n",
    "    else:\n",
    "        tokens = ' '.join(word for word in sentence.split())\n",
    "    return tokens"
   ]
  },
  {
   "cell_type": "code",
   "execution_count": 70,
   "id": "convertible-brick",
   "metadata": {
    "colab": {
     "base_uri": "https://localhost:8080/"
    },
    "id": "declared-finder",
    "outputId": "00479722-6f61-4c39-86ff-8eefe034cbee",
    "scrolled": true
   },
   "outputs": [
    {
     "name": "stdout",
     "output_type": "stream",
     "text": [
      "everything i bought was great infact i ordered twice and the third ordered was br for my mother and father\n",
      "great way to start the day\n"
     ]
    }
   ],
   "source": [
    "# 전처리 함수 test\n",
    "temp_text = 'Everything I bought was great, infact I ordered twice and the third ordered was<br />for my mother and father.'\n",
    "temp_summary = 'Great way to start (or finish) the day!!!'\n",
    "\n",
    "# 불용어를 제거하지 않습니다.\n",
    "print(preprocess_sentence(temp_text))\n",
    "print(preprocess_sentence(temp_summary))  "
   ]
  },
  {
   "cell_type": "code",
   "execution_count": 71,
   "id": "portable-package",
   "metadata": {
    "id": "registered-affair"
   },
   "outputs": [],
   "source": [
    "start = time.time()\n",
    "\n",
    "# num_cores 만큼 쪼개진 데이터를 전처리하여 반환\n",
    "def appendTexts(sentences, remove_stopwords=False):\n",
    "    texts = []\n",
    "    for s in sentences:\n",
    "        texts.append(preprocess_sentence(s))\n",
    "    return texts\n",
    "\n",
    "\n",
    "def preprocess_data(data, remove_stopwords=False):\n",
    "    start_time = time.time()\n",
    "    \n",
    "    # 컴퓨터의 코어 수를 구합니다\n",
    "    num_cores = mp.cpu_count()  \n",
    "\n",
    "    # 코어 수만큼 데이터를 배분하여 병렬적으로 처리할 수 있게 합니다\n",
    "    text_data_split = np.array_split(data, num_cores) \n",
    "    pool = Pool(num_cores)\n",
    "\n",
    "    # 각자 작업한 데이터를 하나로 합쳐줍니다\n",
    "    processed_data = np.concatenate(pool.map(partial(appendTexts), text_data_split))\n",
    "    pool.close()\n",
    "    pool.join()\n",
    "    \n",
    "    print(time.time() - start_time, \" seconds\")\n",
    "    return processed_data"
   ]
  },
  {
   "cell_type": "code",
   "execution_count": 72,
   "id": "young-farmer",
   "metadata": {
    "colab": {
     "base_uri": "https://localhost:8080/"
    },
    "id": "external-composition",
    "outputId": "556f5289-3f9c-4580-84f3-b225bbe6e738"
   },
   "outputs": [
    {
     "name": "stdout",
     "output_type": "stream",
     "text": [
      "1.6634719371795654  seconds\n",
      "['saurav kant an alumnus of upgrad and iiit bs pg program in machine learning and artificial intelligence was a sr systems engineer at infosys with almost years of work experience the program and upgrads degree career support helped him transition to a data scientist at tech mahindra with salary hike upgrads online power learning has powered lakh careers'\n",
      " 'kunal shahs credit card bill payment platform cred gave users a chance to win free food from swiggy for one year pranav kaushik a delhi techie bagged this reward after spending cred coins users get one cred coin per rupee of bill paid which can be used to avail rewards from brands like ixigo bookmyshow ubereats cult fit and more'\n",
      " 'new zealand defeated india by wickets in the fourth odi at hamilton on thursday to win their first match of the five match odi series india lost an international match under rohit sharmas captaincy after consecutive victories dating back to march the match witnessed india getting all out for their seventh lowest total in odi cricket history'\n",
      " ...\n",
      " 'according to reports a new version of the science fiction film the matrix is in development michael b jordan will reportedly play the lead role in the film screenwriter zak penn is in talks to write the script of the film reports added actor keanu reeves starred in the original film which was followed by two sequels'\n",
      " 'a new music video shows rapper snoop dogg aiming a toy gun at a clown character parodying us president donald trump the video also shows a tv airing a news conference with the headline ronald klump wants to deport all doggs airing live from the clown house the video is for a remixed version of the song lavender'\n",
      " 'madhesi morcha an alliance of seven political parties has withdrawn support to pm pushpa kamal dahal led nepal government after it failed to meet a seven day ultimatum to fulfil their demands including endorsement for the revised constitution amendment bill the morcha has seats in the parliament but despite the withdrawal of support there is no immediate threat to the government']\n",
      "0.7348883152008057  seconds\n",
      "['upgrad learner switches to career in ml al with salary hike'\n",
      " 'delhi techie wins free food from swiggy for one year on cred'\n",
      " 'new zealand end rohit sharma led indias match winning streak' ...\n",
      " 'the matrix film to get a reboot reports'\n",
      " 'snoop dogg aims gun at clown dressed as trump in new video'\n",
      " 'madhesi morcha withdraws support to nepalese government']\n"
     ]
    }
   ],
   "source": [
    "clean_text = preprocess_data(data['text'])\n",
    "print(clean_text)\n",
    "\n",
    "clean_summary = preprocess_data(data['headlines'])\n",
    "print(clean_summary)"
   ]
  },
  {
   "cell_type": "code",
   "execution_count": 73,
   "id": "informative-battlefield",
   "metadata": {
    "colab": {
     "base_uri": "https://localhost:8080/",
     "height": 204
    },
    "id": "fourth-marshall",
    "outputId": "42375de3-2d4a-421a-ce41-00ddf49fd8f8"
   },
   "outputs": [
    {
     "data": {
      "text/html": [
       "<div>\n",
       "<style scoped>\n",
       "    .dataframe tbody tr th:only-of-type {\n",
       "        vertical-align: middle;\n",
       "    }\n",
       "\n",
       "    .dataframe tbody tr th {\n",
       "        vertical-align: top;\n",
       "    }\n",
       "\n",
       "    .dataframe thead th {\n",
       "        text-align: right;\n",
       "    }\n",
       "</style>\n",
       "<table border=\"1\" class=\"dataframe\">\n",
       "  <thead>\n",
       "    <tr style=\"text-align: right;\">\n",
       "      <th></th>\n",
       "      <th>headlines</th>\n",
       "      <th>text</th>\n",
       "    </tr>\n",
       "  </thead>\n",
       "  <tbody>\n",
       "    <tr>\n",
       "      <th>0</th>\n",
       "      <td>upgrad learner switches to career in ml al wit...</td>\n",
       "      <td>saurav kant an alumnus of upgrad and iiit bs p...</td>\n",
       "    </tr>\n",
       "    <tr>\n",
       "      <th>1</th>\n",
       "      <td>delhi techie wins free food from swiggy for on...</td>\n",
       "      <td>kunal shahs credit card bill payment platform ...</td>\n",
       "    </tr>\n",
       "    <tr>\n",
       "      <th>2</th>\n",
       "      <td>new zealand end rohit sharma led indias match ...</td>\n",
       "      <td>new zealand defeated india by wickets in the f...</td>\n",
       "    </tr>\n",
       "    <tr>\n",
       "      <th>3</th>\n",
       "      <td>aegon life iterm insurance plan helps customer...</td>\n",
       "      <td>with aegon life iterm insurance plan customers...</td>\n",
       "    </tr>\n",
       "    <tr>\n",
       "      <th>4</th>\n",
       "      <td>have known hirani for yrs what if metoo claims...</td>\n",
       "      <td>speaking about the sexual harassment allegatio...</td>\n",
       "    </tr>\n",
       "  </tbody>\n",
       "</table>\n",
       "</div>"
      ],
      "text/plain": [
       "                                           headlines  \\\n",
       "0  upgrad learner switches to career in ml al wit...   \n",
       "1  delhi techie wins free food from swiggy for on...   \n",
       "2  new zealand end rohit sharma led indias match ...   \n",
       "3  aegon life iterm insurance plan helps customer...   \n",
       "4  have known hirani for yrs what if metoo claims...   \n",
       "\n",
       "                                                text  \n",
       "0  saurav kant an alumnus of upgrad and iiit bs p...  \n",
       "1  kunal shahs credit card bill payment platform ...  \n",
       "2  new zealand defeated india by wickets in the f...  \n",
       "3  with aegon life iterm insurance plan customers...  \n",
       "4  speaking about the sexual harassment allegatio...  "
      ]
     },
     "execution_count": 73,
     "metadata": {},
     "output_type": "execute_result"
    }
   ],
   "source": [
    "data['text'] = clean_text\n",
    "data['headlines'] = clean_summary\n",
    "\n",
    "data.head()"
   ]
  },
  {
   "cell_type": "code",
   "execution_count": 74,
   "id": "heavy-enterprise",
   "metadata": {
    "colab": {
     "base_uri": "https://localhost:8080/",
     "height": 173
    },
    "id": "fitted-fifteen",
    "outputId": "d9c4bf39-d2fb-4604-fe5e-2b2f27bf5f85"
   },
   "outputs": [
    {
     "data": {
      "text/html": [
       "<div>\n",
       "<style scoped>\n",
       "    .dataframe tbody tr th:only-of-type {\n",
       "        vertical-align: middle;\n",
       "    }\n",
       "\n",
       "    .dataframe tbody tr th {\n",
       "        vertical-align: top;\n",
       "    }\n",
       "\n",
       "    .dataframe thead th {\n",
       "        text-align: right;\n",
       "    }\n",
       "</style>\n",
       "<table border=\"1\" class=\"dataframe\">\n",
       "  <thead>\n",
       "    <tr style=\"text-align: right;\">\n",
       "      <th></th>\n",
       "      <th>headlines</th>\n",
       "      <th>text</th>\n",
       "    </tr>\n",
       "  </thead>\n",
       "  <tbody>\n",
       "    <tr>\n",
       "      <th>count</th>\n",
       "      <td>98360</td>\n",
       "      <td>98360</td>\n",
       "    </tr>\n",
       "    <tr>\n",
       "      <th>unique</th>\n",
       "      <td>98170</td>\n",
       "      <td>98330</td>\n",
       "    </tr>\n",
       "    <tr>\n",
       "      <th>top</th>\n",
       "      <td>amazon invests crore in indian payments arm am...</td>\n",
       "      <td>the prize for the first ever wimbledon which b...</td>\n",
       "    </tr>\n",
       "    <tr>\n",
       "      <th>freq</th>\n",
       "      <td>4</td>\n",
       "      <td>2</td>\n",
       "    </tr>\n",
       "  </tbody>\n",
       "</table>\n",
       "</div>"
      ],
      "text/plain": [
       "                                                headlines  \\\n",
       "count                                               98360   \n",
       "unique                                              98170   \n",
       "top     amazon invests crore in indian payments arm am...   \n",
       "freq                                                    4   \n",
       "\n",
       "                                                     text  \n",
       "count                                               98360  \n",
       "unique                                              98330  \n",
       "top     the prize for the first ever wimbledon which b...  \n",
       "freq                                                    2  "
      ]
     },
     "execution_count": 74,
     "metadata": {},
     "output_type": "execute_result"
    }
   ],
   "source": [
    "data.describe()"
   ]
  },
  {
   "cell_type": "markdown",
   "id": "objective-parameter",
   "metadata": {
    "id": "minor-portrait"
   },
   "source": [
    "### 한번 더 중복 & 결측치 처리"
   ]
  },
  {
   "cell_type": "code",
   "execution_count": 75,
   "id": "asian-planet",
   "metadata": {
    "colab": {
     "base_uri": "https://localhost:8080/",
     "height": 173
    },
    "id": "yellow-shannon",
    "outputId": "9a16a7d6-a78a-4b86-ee1d-d5ef84eb60a1"
   },
   "outputs": [
    {
     "data": {
      "text/html": [
       "<div>\n",
       "<style scoped>\n",
       "    .dataframe tbody tr th:only-of-type {\n",
       "        vertical-align: middle;\n",
       "    }\n",
       "\n",
       "    .dataframe tbody tr th {\n",
       "        vertical-align: top;\n",
       "    }\n",
       "\n",
       "    .dataframe thead th {\n",
       "        text-align: right;\n",
       "    }\n",
       "</style>\n",
       "<table border=\"1\" class=\"dataframe\">\n",
       "  <thead>\n",
       "    <tr style=\"text-align: right;\">\n",
       "      <th></th>\n",
       "      <th>headlines</th>\n",
       "      <th>text</th>\n",
       "    </tr>\n",
       "  </thead>\n",
       "  <tbody>\n",
       "    <tr>\n",
       "      <th>count</th>\n",
       "      <td>98330</td>\n",
       "      <td>98330</td>\n",
       "    </tr>\n",
       "    <tr>\n",
       "      <th>unique</th>\n",
       "      <td>98153</td>\n",
       "      <td>98330</td>\n",
       "    </tr>\n",
       "    <tr>\n",
       "      <th>top</th>\n",
       "      <td>worlds richest people lose billion in one day</td>\n",
       "      <td>goa cm manohar parrikar on thursday presented ...</td>\n",
       "    </tr>\n",
       "    <tr>\n",
       "      <th>freq</th>\n",
       "      <td>4</td>\n",
       "      <td>1</td>\n",
       "    </tr>\n",
       "  </tbody>\n",
       "</table>\n",
       "</div>"
      ],
      "text/plain": [
       "                                            headlines  \\\n",
       "count                                           98330   \n",
       "unique                                          98153   \n",
       "top     worlds richest people lose billion in one day   \n",
       "freq                                                4   \n",
       "\n",
       "                                                     text  \n",
       "count                                               98330  \n",
       "unique                                              98330  \n",
       "top     goa cm manohar parrikar on thursday presented ...  \n",
       "freq                                                    1  "
      ]
     },
     "execution_count": 75,
     "metadata": {},
     "output_type": "execute_result"
    }
   ],
   "source": [
    "data.drop_duplicates(subset=['text'], inplace=True)\n",
    "\n",
    "data.describe()"
   ]
  },
  {
   "cell_type": "code",
   "execution_count": 76,
   "id": "popular-toner",
   "metadata": {
    "colab": {
     "base_uri": "https://localhost:8080/"
    },
    "id": "located-appendix",
    "outputId": "a398357d-7308-4a7c-dc19-bfc3525298d3"
   },
   "outputs": [
    {
     "data": {
      "text/plain": [
       "headlines    0\n",
       "text         0\n",
       "dtype: int64"
      ]
     },
     "execution_count": 76,
     "metadata": {},
     "output_type": "execute_result"
    }
   ],
   "source": [
    "data.isnull().sum()"
   ]
  },
  {
   "cell_type": "markdown",
   "id": "corrected-lottery",
   "metadata": {
    "id": "demonstrated-request"
   },
   "source": [
    "### 문장 최대 길이 설정"
   ]
  },
  {
   "cell_type": "code",
   "execution_count": 77,
   "id": "furnished-manor",
   "metadata": {
    "colab": {
     "base_uri": "https://localhost:8080/"
    },
    "id": "naked-animal",
    "outputId": "80ca7178-935f-471c-8409-4af3517047cc"
   },
   "outputs": [
    {
     "name": "stdout",
     "output_type": "stream",
     "text": [
      "텍스트의 최소 길이 : 1\n",
      "텍스트의 최대 길이 : 69\n",
      "텍스트의 평균 길이 : 57.731831587511444\n",
      "요약의 최소 길이 : 1\n",
      "요약의 최대 길이 : 17\n",
      "요약의 평균 길이 : 9.422495677819587\n"
     ]
    }
   ],
   "source": [
    "# 길이의 분포 시각화해보기\n",
    "text_len = [len(s.split()) for s in data['text']]\n",
    "summary_len = [len(s.split()) for s in data['headlines']]\n",
    "\n",
    "print('텍스트의 최소 길이 : {}'.format(np.min(text_len)))\n",
    "print('텍스트의 최대 길이 : {}'.format(np.max(text_len)))\n",
    "print('텍스트의 평균 길이 : {}'.format(np.mean(text_len)))\n",
    "print('요약의 최소 길이 : {}'.format(np.min(summary_len)))\n",
    "print('요약의 최대 길이 : {}'.format(np.max(summary_len)))\n",
    "print('요약의 평균 길이 : {}'.format(np.mean(summary_len)))"
   ]
  },
  {
   "cell_type": "code",
   "execution_count": 18,
   "id": "related-mailing",
   "metadata": {
    "colab": {
     "base_uri": "https://localhost:8080/",
     "height": 857
    },
    "id": "excited-basement",
    "outputId": "4ad22c87-93bd-4a40-ef9c-0779a864c32a"
   },
   "outputs": [
    {
     "data": {
      "image/png": "[encoded data removed]",
      "text/plain": [
       "<Figure size 432x288 with 2 Axes>"
      ]
     },
     "metadata": {
      "needs_background": "light"
     },
     "output_type": "display_data"
    },
    {
     "data": {
      "image/png": "[encoded data removed]",
      "text/plain": [
       "<Figure size 432x288 with 1 Axes>"
      ]
     },
     "metadata": {
      "needs_background": "light"
     },
     "output_type": "display_data"
    },
    {
     "data": {
      "image/png": "[encoded data removed]",
      "text/plain": [
       "<Figure size 432x288 with 1 Axes>"
      ]
     },
     "metadata": {
      "needs_background": "light"
     },
     "output_type": "display_data"
    }
   ],
   "source": [
    "plt.subplot(1,2,1)\n",
    "plt.boxplot(summary_len)\n",
    "plt.xticks([])\n",
    "plt.title('Headlines', fontsize=15)\n",
    "plt.subplot(1,2,2)\n",
    "plt.boxplot(text_len)\n",
    "plt.xticks([])\n",
    "plt.title('Text', fontsize=15)\n",
    "plt.tight_layout()\n",
    "plt.show()\n",
    "\n",
    "plt.title('Headlines', fontsize=15)\n",
    "plt.hist(summary_len, bins = 40)\n",
    "plt.xlabel('Length of samples')\n",
    "plt.ylabel('Number of samples')\n",
    "plt.show()\n",
    "\n",
    "plt.title('Text', fontsize=15)\n",
    "plt.hist(text_len, bins = 40)\n",
    "plt.xlabel('Length of samples')\n",
    "plt.ylabel('Number of samples')\n",
    "plt.show()"
   ]
  },
  {
   "cell_type": "code",
   "execution_count": 19,
   "id": "minimal-forest",
   "metadata": {
    "id": "scientific-generator"
   },
   "outputs": [],
   "source": [
    "# 모든 데이터를 포함하는 최대값을 설정\n",
    "text_max_len = 80\n",
    "summary_max_len = 18"
   ]
  },
  {
   "cell_type": "code",
   "execution_count": 20,
   "id": "brown-boating",
   "metadata": {
    "colab": {
     "base_uri": "https://localhost:8080/"
    },
    "id": "classical-familiar",
    "outputId": "ae47f3b5-5bfb-4c03-e8e6-e797cd310c1a"
   },
   "outputs": [
    {
     "data": {
      "text/plain": [
       "52"
      ]
     },
     "execution_count": 20,
     "metadata": {},
     "output_type": "execute_result"
    }
   ],
   "source": [
    "# text_len이 가장 작은 data의 index 확인해보기\n",
    "np.argmin(text_len)"
   ]
  },
  {
   "cell_type": "code",
   "execution_count": 21,
   "id": "labeled-shelter",
   "metadata": {
    "colab": {
     "base_uri": "https://localhost:8080/",
     "height": 80
    },
    "id": "frozen-conviction",
    "outputId": "14c5589c-d229-4249-b409-1d42bd35515f"
   },
   "outputs": [
    {
     "data": {
      "text/html": [
       "<div>\n",
       "<style scoped>\n",
       "    .dataframe tbody tr th:only-of-type {\n",
       "        vertical-align: middle;\n",
       "    }\n",
       "\n",
       "    .dataframe tbody tr th {\n",
       "        vertical-align: top;\n",
       "    }\n",
       "\n",
       "    .dataframe thead th {\n",
       "        text-align: right;\n",
       "    }\n",
       "</style>\n",
       "<table border=\"1\" class=\"dataframe\">\n",
       "  <thead>\n",
       "    <tr style=\"text-align: right;\">\n",
       "      <th></th>\n",
       "      <th>headlines</th>\n",
       "      <th>text</th>\n",
       "    </tr>\n",
       "  </thead>\n",
       "  <tbody>\n",
       "    <tr>\n",
       "      <th>52</th>\n",
       "      <td>headlines</td>\n",
       "      <td>text</td>\n",
       "    </tr>\n",
       "  </tbody>\n",
       "</table>\n",
       "</div>"
      ],
      "text/plain": [
       "    headlines  text\n",
       "52  headlines  text"
      ]
     },
     "execution_count": 21,
     "metadata": {},
     "output_type": "execute_result"
    }
   ],
   "source": [
    "data.loc[data.index == 52]"
   ]
  },
  {
   "cell_type": "markdown",
   "id": "aquatic-wireless",
   "metadata": {
    "id": "curious-leadership"
   },
   "source": [
    "의미 없는 데이터이므로 삭제"
   ]
  },
  {
   "cell_type": "code",
   "execution_count": 22,
   "id": "tutorial-kingdom",
   "metadata": {
    "colab": {
     "base_uri": "https://localhost:8080/",
     "height": 173
    },
    "id": "nasty-middle",
    "outputId": "27b4d5bb-885d-47f0-c762-85693e61214f"
   },
   "outputs": [
    {
     "data": {
      "text/html": [
       "<div>\n",
       "<style scoped>\n",
       "    .dataframe tbody tr th:only-of-type {\n",
       "        vertical-align: middle;\n",
       "    }\n",
       "\n",
       "    .dataframe tbody tr th {\n",
       "        vertical-align: top;\n",
       "    }\n",
       "\n",
       "    .dataframe thead th {\n",
       "        text-align: right;\n",
       "    }\n",
       "</style>\n",
       "<table border=\"1\" class=\"dataframe\">\n",
       "  <thead>\n",
       "    <tr style=\"text-align: right;\">\n",
       "      <th></th>\n",
       "      <th>headlines</th>\n",
       "      <th>text</th>\n",
       "    </tr>\n",
       "  </thead>\n",
       "  <tbody>\n",
       "    <tr>\n",
       "      <th>count</th>\n",
       "      <td>98329</td>\n",
       "      <td>98329</td>\n",
       "    </tr>\n",
       "    <tr>\n",
       "      <th>unique</th>\n",
       "      <td>98152</td>\n",
       "      <td>98329</td>\n",
       "    </tr>\n",
       "    <tr>\n",
       "      <th>top</th>\n",
       "      <td>worlds richest people lose billion in one day</td>\n",
       "      <td>goa cm manohar parrikar on thursday presented ...</td>\n",
       "    </tr>\n",
       "    <tr>\n",
       "      <th>freq</th>\n",
       "      <td>4</td>\n",
       "      <td>1</td>\n",
       "    </tr>\n",
       "  </tbody>\n",
       "</table>\n",
       "</div>"
      ],
      "text/plain": [
       "                                            headlines  \\\n",
       "count                                           98329   \n",
       "unique                                          98152   \n",
       "top     worlds richest people lose billion in one day   \n",
       "freq                                                4   \n",
       "\n",
       "                                                     text  \n",
       "count                                               98329  \n",
       "unique                                              98329  \n",
       "top     goa cm manohar parrikar on thursday presented ...  \n",
       "freq                                                    1  "
      ]
     },
     "execution_count": 22,
     "metadata": {},
     "output_type": "execute_result"
    }
   ],
   "source": [
    "data.drop(axis=0, index=52, inplace=True)\n",
    "\n",
    "data.describe()"
   ]
  },
  {
   "cell_type": "markdown",
   "id": "pediatric-expression",
   "metadata": {
    "id": "nearby-brake"
   },
   "source": [
    "한번 더 길이 분포 확인해보기"
   ]
  },
  {
   "cell_type": "code",
   "execution_count": 23,
   "id": "severe-centre",
   "metadata": {
    "colab": {
     "base_uri": "https://localhost:8080/"
    },
    "id": "effective-ranch",
    "outputId": "cadba0a3-616e-40d0-8f66-d693def88912"
   },
   "outputs": [
    {
     "name": "stdout",
     "output_type": "stream",
     "text": [
      "텍스트의 최소 길이 : 35\n",
      "텍스트의 최대 길이 : 69\n",
      "텍스트의 평균 길이 : 57.73240854681732\n",
      "요약의 최소 길이 : 3\n",
      "요약의 최대 길이 : 17\n",
      "요약의 평균 길이 : 9.422581334092689\n"
     ]
    }
   ],
   "source": [
    "# 길이의 분포 시각화해보기\n",
    "text_len = [len(s.split()) for s in data['text']]\n",
    "summary_len = [len(s.split()) for s in data['headlines']]\n",
    "\n",
    "print('텍스트의 최소 길이 : {}'.format(np.min(text_len)))\n",
    "print('텍스트의 최대 길이 : {}'.format(np.max(text_len)))\n",
    "print('텍스트의 평균 길이 : {}'.format(np.mean(text_len)))\n",
    "print('요약의 최소 길이 : {}'.format(np.min(summary_len)))\n",
    "print('요약의 최대 길이 : {}'.format(np.max(summary_len)))\n",
    "print('요약의 평균 길이 : {}'.format(np.mean(summary_len)))"
   ]
  },
  {
   "cell_type": "code",
   "execution_count": 24,
   "id": "legislative-qatar",
   "metadata": {
    "colab": {
     "base_uri": "https://localhost:8080/",
     "height": 369
    },
    "id": "remarkable-crazy",
    "outputId": "5bf577f5-452d-4f28-cf5b-e041925424eb"
   },
   "outputs": [
    {
     "data": {
      "image/png": "[encoded data removed]",
      "text/plain": [
       "<Figure size 288x360 with 1 Axes>"
      ]
     },
     "metadata": {
      "needs_background": "light"
     },
     "output_type": "display_data"
    }
   ],
   "source": [
    "plt.figure(figsize=(4, 5))\n",
    "plt.boxplot(text_len)\n",
    "plt.xticks([])\n",
    "plt.title('Text', fontsize=15)\n",
    "plt.tight_layout()\n",
    "plt.show()"
   ]
  },
  {
   "cell_type": "markdown",
   "id": "acting-consent",
   "metadata": {
    "id": "revolutionary-product"
   },
   "source": [
    "## Encoder & Decoder 생성"
   ]
  },
  {
   "cell_type": "code",
   "execution_count": 25,
   "id": "incredible-syndicate",
   "metadata": {
    "colab": {
     "base_uri": "https://localhost:8080/",
     "height": 290
    },
    "id": "loving-tribute",
    "outputId": "cd2e38e3-5a11-43c3-958f-f24f30c27f80"
   },
   "outputs": [
    {
     "data": {
      "text/html": [
       "<div>\n",
       "<style scoped>\n",
       "    .dataframe tbody tr th:only-of-type {\n",
       "        vertical-align: middle;\n",
       "    }\n",
       "\n",
       "    .dataframe tbody tr th {\n",
       "        vertical-align: top;\n",
       "    }\n",
       "\n",
       "    .dataframe thead th {\n",
       "        text-align: right;\n",
       "    }\n",
       "</style>\n",
       "<table border=\"1\" class=\"dataframe\">\n",
       "  <thead>\n",
       "    <tr style=\"text-align: right;\">\n",
       "      <th></th>\n",
       "      <th>headlines</th>\n",
       "      <th>text</th>\n",
       "      <th>decoder_input</th>\n",
       "      <th>decoder_target</th>\n",
       "    </tr>\n",
       "  </thead>\n",
       "  <tbody>\n",
       "    <tr>\n",
       "      <th>0</th>\n",
       "      <td>upgrad learner switches to career in ml al wit...</td>\n",
       "      <td>saurav kant an alumnus of upgrad and iiit bs p...</td>\n",
       "      <td>sostoken upgrad learner switches to career in ...</td>\n",
       "      <td>upgrad learner switches to career in ml al wit...</td>\n",
       "    </tr>\n",
       "    <tr>\n",
       "      <th>1</th>\n",
       "      <td>delhi techie wins free food from swiggy for on...</td>\n",
       "      <td>kunal shahs credit card bill payment platform ...</td>\n",
       "      <td>sostoken delhi techie wins free food from swig...</td>\n",
       "      <td>delhi techie wins free food from swiggy for on...</td>\n",
       "    </tr>\n",
       "    <tr>\n",
       "      <th>2</th>\n",
       "      <td>new zealand end rohit sharma led indias match ...</td>\n",
       "      <td>new zealand defeated india by wickets in the f...</td>\n",
       "      <td>sostoken new zealand end rohit sharma led indi...</td>\n",
       "      <td>new zealand end rohit sharma led indias match ...</td>\n",
       "    </tr>\n",
       "    <tr>\n",
       "      <th>3</th>\n",
       "      <td>aegon life iterm insurance plan helps customer...</td>\n",
       "      <td>with aegon life iterm insurance plan customers...</td>\n",
       "      <td>sostoken aegon life iterm insurance plan helps...</td>\n",
       "      <td>aegon life iterm insurance plan helps customer...</td>\n",
       "    </tr>\n",
       "    <tr>\n",
       "      <th>4</th>\n",
       "      <td>have known hirani for yrs what if metoo claims...</td>\n",
       "      <td>speaking about the sexual harassment allegatio...</td>\n",
       "      <td>sostoken have known hirani for yrs what if met...</td>\n",
       "      <td>have known hirani for yrs what if metoo claims...</td>\n",
       "    </tr>\n",
       "  </tbody>\n",
       "</table>\n",
       "</div>"
      ],
      "text/plain": [
       "                                           headlines  \\\n",
       "0  upgrad learner switches to career in ml al wit...   \n",
       "1  delhi techie wins free food from swiggy for on...   \n",
       "2  new zealand end rohit sharma led indias match ...   \n",
       "3  aegon life iterm insurance plan helps customer...   \n",
       "4  have known hirani for yrs what if metoo claims...   \n",
       "\n",
       "                                                text  \\\n",
       "0  saurav kant an alumnus of upgrad and iiit bs p...   \n",
       "1  kunal shahs credit card bill payment platform ...   \n",
       "2  new zealand defeated india by wickets in the f...   \n",
       "3  with aegon life iterm insurance plan customers...   \n",
       "4  speaking about the sexual harassment allegatio...   \n",
       "\n",
       "                                       decoder_input  \\\n",
       "0  sostoken upgrad learner switches to career in ...   \n",
       "1  sostoken delhi techie wins free food from swig...   \n",
       "2  sostoken new zealand end rohit sharma led indi...   \n",
       "3  sostoken aegon life iterm insurance plan helps...   \n",
       "4  sostoken have known hirani for yrs what if met...   \n",
       "\n",
       "                                      decoder_target  \n",
       "0  upgrad learner switches to career in ml al wit...  \n",
       "1  delhi techie wins free food from swiggy for on...  \n",
       "2  new zealand end rohit sharma led indias match ...  \n",
       "3  aegon life iterm insurance plan helps customer...  \n",
       "4  have known hirani for yrs what if metoo claims...  "
      ]
     },
     "execution_count": 25,
     "metadata": {},
     "output_type": "execute_result"
    }
   ],
   "source": [
    "# 요약 데이터에는 시작 토큰과 종료 토큰을 추가한다.\n",
    "data['decoder_input'] = data['headlines'].apply(lambda x : 'sostoken '+ x)\n",
    "data['decoder_target'] = data['headlines'].apply(lambda x : x + ' eostoken')\n",
    "\n",
    "data.head()"
   ]
  },
  {
   "cell_type": "code",
   "execution_count": 26,
   "id": "thirty-relevance",
   "metadata": {
    "colab": {
     "base_uri": "https://localhost:8080/",
     "height": 190
    },
    "id": "compatible-stamp",
    "outputId": "862cc119-c7f9-4110-a4ff-921950b98b14"
   },
   "outputs": [
    {
     "data": {
      "text/html": [
       "<div>\n",
       "<style scoped>\n",
       "    .dataframe tbody tr th:only-of-type {\n",
       "        vertical-align: middle;\n",
       "    }\n",
       "\n",
       "    .dataframe tbody tr th {\n",
       "        vertical-align: top;\n",
       "    }\n",
       "\n",
       "    .dataframe thead th {\n",
       "        text-align: right;\n",
       "    }\n",
       "</style>\n",
       "<table border=\"1\" class=\"dataframe\">\n",
       "  <thead>\n",
       "    <tr style=\"text-align: right;\">\n",
       "      <th></th>\n",
       "      <th>headlines</th>\n",
       "      <th>text</th>\n",
       "      <th>decoder_input</th>\n",
       "      <th>decoder_target</th>\n",
       "    </tr>\n",
       "  </thead>\n",
       "  <tbody>\n",
       "    <tr>\n",
       "      <th>count</th>\n",
       "      <td>98329</td>\n",
       "      <td>98329</td>\n",
       "      <td>98329</td>\n",
       "      <td>98329</td>\n",
       "    </tr>\n",
       "    <tr>\n",
       "      <th>unique</th>\n",
       "      <td>98152</td>\n",
       "      <td>98329</td>\n",
       "      <td>98152</td>\n",
       "      <td>98152</td>\n",
       "    </tr>\n",
       "    <tr>\n",
       "      <th>top</th>\n",
       "      <td>worlds richest people lose billion in one day</td>\n",
       "      <td>goa cm manohar parrikar on thursday presented ...</td>\n",
       "      <td>sostoken worlds richest people lose billion in...</td>\n",
       "      <td>worlds richest people lose billion in one day ...</td>\n",
       "    </tr>\n",
       "    <tr>\n",
       "      <th>freq</th>\n",
       "      <td>4</td>\n",
       "      <td>1</td>\n",
       "      <td>4</td>\n",
       "      <td>4</td>\n",
       "    </tr>\n",
       "  </tbody>\n",
       "</table>\n",
       "</div>"
      ],
      "text/plain": [
       "                                            headlines  \\\n",
       "count                                           98329   \n",
       "unique                                          98152   \n",
       "top     worlds richest people lose billion in one day   \n",
       "freq                                                4   \n",
       "\n",
       "                                                     text  \\\n",
       "count                                               98329   \n",
       "unique                                              98329   \n",
       "top     goa cm manohar parrikar on thursday presented ...   \n",
       "freq                                                    1   \n",
       "\n",
       "                                            decoder_input  \\\n",
       "count                                               98329   \n",
       "unique                                              98152   \n",
       "top     sostoken worlds richest people lose billion in...   \n",
       "freq                                                    4   \n",
       "\n",
       "                                           decoder_target  \n",
       "count                                               98329  \n",
       "unique                                              98152  \n",
       "top     worlds richest people lose billion in one day ...  \n",
       "freq                                                    4  "
      ]
     },
     "execution_count": 26,
     "metadata": {},
     "output_type": "execute_result"
    }
   ],
   "source": [
    "data.describe()"
   ]
  },
  {
   "cell_type": "code",
   "execution_count": 27,
   "id": "sensitive-timer",
   "metadata": {
    "id": "tropical-finish"
   },
   "outputs": [],
   "source": [
    "encoder_input = np.array(data['text']) # 인코더의 입력\n",
    "decoder_input = np.array(data['decoder_input']) # 디코더의 입력\n",
    "decoder_target = np.array(data['decoder_target']) # 디코더의 레이블"
   ]
  },
  {
   "cell_type": "markdown",
   "id": "willing-airport",
   "metadata": {
    "id": "friendly-preservation"
   },
   "source": [
    "## Train, test dataset split"
   ]
  },
  {
   "cell_type": "code",
   "execution_count": 28,
   "id": "rolled-faculty",
   "metadata": {
    "colab": {
     "base_uri": "https://localhost:8080/"
    },
    "id": "north-andrew",
    "outputId": "9ba4a1db-ca2f-42d7-960d-820ee3054761"
   },
   "outputs": [
    {
     "name": "stdout",
     "output_type": "stream",
     "text": [
      "encoder_input_train:  78663\n",
      "encoder_input_test:  19666\n"
     ]
    }
   ],
   "source": [
    "encoder_input_train, encoder_input_test = train_test_split(encoder_input, test_size=0.2, random_state=53)\n",
    "\n",
    "print('encoder_input_train: ', len(encoder_input_train))\n",
    "print('encoder_input_test: ', len(encoder_input_test))"
   ]
  },
  {
   "cell_type": "code",
   "execution_count": 29,
   "id": "designing-laundry",
   "metadata": {
    "colab": {
     "base_uri": "https://localhost:8080/"
    },
    "id": "collect-commodity",
    "outputId": "018ea97e-9750-4f94-b586-6681a23a73ba"
   },
   "outputs": [
    {
     "name": "stdout",
     "output_type": "stream",
     "text": [
      "decoder_input_train:  78663\n",
      "decoder_input_test:  19666\n"
     ]
    }
   ],
   "source": [
    "decoder_input_train, decoder_input_test = train_test_split(decoder_input, test_size=0.2, random_state=53)\n",
    "\n",
    "print('decoder_input_train: ', len(decoder_input_train))\n",
    "print('decoder_input_test: ', len(decoder_input_test))"
   ]
  },
  {
   "cell_type": "code",
   "execution_count": 30,
   "id": "talented-corruption",
   "metadata": {
    "colab": {
     "base_uri": "https://localhost:8080/"
    },
    "id": "architectural-english",
    "outputId": "661958a6-06d1-416f-c19b-082b3d5263ab"
   },
   "outputs": [
    {
     "name": "stdout",
     "output_type": "stream",
     "text": [
      "decoder_target_train:  78663\n",
      "decoder_target_test:  19666\n"
     ]
    }
   ],
   "source": [
    "decoder_target_train, decoder_target_test = train_test_split(decoder_target, test_size=0.2, random_state=53)\n",
    "\n",
    "print('decoder_target_train: ', len(decoder_target_train))\n",
    "print('decoder_target_test: ', len(decoder_target_test))"
   ]
  },
  {
   "cell_type": "markdown",
   "id": "floppy-circular",
   "metadata": {
    "id": "hungarian-challenge"
   },
   "source": [
    "### Word Dictionary 만들기"
   ]
  },
  {
   "cell_type": "code",
   "execution_count": 31,
   "id": "magnetic-founder",
   "metadata": {
    "id": "japanese-farmer"
   },
   "outputs": [],
   "source": [
    "src_tokenizer = Tokenizer()\n",
    "src_tokenizer.fit_on_texts(encoder_input_train)"
   ]
  },
  {
   "cell_type": "code",
   "execution_count": 32,
   "id": "modular-interest",
   "metadata": {
    "id": "hindu-portugal"
   },
   "outputs": [],
   "source": [
    "word_count_dict = src_tokenizer.word_counts"
   ]
  },
  {
   "cell_type": "markdown",
   "id": "affecting-engine",
   "metadata": {
    "id": "female-equation"
   },
   "source": [
    "### Word Count 분포 및 빈도 확인"
   ]
  },
  {
   "cell_type": "code",
   "execution_count": 33,
   "id": "actual-imaging",
   "metadata": {
    "id": "freelance-thumb"
   },
   "outputs": [],
   "source": [
    "counts = [cnt for word, cnt in word_count_dict.items()]\n",
    "words = [word for word, cnt in word_count_dict.items()]"
   ]
  },
  {
   "cell_type": "code",
   "execution_count": 34,
   "id": "individual-tribe",
   "metadata": {
    "colab": {
     "base_uri": "https://localhost:8080/",
     "height": 369
    },
    "id": "passing-shore",
    "outputId": "6d193d6d-15fd-4dc7-9301-b43c2aa479e6"
   },
   "outputs": [
    {
     "data": {
      "image/png": "[encoded data removed]",
      "text/plain": [
       "<Figure size 288x360 with 1 Axes>"
      ]
     },
     "metadata": {
      "needs_background": "light"
     },
     "output_type": "display_data"
    }
   ],
   "source": [
    "plt.figure(figsize=(4, 5))\n",
    "plt.boxplot(counts)\n",
    "plt.xticks([])\n",
    "plt.title('Word Counts Distribution', fontsize=15)\n",
    "plt.tight_layout()\n",
    "plt.show()"
   ]
  },
  {
   "cell_type": "code",
   "execution_count": 35,
   "id": "floral-flexibility",
   "metadata": {
    "colab": {
     "base_uri": "https://localhost:8080/"
    },
    "id": "ongoing-genetics",
    "outputId": "7dc26c09-781f-4284-aa3d-51263d2ff9a3"
   },
   "outputs": [
    {
     "name": "stdout",
     "output_type": "stream",
     "text": [
      "index: 18 count: 270425\n"
     ]
    }
   ],
   "source": [
    "for i, c in enumerate(counts):\n",
    "    if c > 200000:\n",
    "        print('index:', i, 'count:', c)"
   ]
  },
  {
   "cell_type": "code",
   "execution_count": 36,
   "id": "smaller-modem",
   "metadata": {
    "colab": {
     "base_uri": "https://localhost:8080/",
     "height": 35
    },
    "id": "fluid-testing",
    "outputId": "61a7e022-4d95-43aa-bdc1-3ab2c22054b9"
   },
   "outputs": [
    {
     "data": {
      "text/plain": [
       "'the'"
      ]
     },
     "execution_count": 36,
     "metadata": {},
     "output_type": "execute_result"
    }
   ],
   "source": [
    "words[18]"
   ]
  },
  {
   "cell_type": "code",
   "execution_count": 37,
   "id": "banner-channel",
   "metadata": {
    "colab": {
     "base_uri": "https://localhost:8080/"
    },
    "id": "antique-tackle",
    "outputId": "9aaa8126-8a54-4bf5-bdd2-583d6c6acfab"
   },
   "outputs": [
    {
     "name": "stdout",
     "output_type": "stream",
     "text": [
      "단어 집합(vocabulary)의 크기 : 73895\n",
      "등장 빈도가 9번 이하인 희귀 단어의 수: 54887\n",
      "단어 집합에서 희귀 단어를 제외시킬 경우의 단어 집합의 크기 19008\n",
      "단어 집합에서 희귀 단어의 비율: 74.27701468299614\n",
      "전체 등장 빈도에서 희귀 단어 등장 빈도 비율: 2.937338610943975\n"
     ]
    }
   ],
   "source": [
    "# 빈도수가 10회 미만인 단어들이 얼마나 되는지 확인\n",
    "threshold = 10\n",
    "total_cnt = len(src_tokenizer.word_index)\n",
    "\n",
    "# 등장 빈도수가 threshold보다 작은 단어의 개수를 카운트\n",
    "rare_cnt = 0\n",
    "\n",
    "# 훈련 데이터의 전체 단어 빈도수 총 합\n",
    "total_freq = 0\n",
    "\n",
    "# 등장 빈도수가 threshold보다 작은 단어의 등장 빈도수의 총 합\n",
    "rare_freq = 0\n",
    "\n",
    "\n",
    "for k, v in src_tokenizer.word_counts.items():\n",
    "    total_freq += v\n",
    "    \n",
    "    # 단어의 등장 빈도수가 threshold보다 작으면\n",
    "    if v < threshold:\n",
    "        rare_cnt += 1\n",
    "        rare_freq += v\n",
    "        \n",
    "print('단어 집합(vocabulary)의 크기 :', total_cnt)\n",
    "print('등장 빈도가 %s번 이하인 희귀 단어의 수: %s'%(threshold - 1, rare_cnt))\n",
    "print('단어 집합에서 희귀 단어를 제외시킬 경우의 단어 집합의 크기 %s'%(total_cnt - rare_cnt))\n",
    "print(\"단어 집합에서 희귀 단어의 비율:\", (rare_cnt / total_cnt)*100)\n",
    "print(\"전체 등장 빈도에서 희귀 단어 등장 빈도 비율:\", (rare_freq / total_freq)*100)"
   ]
  },
  {
   "cell_type": "code",
   "execution_count": 38,
   "id": "square-dodge",
   "metadata": {
    "id": "advance-quarterly"
   },
   "outputs": [],
   "source": [
    "src_vocab = 19008\n",
    "\n",
    "src_tokenizer = Tokenizer(num_words=src_vocab) \n",
    "src_tokenizer.fit_on_texts(encoder_input_train) # 단어 집합 재생성."
   ]
  },
  {
   "cell_type": "code",
   "execution_count": 39,
   "id": "understood-producer",
   "metadata": {
    "colab": {
     "base_uri": "https://localhost:8080/"
    },
    "id": "gentle-morris",
    "outputId": "55760fee-06d7-4295-f4f2-508cb48f4700"
   },
   "outputs": [
    {
     "name": "stdout",
     "output_type": "stream",
     "text": [
      "[[3, 126, 5, 3, 4504, 1556, 8, 806, 914, 7, 242, 187, 199, 54, 16546, 2659, 14269, 61, 18, 1, 104, 7, 54, 614, 818, 28, 35, 11910, 2, 94, 56, 2487, 1, 14269, 18, 61, 5, 1, 155, 10, 553, 1, 1889, 77, 40, 3128, 379, 4436, 32, 962, 12, 245, 3499, 32, 2953, 22, 61, 5, 1, 16546], [703, 200, 6, 340, 5, 5173, 184, 1736, 1797, 2864, 2461, 8, 10, 11, 81, 26, 2, 384, 2, 389, 2, 1590, 793, 81, 1291, 5, 26, 2, 11911, 4, 336, 2, 2384, 11, 998, 14, 30, 2461, 41, 4717, 51, 389, 6809, 6, 5266, 11, 4, 336, 2, 26, 1327, 4, 389, 1, 681, 5, 4153, 765, 25, 6976], [315, 4, 1159, 26, 699, 3, 9322, 2109, 122, 1824, 11, 80, 1476, 71, 1108, 7436, 16547, 4, 1, 126, 1, 4998, 2109, 13, 245, 239, 2, 16548, 3, 4104, 5, 16, 29, 11616, 1469, 6, 10374, 21, 93, 1, 1634, 1, 2109, 13, 982, 9, 4466, 5, 2924, 9, 6887, 5036, 216, 20, 2808, 783, 6, 5708]]\n"
     ]
    }
   ],
   "source": [
    "# 텍스트 시퀀스를 정수 시퀀스로 변환\n",
    "encoder_input_train = src_tokenizer.texts_to_sequences(encoder_input_train) \n",
    "encoder_input_test = src_tokenizer.texts_to_sequences(encoder_input_test)\n",
    "\n",
    "# 잘 진행되었는지 샘플 출력\n",
    "print(encoder_input_train[:3])"
   ]
  },
  {
   "cell_type": "code",
   "execution_count": null,
   "id": "lesbian-booth",
   "metadata": {},
   "outputs": [],
   "source": [
    "word_count_dict = src_tokenizer.word_counts\n",
    "\n",
    "counts = [cnt for word, cnt in word_count_dict.items()]\n",
    "words = [word for word, cnt in word_count_dict.items()]\n",
    "\n",
    "plt.figure(figsize=(4, 5))\n",
    "plt.boxplot(counts)\n",
    "plt.xticks([])\n",
    "plt.title('Word Counts Distribution', fontsize=15)\n",
    "plt.tight_layout()\n",
    "plt.show()"
   ]
  },
  {
   "cell_type": "markdown",
   "id": "electrical-stranger",
   "metadata": {
    "id": "impossible-organic"
   },
   "source": [
    "### headline 데이터에 동일한 작업 수행"
   ]
  },
  {
   "cell_type": "code",
   "execution_count": 40,
   "id": "verified-prairie",
   "metadata": {
    "id": "fifth-leeds"
   },
   "outputs": [],
   "source": [
    "# summary data에 동일한 작업 수행\n",
    "tar_tokenizer = Tokenizer()\n",
    "tar_tokenizer.fit_on_texts(decoder_input_train)"
   ]
  },
  {
   "cell_type": "code",
   "execution_count": 41,
   "id": "hungry-textbook",
   "metadata": {
    "colab": {
     "base_uri": "https://localhost:8080/"
    },
    "id": "hollywood-albert",
    "outputId": "4835233f-b1d0-4fda-b961-ff13d087fe65"
   },
   "outputs": [
    {
     "name": "stdout",
     "output_type": "stream",
     "text": [
      "단어 집합(vocabulary)의 크기 : 31895\n",
      "등장 빈도가 3번 이하인 희귀 단어의 수: 18253\n",
      "단어 집합에서 희귀 단어를 제외시킬 경우의 단어 집합의 크기 13642\n",
      "단어 집합에서 희귀 단어의 비율: 57.22840570622355\n",
      "전체 등장 빈도에서 희귀 단어 등장 빈도 비율: 3.3454728178809\n"
     ]
    }
   ],
   "source": [
    "threshold = 4\n",
    "total_cnt = len(tar_tokenizer.word_index) # 단어의 수\n",
    "rare_cnt = 0 # 등장 빈도수가 threshold보다 작은 단어의 개수를 카운트\n",
    "total_freq = 0 # 훈련 데이터의 전체 단어 빈도수 총 합\n",
    "rare_freq = 0 # 등장 빈도수가 threshold보다 작은 단어의 등장 빈도수의 총 합\n",
    "\n",
    "# 단어와 빈도수의 쌍(pair)을 key와 value로 받는다.\n",
    "for key, value in tar_tokenizer.word_counts.items():\n",
    "    total_freq = total_freq + value\n",
    "\n",
    "    # 단어의 등장 빈도수가 threshold보다 작으면\n",
    "    if(value < threshold):\n",
    "        rare_cnt = rare_cnt + 1\n",
    "        rare_freq = rare_freq + value\n",
    "\n",
    "print('단어 집합(vocabulary)의 크기 :', total_cnt)\n",
    "print('등장 빈도가 %s번 이하인 희귀 단어의 수: %s'%(threshold - 1, rare_cnt))\n",
    "print('단어 집합에서 희귀 단어를 제외시킬 경우의 단어 집합의 크기 %s'%(total_cnt - rare_cnt))\n",
    "print(\"단어 집합에서 희귀 단어의 비율:\", (rare_cnt / total_cnt)*100)\n",
    "print(\"전체 등장 빈도에서 희귀 단어 등장 빈도 비율:\", (rare_freq / total_freq)*100)"
   ]
  },
  {
   "cell_type": "code",
   "execution_count": 42,
   "id": "amino-workstation",
   "metadata": {
    "colab": {
     "base_uri": "https://localhost:8080/"
    },
    "id": "cellular-sight",
    "outputId": "b0013011-2817-4320-ec16-1960d04c279f"
   },
   "outputs": [
    {
     "name": "stdout",
     "output_type": "stream",
     "text": [
      "input  [[1, 11937, 2307, 9050, 7, 8449, 518, 763, 11, 3029, 1428], [1, 147, 53, 3, 280, 3, 322, 3, 808, 588, 2261, 1395], [1, 7406, 967, 91, 81, 3475, 1678, 11938, 103], [1, 376, 92, 103, 5, 18, 4110, 22, 4111, 719, 448], [1, 291, 10751, 30, 13, 106, 12, 1049, 374]]\n",
      "decoder  [[11937, 2307, 9050, 7, 8449, 518, 763, 11, 3029, 1428, 2], [147, 53, 3, 280, 3, 322, 3, 808, 588, 2261, 1395, 2], [7406, 967, 91, 81, 3475, 1678, 11938, 103, 2], [376, 92, 103, 5, 18, 4110, 22, 4111, 719, 448, 2], [291, 10751, 30, 13, 106, 12, 1049, 374, 2]]\n"
     ]
    }
   ],
   "source": [
    "tar_vocab = 13642\n",
    "tar_tokenizer = Tokenizer(num_words=tar_vocab) \n",
    "tar_tokenizer.fit_on_texts(decoder_input_train)\n",
    "tar_tokenizer.fit_on_texts(decoder_target_train)\n",
    "\n",
    "# 텍스트 시퀀스를 정수 시퀀스로 변환\n",
    "decoder_input_train = tar_tokenizer.texts_to_sequences(decoder_input_train) \n",
    "decoder_target_train = tar_tokenizer.texts_to_sequences(decoder_target_train)\n",
    "decoder_input_test = tar_tokenizer.texts_to_sequences(decoder_input_test)\n",
    "decoder_target_test = tar_tokenizer.texts_to_sequences(decoder_target_test)\n",
    "\n",
    "# 잘 변환되었는지 확인\n",
    "print('input ',decoder_input_train[:5])\n",
    "print('decoder ',decoder_target_train[:5])"
   ]
  },
  {
   "cell_type": "code",
   "execution_count": 43,
   "id": "level-consumption",
   "metadata": {
    "colab": {
     "base_uri": "https://localhost:8080/"
    },
    "id": "silent-compiler",
    "outputId": "ba084d89-dd43-4bb3-ce90-be828f345c7c"
   },
   "outputs": [
    {
     "name": "stdout",
     "output_type": "stream",
     "text": [
      "삭제할 훈련 데이터의 개수 : 0\n",
      "삭제할 테스트 데이터의 개수 : 0\n",
      "훈련 데이터의 개수 : 78663\n",
      "훈련 레이블의 개수 : 78663\n",
      "테스트 데이터의 개수 : 19666\n",
      "테스트 레이블의 개수 : 19666\n"
     ]
    }
   ],
   "source": [
    "drop_train = [index for index, sentence in enumerate(decoder_input_train) if len(sentence) == 1]\n",
    "drop_test = [index for index, sentence in enumerate(decoder_input_test) if len(sentence) == 1]\n",
    "\n",
    "print('삭제할 훈련 데이터의 개수 :', len(drop_train))\n",
    "print('삭제할 테스트 데이터의 개수 :', len(drop_test))\n",
    "\n",
    "encoder_input_train = np.delete(encoder_input_train, drop_train, axis=0)\n",
    "decoder_input_train = np.delete(decoder_input_train, drop_train, axis=0)\n",
    "decoder_target_train = np.delete(decoder_target_train, drop_train, axis=0)\n",
    "\n",
    "encoder_input_test = np.delete(encoder_input_test, drop_test, axis=0)\n",
    "decoder_input_test = np.delete(decoder_input_test, drop_test, axis=0)\n",
    "decoder_target_test = np.delete(decoder_target_test, drop_test, axis=0)\n",
    "\n",
    "print('훈련 데이터의 개수 :', len(encoder_input_train))\n",
    "print('훈련 레이블의 개수 :', len(decoder_input_train))\n",
    "print('테스트 데이터의 개수 :', len(encoder_input_test))\n",
    "print('테스트 레이블의 개수 :', len(decoder_input_test))"
   ]
  },
  {
   "cell_type": "markdown",
   "id": "paperback-hierarchy",
   "metadata": {
    "id": "identical-support"
   },
   "source": [
    "## 패딩 추가"
   ]
  },
  {
   "cell_type": "code",
   "execution_count": 44,
   "id": "published-helmet",
   "metadata": {
    "id": "systematic-diploma"
   },
   "outputs": [],
   "source": [
    "encoder_input_train = pad_sequences(encoder_input_train, maxlen=text_max_len, padding='post')\n",
    "encoder_input_test = pad_sequences(encoder_input_test, maxlen=text_max_len, padding='post')\n",
    "\n",
    "decoder_input_train = pad_sequences(decoder_input_train, maxlen=summary_max_len, padding='post')\n",
    "decoder_target_train = pad_sequences(decoder_target_train, maxlen=summary_max_len, padding='post')\n",
    "\n",
    "decoder_input_test = pad_sequences(decoder_input_test, maxlen=summary_max_len, padding='post')\n",
    "decoder_target_test = pad_sequences(decoder_target_test, maxlen=summary_max_len, padding='post')"
   ]
  },
  {
   "cell_type": "markdown",
   "id": "ceramic-montgomery",
   "metadata": {
    "id": "equivalent-acrylic"
   },
   "source": [
    "<hr>\n",
    "\n",
    "<br>\n",
    "\n",
    "## 모델 설계: seq2seq + Attention"
   ]
  },
  {
   "cell_type": "code",
   "execution_count": 45,
   "id": "egyptian-danger",
   "metadata": {
    "colab": {
     "base_uri": "https://localhost:8080/"
    },
    "id": "alpine-israel",
    "outputId": "716ebd75-acee-451d-ab61-6db493989ab3"
   },
   "outputs": [
    {
     "name": "stdout",
     "output_type": "stream",
     "text": [
      "WARNING:tensorflow:Layer lstm will not use cuDNN kernel since it doesn't meet the cuDNN kernel criteria. It will use generic GPU kernel as fallback when running on GPU\n",
      "WARNING:tensorflow:Layer lstm_1 will not use cuDNN kernel since it doesn't meet the cuDNN kernel criteria. It will use generic GPU kernel as fallback when running on GPU\n",
      "WARNING:tensorflow:Layer lstm_2 will not use cuDNN kernel since it doesn't meet the cuDNN kernel criteria. It will use generic GPU kernel as fallback when running on GPU\n"
     ]
    }
   ],
   "source": [
    "# 인코더 설계 시작\n",
    "embedding_dim = 128\n",
    "hidden_size = 256     # hidden state의 크기\n",
    "\n",
    "# 인코더\n",
    "encoder_inputs = Input(shape=(text_max_len,))\n",
    "\n",
    "# 인코더의 임베딩 층\n",
    "enc_emb = Embedding(src_vocab, embedding_dim)(encoder_inputs)\n",
    "\n",
    "# 인코더의 LSTM 1\n",
    "encoder_lstm1 = LSTM(hidden_size, return_sequences=True, return_state=True ,dropout=0.4, recurrent_dropout=0.4)\n",
    "encoder_output1, state_h1, state_c1 = encoder_lstm1(enc_emb)\n",
    "\n",
    "# 인코더의 LSTM 2\n",
    "encoder_lstm2 = LSTM(hidden_size, return_sequences=True, return_state=True, dropout=0.4, recurrent_dropout=0.4)\n",
    "encoder_output2, state_h2, state_c2 = encoder_lstm2(encoder_output1)\n",
    "\n",
    "# 인코더의 LSTM 3\n",
    "encoder_lstm3 = LSTM(hidden_size, return_state=True, return_sequences=True, dropout=0.4, recurrent_dropout=0.4)\n",
    "encoder_outputs, state_h, state_c= encoder_lstm3(encoder_output2)"
   ]
  },
  {
   "cell_type": "code",
   "execution_count": 46,
   "id": "accepting-trouble",
   "metadata": {
    "colab": {
     "base_uri": "https://localhost:8080/"
    },
    "id": "coastal-appendix",
    "outputId": "137cd9c1-9464-4d20-b89a-79feda64c52d",
    "scrolled": true
   },
   "outputs": [
    {
     "name": "stdout",
     "output_type": "stream",
     "text": [
      "WARNING:tensorflow:Layer lstm_3 will not use cuDNN kernel since it doesn't meet the cuDNN kernel criteria. It will use generic GPU kernel as fallback when running on GPU\n"
     ]
    }
   ],
   "source": [
    "# 디코더 설계\n",
    "decoder_inputs = Input(shape=(None,))\n",
    "\n",
    "# 디코더의 임베딩 층\n",
    "dec_emb_layer = Embedding(tar_vocab, embedding_dim)\n",
    "dec_emb = dec_emb_layer(decoder_inputs)\n",
    "\n",
    "# 디코더의 LSTM\n",
    "decoder_lstm = LSTM(hidden_size, return_sequences=True, return_state=True, dropout=0.4, recurrent_dropout=0.2)\n",
    "decoder_outputs, _, _ = decoder_lstm(dec_emb, initial_state=[state_h, state_c])"
   ]
  },
  {
   "cell_type": "code",
   "execution_count": 47,
   "id": "musical-oxide",
   "metadata": {
    "id": "received-client"
   },
   "outputs": [],
   "source": [
    "# 어텐션 층(어텐션 함수)\n",
    "attn_layer = AttentionLayer(name='attention_layer')\n",
    "# 인코더와 디코더의 모든 time step의 hidden state를 어텐션 층에 전달하고 결과를 리턴\n",
    "attn_out, attn_states = attn_layer([encoder_outputs, decoder_outputs])\n",
    "\n",
    "# 어텐션의 결과와 디코더의 hidden state들을 연결\n",
    "decoder_concat_input = Concatenate(axis=-1, name='concat_layer')([decoder_outputs, attn_out])\n",
    "\n",
    "# 디코더의 출력층\n",
    "decoder_softmax_layer = Dense(tar_vocab, activation='softmax')\n",
    "decoder_softmax_outputs = decoder_softmax_layer(decoder_concat_input)"
   ]
  },
  {
   "cell_type": "code",
   "execution_count": 48,
   "id": "dominican-accordance",
   "metadata": {
    "colab": {
     "base_uri": "https://localhost:8080/"
    },
    "id": "psychological-consideration",
    "outputId": "bf01373d-d057-4770-9f97-8b46959724df"
   },
   "outputs": [
    {
     "name": "stdout",
     "output_type": "stream",
     "text": [
      "Model: \"model\"\n",
      "__________________________________________________________________________________________________\n",
      "Layer (type)                    Output Shape         Param #     Connected to                     \n",
      "==================================================================================================\n",
      "input_1 (InputLayer)            [(None, 80)]         0                                            \n",
      "__________________________________________________________________________________________________\n",
      "embedding (Embedding)           (None, 80, 128)      2433024     input_1[0][0]                    \n",
      "__________________________________________________________________________________________________\n",
      "lstm (LSTM)                     [(None, 80, 256), (N 394240      embedding[0][0]                  \n",
      "__________________________________________________________________________________________________\n",
      "input_2 (InputLayer)            [(None, None)]       0                                            \n",
      "__________________________________________________________________________________________________\n",
      "lstm_1 (LSTM)                   [(None, 80, 256), (N 525312      lstm[0][0]                       \n",
      "__________________________________________________________________________________________________\n",
      "embedding_1 (Embedding)         (None, None, 128)    1746176     input_2[0][0]                    \n",
      "__________________________________________________________________________________________________\n",
      "lstm_2 (LSTM)                   [(None, 80, 256), (N 525312      lstm_1[0][0]                     \n",
      "__________________________________________________________________________________________________\n",
      "lstm_3 (LSTM)                   [(None, None, 256),  394240      embedding_1[0][0]                \n",
      "                                                                 lstm_2[0][1]                     \n",
      "                                                                 lstm_2[0][2]                     \n",
      "__________________________________________________________________________________________________\n",
      "attention_layer (AttentionLayer ((None, None, 256),  131328      lstm_2[0][0]                     \n",
      "                                                                 lstm_3[0][0]                     \n",
      "__________________________________________________________________________________________________\n",
      "concat_layer (Concatenate)      (None, None, 512)    0           lstm_3[0][0]                     \n",
      "                                                                 attention_layer[0][0]            \n",
      "__________________________________________________________________________________________________\n",
      "dense (Dense)                   (None, None, 13642)  6998346     concat_layer[0][0]               \n",
      "==================================================================================================\n",
      "Total params: 13,147,978\n",
      "Trainable params: 13,147,978\n",
      "Non-trainable params: 0\n",
      "__________________________________________________________________________________________________\n"
     ]
    }
   ],
   "source": [
    "# 모델 정의\n",
    "model = Model([encoder_inputs, decoder_inputs], decoder_softmax_outputs)\n",
    "model.summary()"
   ]
  },
  {
   "cell_type": "code",
   "execution_count": 49,
   "id": "unexpected-award",
   "metadata": {
    "colab": {
     "base_uri": "https://localhost:8080/",
     "height": 336
    },
    "id": "5TuvV3Rg4TX3",
    "outputId": "460f24e8-f0a4-46d2-afd9-148782604bd6"
   },
   "outputs": [
    {
     "data": {
      "image/png": "[encoded data removed]",
      "text/plain": [
       "<IPython.core.display.Image object>"
      ]
     },
     "execution_count": 49,
     "metadata": {},
     "output_type": "execute_result"
    }
   ],
   "source": [
    "plot_model(model, show_shapes=True, show_layer_names=True)"
   ]
  },
  {
   "cell_type": "markdown",
   "id": "innocent-incident",
   "metadata": {
    "id": "boolean-colon"
   },
   "source": [
    "## 모델 학습"
   ]
  },
  {
   "cell_type": "code",
   "execution_count": 50,
   "id": "reserved-ministry",
   "metadata": {
    "colab": {
     "base_uri": "https://localhost:8080/"
    },
    "id": "equivalent-static",
    "outputId": "bdc93b73-0c20-4a9d-df5a-0d50e28db795"
   },
   "outputs": [
    {
     "data": {
      "text/plain": [
       "[PhysicalDevice(name='/physical_device:GPU:0', device_type='GPU')]"
      ]
     },
     "execution_count": 50,
     "metadata": {},
     "output_type": "execute_result"
    }
   ],
   "source": [
    "tf.config.list_physical_devices('GPU')"
   ]
  },
  {
   "cell_type": "code",
   "execution_count": 51,
   "id": "native-tampa",
   "metadata": {
    "id": "GFb4MBZX7I2H"
   },
   "outputs": [],
   "source": [
    "model.compile(optimizer='rmsprop', loss='sparse_categorical_crossentropy', experimental_run_tf_function=False)\n",
    "\n",
    "es = EarlyStopping(monitor='val_loss', patience=2, verbose=1)"
   ]
  },
  {
   "cell_type": "code",
   "execution_count": 52,
   "id": "young-laptop",
   "metadata": {
    "colab": {
     "base_uri": "https://localhost:8080/",
     "height": 603
    },
    "id": "advisory-latter",
    "outputId": "b6b9e1d4-8bc2-45d2-ce66-979edb395c23"
   },
   "outputs": [
    {
     "name": "stdout",
     "output_type": "stream",
     "text": [
      "Train on 78663 samples, validate on 19666 samples\n",
      "Epoch 1/50\n",
      "78663/78663 [==============================] - 352s 4ms/sample - loss: 4.0323 - val_loss: 3.6892\n",
      "Epoch 2/50\n",
      "78663/78663 [==============================] - 347s 4ms/sample - loss: 3.6025 - val_loss: 3.4216\n",
      "Epoch 3/50\n",
      "78663/78663 [==============================] - 349s 4ms/sample - loss: 3.3718 - val_loss: 3.2430\n",
      "Epoch 4/50\n",
      "78663/78663 [==============================] - 345s 4ms/sample - loss: 3.1825 - val_loss: 3.1054\n",
      "Epoch 5/50\n",
      "78663/78663 [==============================] - 341s 4ms/sample - loss: 3.0328 - val_loss: 3.0058\n",
      "Epoch 6/50\n",
      "78663/78663 [==============================] - 337s 4ms/sample - loss: 2.9093 - val_loss: 2.9216\n",
      "Epoch 7/50\n",
      "78663/78663 [==============================] - 337s 4ms/sample - loss: 2.8062 - val_loss: 2.8430\n",
      "Epoch 8/50\n",
      "78663/78663 [==============================] - 338s 4ms/sample - loss: 2.7137 - val_loss: 2.7884\n",
      "Epoch 9/50\n",
      "78663/78663 [==============================] - 337s 4ms/sample - loss: 2.6348 - val_loss: 2.7449\n",
      "Epoch 10/50\n",
      "78663/78663 [==============================] - 337s 4ms/sample - loss: 2.5640 - val_loss: 2.7065\n",
      "Epoch 11/50\n",
      "78663/78663 [==============================] - 337s 4ms/sample - loss: 2.4985 - val_loss: 2.6678\n",
      "Epoch 12/50\n",
      "78663/78663 [==============================] - 337s 4ms/sample - loss: 2.4398 - val_loss: 2.6486\n",
      "Epoch 13/50\n",
      "78663/78663 [==============================] - 337s 4ms/sample - loss: 2.3887 - val_loss: 2.6190\n",
      "Epoch 14/50\n",
      "78663/78663 [==============================] - 337s 4ms/sample - loss: 2.3405 - val_loss: 2.6062\n",
      "Epoch 15/50\n",
      "78663/78663 [==============================] - 338s 4ms/sample - loss: 2.2973 - val_loss: 2.5764\n",
      "Epoch 16/50\n",
      "78663/78663 [==============================] - 338s 4ms/sample - loss: 2.2545 - val_loss: 2.5638\n",
      "Epoch 17/50\n",
      "78663/78663 [==============================] - 337s 4ms/sample - loss: 2.2174 - val_loss: 2.5578\n",
      "Epoch 18/50\n",
      "78663/78663 [==============================] - 337s 4ms/sample - loss: 2.1820 - val_loss: 2.5401\n",
      "Epoch 19/50\n",
      "78663/78663 [==============================] - 337s 4ms/sample - loss: 2.1473 - val_loss: 2.5323\n",
      "Epoch 20/50\n",
      "78663/78663 [==============================] - 337s 4ms/sample - loss: 2.1161 - val_loss: 2.5224\n",
      "Epoch 21/50\n",
      "78663/78663 [==============================] - 338s 4ms/sample - loss: 2.0853 - val_loss: 2.5060\n",
      "Epoch 22/50\n",
      "78663/78663 [==============================] - 337s 4ms/sample - loss: 2.0533 - val_loss: 2.4963\n",
      "Epoch 23/50\n",
      "78663/78663 [==============================] - 337s 4ms/sample - loss: 2.0285 - val_loss: 2.4887\n",
      "Epoch 24/50\n",
      "78663/78663 [==============================] - 337s 4ms/sample - loss: 2.0040 - val_loss: 2.4839\n",
      "Epoch 25/50\n",
      "78663/78663 [==============================] - 337s 4ms/sample - loss: 1.9809 - val_loss: 2.4768\n",
      "Epoch 26/50\n",
      "78663/78663 [==============================] - 337s 4ms/sample - loss: 1.9585 - val_loss: 2.4773\n",
      "Epoch 27/50\n",
      "78663/78663 [==============================] - 338s 4ms/sample - loss: 1.9371 - val_loss: 2.4721\n",
      "Epoch 28/50\n",
      "78663/78663 [==============================] - 337s 4ms/sample - loss: 1.9145 - val_loss: 2.4692\n",
      "Epoch 29/50\n",
      "78663/78663 [==============================] - 338s 4ms/sample - loss: 1.8919 - val_loss: 2.4586\n",
      "Epoch 30/50\n",
      "78663/78663 [==============================] - 337s 4ms/sample - loss: 1.8730 - val_loss: 2.4542\n",
      "Epoch 31/50\n",
      "78663/78663 [==============================] - 337s 4ms/sample - loss: 1.8551 - val_loss: 2.4539\n",
      "Epoch 32/50\n",
      "78663/78663 [==============================] - 337s 4ms/sample - loss: 1.8363 - val_loss: 2.4677\n",
      "Epoch 33/50\n",
      "78663/78663 [==============================] - 337s 4ms/sample - loss: 1.8201 - val_loss: 2.4528\n",
      "Epoch 34/50\n",
      "78663/78663 [==============================] - 337s 4ms/sample - loss: 1.8049 - val_loss: 2.4465\n",
      "Epoch 35/50\n",
      "78663/78663 [==============================] - 338s 4ms/sample - loss: 1.7901 - val_loss: 2.4587\n",
      "Epoch 36/50\n",
      "78663/78663 [==============================] - 338s 4ms/sample - loss: 1.7741 - val_loss: 2.4502\n",
      "Epoch 00036: early stopping\n"
     ]
    }
   ],
   "source": [
    "history = model.fit(x=[encoder_input_train, decoder_input_train], y=decoder_target_train, \\\n",
    "          validation_data=([encoder_input_test, decoder_input_test], decoder_target_test), \\\n",
    "          batch_size=256, callbacks=[es], epochs=50)"
   ]
  },
  {
   "cell_type": "code",
   "execution_count": 53,
   "id": "planned-rendering",
   "metadata": {
    "id": "revised-cyprus"
   },
   "outputs": [
    {
     "data": {
      "image/png": "[encoded data removed]",
      "text/plain": [
       "<Figure size 432x288 with 1 Axes>"
      ]
     },
     "metadata": {
      "needs_background": "light"
     },
     "output_type": "display_data"
    }
   ],
   "source": [
    "plt.plot(history.history['loss'], label='train')\n",
    "plt.plot(history.history['val_loss'], label='test')\n",
    "plt.legend()\n",
    "plt.show()"
   ]
  },
  {
   "cell_type": "code",
   "execution_count": 54,
   "id": "mysterious-plain",
   "metadata": {
    "id": "descending-feature"
   },
   "outputs": [],
   "source": [
    "src_index_to_word = src_tokenizer.index_word # 원문 단어 집합에서 정수 -> 단어를 얻음\n",
    "tar_word_to_index = tar_tokenizer.word_index # 요약 단어 집합에서 단어 -> 정수를 얻음\n",
    "tar_index_to_word = tar_tokenizer.index_word # 요약 단어 집합에서 정수 -> 단어를 얻음"
   ]
  },
  {
   "cell_type": "code",
   "execution_count": 55,
   "id": "rocky-sword",
   "metadata": {
    "id": "impressive-editor"
   },
   "outputs": [],
   "source": [
    "# 인코더 설계\n",
    "encoder_model = Model(inputs=encoder_inputs, outputs=[encoder_outputs, state_h, state_c])\n",
    "\n",
    "# 이전 시점의 상태들을 저장하는 텐서\n",
    "decoder_state_input_h = Input(shape=(hidden_size,))\n",
    "decoder_state_input_c = Input(shape=(hidden_size,))\n",
    "\n",
    "dec_emb2 = dec_emb_layer(decoder_inputs)\n",
    "\n",
    "# 문장의 다음 단어를 예측하기 위해서 초기 상태(initial_state)를 이전 시점의 상태로 사용. 이는 뒤의 함수 decode_sequence()에 구현\n",
    "# 훈련 과정에서와 달리 LSTM의 리턴하는 은닉 상태와 셀 상태인 state_h와 state_c를 버리지 않음.\n",
    "decoder_outputs2, state_h2, state_c2 = decoder_lstm(dec_emb2, initial_state=[decoder_state_input_h, decoder_state_input_c])"
   ]
  },
  {
   "cell_type": "code",
   "execution_count": 56,
   "id": "afraid-anniversary",
   "metadata": {
    "id": "violent-medicine"
   },
   "outputs": [],
   "source": [
    "# 어텐션 함수\n",
    "decoder_hidden_state_input = Input(shape=(text_max_len, hidden_size))\n",
    "attn_out_inf, attn_states_inf = attn_layer([decoder_hidden_state_input, decoder_outputs2])\n",
    "decoder_inf_concat = Concatenate(axis=-1, name='concat')([decoder_outputs2, attn_out_inf])\n",
    "\n",
    "# 디코더의 출력층\n",
    "decoder_outputs2 = decoder_softmax_layer(decoder_inf_concat) \n",
    "\n",
    "# 최종 디코더 모델\n",
    "decoder_model = Model(\n",
    "    [decoder_inputs] + [decoder_hidden_state_input,decoder_state_input_h, decoder_state_input_c],\n",
    "    [decoder_outputs2] + [state_h2, state_c2])"
   ]
  },
  {
   "cell_type": "code",
   "execution_count": 57,
   "id": "classical-fellow",
   "metadata": {
    "id": "outside-dublin"
   },
   "outputs": [],
   "source": [
    "def decode_sequence(input_seq):\n",
    "    # 입력으로부터 인코더의 상태를 얻음\n",
    "    e_out, e_h, e_c = encoder_model.predict(input_seq)\n",
    "\n",
    "     # <SOS>에 해당하는 토큰 생성\n",
    "    target_seq = np.zeros((1,1))\n",
    "    target_seq[0, 0] = tar_word_to_index['sostoken']\n",
    "\n",
    "    stop_condition = False\n",
    "    decoded_sentence = ''\n",
    "    while not stop_condition: # stop_condition이 True가 될 때까지 루프 반복\n",
    "\n",
    "        output_tokens, h, c = decoder_model.predict([target_seq] + [e_out, e_h, e_c])\n",
    "        sampled_token_index = np.argmax(output_tokens[0, -1, :])\n",
    "        sampled_token = tar_index_to_word[sampled_token_index]\n",
    "\n",
    "        if (sampled_token!='eostoken'):\n",
    "            decoded_sentence += ' '+sampled_token\n",
    "\n",
    "        #  <eos>에 도달하거나 최대 길이를 넘으면 중단.\n",
    "        if (sampled_token == 'eostoken'  or len(decoded_sentence.split()) >= (summary_max_len-1)):\n",
    "            stop_condition = True\n",
    "\n",
    "        # 길이가 1인 타겟 시퀀스를 업데이트\n",
    "        target_seq = np.zeros((1,1))\n",
    "        target_seq[0, 0] = sampled_token_index\n",
    "\n",
    "        # 상태를 업데이트 합니다.\n",
    "        e_h, e_c = h, c\n",
    "\n",
    "    return decoded_sentence"
   ]
  },
  {
   "cell_type": "markdown",
   "id": "liable-christianity",
   "metadata": {
    "id": "worldwide-dependence"
   },
   "source": [
    "<hr>\n",
    "\n",
    "<br>\n",
    "\n",
    "\n",
    "## 모델 검증, 성능 확인"
   ]
  },
  {
   "cell_type": "code",
   "execution_count": 58,
   "id": "enhanced-myrtle",
   "metadata": {
    "id": "mineral-pierce"
   },
   "outputs": [],
   "source": [
    "# 원문의 정수 시퀀스를 텍스트 시퀀스로 변환\n",
    "def seq2text(input_seq):\n",
    "    temp=''\n",
    "    for i in input_seq:\n",
    "        if (i!=0):\n",
    "            temp = temp + src_index_to_word[i]+' '\n",
    "    return temp\n",
    "\n",
    "\n",
    "# 요약문의 정수 시퀀스를 텍스트 시퀀스로 변환\n",
    "def seq2summary(input_seq):\n",
    "    temp=''\n",
    "    for i in input_seq:\n",
    "        if ((i!=0 and i!=tar_word_to_index['sostoken']) and i!=tar_word_to_index['eostoken']):\n",
    "            temp = temp + tar_index_to_word[i] + ' '\n",
    "    return temp"
   ]
  },
  {
   "cell_type": "code",
   "execution_count": 59,
   "id": "terminal-barrel",
   "metadata": {
    "id": "conscious-local"
   },
   "outputs": [
    {
     "name": "stdout",
     "output_type": "stream",
     "text": [
      "원문 : three billboards outside missouri on monday won the best motion picture award in the drama category at this years th golden globe awards the film also won another major award when frances was named best actress in the the drama category meanwhile gary won the best actor in the drama category for darkest hour \n",
      "실제 요약 : three billboards named best picture at golden globes \n",
      "예측 요약 :  wins golden globes at golden globes\n",
      "\n",
      "\n",
      "원문 : describing the security across the loc as tense a united nations official has said that the un military observer group in india and pakistan is investigating alleged ceasefire violations in the pok the un continues to the need for the parties to find a peaceful solution through engagement and dialogue he added \n",
      "실제 요약 : un group probing ceasefire violations in pok official \n",
      "예측 요약 :  india must be in india pakistan on un aid\n",
      "\n",
      "\n",
      "원문 : british singer zayn malik has revealed that his favourite bollywood song is chaiyya chaiyya from shah rukh khan starrer film dil se its like a scene on a train he added while talking about the song zayn further revealed that his favourite bollywood films are kabhi khushi kabhie gham and devdas \n",
      "실제 요약 : my favourite bollywood song is chaiyya chaiyya zayn malik \n",
      "예측 요약 :  singer ed sheeran dances to song on song\n",
      "\n",
      "\n",
      "원문 : a us court has allowed a mans results to be used as evidence to prove that he burned his own home for insurance money the man had claimed that upon seeing his house burning he packed his bags and tossed them out of his window however his showed it was highly that he carried out the task \n",
      "실제 요약 : data from a mans used against him in ongoing case \n",
      "예측 요약 :  man sends legal notice to man who stole him to use\n",
      "\n",
      "\n",
      "원문 : following zaheer khans engagement to actress sagarika ghatge virender sehwag tweeted zaheer clean bowled by hockey sagarika portrayed the character of a hockey player who was engaged to a cricketer in chak de india zaheer and sagarika confirmed their engagement on twitter on monday with the cricketer posting a picture of the couple in which sagarika is her ring \n",
      "실제 요약 : zaheer clean bowled by hockey tweets sehwag \n",
      "예측 요약 :  which hockey players have played sehwag on sehwag hockey match\n",
      "\n",
      "\n",
      "원문 : paytm payments bank savings account holders can now order physical debit cards from the paytm app paytm founder vijay shekhar sharma announced on thursday earlier the bank provided digital rupay card which was linked to a users paytm payments bank savings account the users will be charged a one time fee of to get the card \n",
      "실제 요약 : paytm payments bank starts physical debit card delivery \n",
      "예측 요약 :  paytm payments bank gets paytm payments card paytm payments\n",
      "\n",
      "\n",
      "원문 : an official on wednesday said a year old boy got separated from his parents while from a train at kolkatas metro station and was rescued sometime later three stations away the boy got carried over in the train while at central station the parents informed the station master and security control alerted officials at stations ahead an official said \n",
      "실제 요약 : separated from parents at kolkata metro year old rescued \n",
      "예측 요약 :  yr old boy gets injured in train toilet at mumbai station\n",
      "\n",
      "\n",
      "원문 : praising ranveer singh govinda has said he is very good and i feel he works very hard may god bless him ranveer had earlier said hes a huge govinda fan talking about a scene from kill dil where he gets slapped by govinda ranveer had said just to have been slapped by govinda on screen felt like life ban gayi \n",
      "실제 요약 : ranveer is good and i feel he works very hard govinda \n",
      "예측 요약 :  i feel like a ranveer as a fan ranveer singh\n",
      "\n",
      "\n",
      "원문 : a non bailable warrant has been issued against former bollywood actress kulkarni for her involvement in a drug haul case in the police seized drugs worth crore from a company called which was being diverted to a kenya based firm involved in drug trafficking is currently believed to be outside india \n",
      "실제 요약 : non bailable warrant issued against actress \n",
      "예측 요약 :  warrant issued against ex minister for drug racket\n",
      "\n",
      "\n",
      "원문 : singer selena gomez attended the met gala red carpet with rumoured boyfriend the on monday selena wore an embroidered gown with by coach while the wore a black the couple has been rumoured to be dating since they were first spotted together in los angeles in january \n",
      "실제 요약 : selena attends met gala with rumoured boyfriend the \n",
      "예측 요약 :  singer ed sheeran performs at dinner in pl\n",
      "\n",
      "\n"
     ]
    }
   ],
   "source": [
    "for i in range(70, 80):\n",
    "    print(\"원문 :\", seq2text(encoder_input_test[i]))\n",
    "    print(\"실제 요약 :\", seq2summary(decoder_input_test[i]))\n",
    "    print(\"예측 요약 :\", decode_sequence(encoder_input_test[i].reshape(1, text_max_len)))\n",
    "    print(\"\\n\")"
   ]
  }
 ],
 "metadata": {
  "accelerator": "GPU",
  "colab": {
   "name": "news_summarizer.ipynb",
   "provenance": [],
   "toc_visible": true
  },
  "kernelspec": {
   "display_name": "Python 3",
   "language": "python",
   "name": "python3"
  },
  "language_info": {
   "codemirror_mode": {
    "name": "ipython",
    "version": 3
   },
   "file_extension": ".py",
   "mimetype": "text/x-python",
   "name": "python",
   "nbconvert_exporter": "python",
   "pygments_lexer": "ipython3",
   "version": "3.7.9"
  }
 },
 "nbformat": 4,
 "nbformat_minor": 5
}
